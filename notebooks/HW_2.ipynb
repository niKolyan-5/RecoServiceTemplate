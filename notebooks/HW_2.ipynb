{
 "cells": [
  {
   "cell_type": "markdown",
   "id": "6994547e",
   "metadata": {},
   "source": [
    "## Задние 1"
   ]
  },
  {
   "cell_type": "code",
   "execution_count": 6,
   "id": "967f849f",
   "metadata": {},
   "outputs": [
    {
     "name": "stderr",
     "output_type": "stream",
     "text": [
      "100001it [00:01, 77743.59it/s]\n"
     ]
    },
    {
     "data": {
      "text/html": [
       "<div>\n",
       "<style scoped>\n",
       "    .dataframe tbody tr th:only-of-type {\n",
       "        vertical-align: middle;\n",
       "    }\n",
       "\n",
       "    .dataframe tbody tr th {\n",
       "        vertical-align: top;\n",
       "    }\n",
       "\n",
       "    .dataframe thead th {\n",
       "        text-align: right;\n",
       "    }\n",
       "</style>\n",
       "<table border=\"1\" class=\"dataframe\">\n",
       "  <thead>\n",
       "    <tr style=\"text-align: right;\">\n",
       "      <th></th>\n",
       "      <th>user_id</th>\n",
       "      <th>item_id</th>\n",
       "      <th>order</th>\n",
       "    </tr>\n",
       "  </thead>\n",
       "  <tbody>\n",
       "    <tr>\n",
       "      <th>0</th>\n",
       "      <td>0</td>\n",
       "      <td>333396</td>\n",
       "      <td>53</td>\n",
       "    </tr>\n",
       "    <tr>\n",
       "      <th>1</th>\n",
       "      <td>0</td>\n",
       "      <td>267089</td>\n",
       "      <td>52</td>\n",
       "    </tr>\n",
       "    <tr>\n",
       "      <th>2</th>\n",
       "      <td>0</td>\n",
       "      <td>155959</td>\n",
       "      <td>51</td>\n",
       "    </tr>\n",
       "    <tr>\n",
       "      <th>3</th>\n",
       "      <td>0</td>\n",
       "      <td>353335</td>\n",
       "      <td>50</td>\n",
       "    </tr>\n",
       "    <tr>\n",
       "      <th>4</th>\n",
       "      <td>0</td>\n",
       "      <td>414000</td>\n",
       "      <td>49</td>\n",
       "    </tr>\n",
       "  </tbody>\n",
       "</table>\n",
       "</div>"
      ],
      "text/plain": [
       "   user_id  item_id  order\n",
       "0        0   333396     53\n",
       "1        0   267089     52\n",
       "2        0   155959     51\n",
       "3        0   353335     50\n",
       "4        0   414000     49"
      ]
     },
     "execution_count": 6,
     "metadata": {},
     "output_type": "execute_result"
    }
   ],
   "source": [
    "import pandas as pd\n",
    "from tqdm import tqdm\n",
    "\n",
    "def get_smaple(path: str, limit=100000):\n",
    "\n",
    "    sample_dict = {'user_id': [], 'item_id': [], 'order': []}\n",
    "\n",
    "    with open(path, 'r') as f:\n",
    "        for idx, line in tqdm(enumerate(f.readlines())):\n",
    "            if idx > limit:\n",
    "                break\n",
    "            items = [int(item) for item in line.split()]\n",
    "            sample_dict['user_id'].extend([idx for _ in items])\n",
    "            sample_dict['item_id'].extend([item for item in items])\n",
    "            sample_dict['order'].extend([i for i in reversed(range(len(items)))])\n",
    "\n",
    "    return pd.DataFrame(sample_dict)\n",
    "\n",
    "\n",
    "train_path = '/home/ndubrovnyi/PycharmProjects/itmo_recsys_2022/likes/likes_data/train'\n",
    "\n",
    "interactions = get_smaple(train_path)\n",
    "interactions.head()"
   ]
  },
  {
   "cell_type": "code",
   "execution_count": 8,
   "id": "dc37a78b",
   "metadata": {},
   "outputs": [],
   "source": [
    "from sklearn.model_selection import KFold\n",
    "import numpy as np\n",
    "\n",
    "class UsersKFoldPOut():\n",
    "    def __init__(self, n_folds, p, random_seed=23):\n",
    "        self.n_folds = n_folds\n",
    "        self.p = p\n",
    "        self.random_seed = random_seed\n",
    "\n",
    "    def split(self, df):\n",
    "        users = df['user_id'].unique()\n",
    "        kf = KFold(n_splits=self.n_folds, shuffle=True, random_state=self.random_seed)\n",
    "        for train_index, test_index in kf.split(users):\n",
    "            train_mask = df.user_id.isin(users[train_index])\n",
    "            test_mask = (df.user_id.isin(users[test_index])) & (df.order < self.p)\n",
    "\n",
    "            yield train_mask, test_mask\n"
   ]
  },
  {
   "cell_type": "code",
   "execution_count": 9,
   "id": "f10ddd7e",
   "metadata": {},
   "outputs": [
    {
     "name": "stdout",
     "output_type": "stream",
     "text": [
      "Fold#0 | Train: 5411643, Test: 1117720\n",
      "Fold#1 | Train: 5412945, Test: 1118109\n",
      "Fold#2 | Train: 5438102, Test: 1117745\n"
     ]
    }
   ],
   "source": [
    "cv = UsersKFoldPOut(n_folds=3, p=50)\n",
    "\n",
    "for i, (train_mask, test_mask) in enumerate(cv.split(interactions)):\n",
    "    train = interactions[train_mask]\n",
    "    test = interactions[test_mask]\n",
    "    print(f'Fold#{i} | Train: {train.shape[0]}, Test: {test.shape[0]}')\n",
    "#     print(set(train.user_id).intersection(set(test.user_id)))"
   ]
  },
  {
   "cell_type": "markdown",
   "id": "fcb020ee",
   "metadata": {},
   "source": [
    "## Задание 2"
   ]
  },
  {
   "cell_type": "code",
   "execution_count": 18,
   "id": "e1d65f01",
   "metadata": {},
   "outputs": [],
   "source": [
    "import pandas as pd\n",
    "import warnings\n",
    "import numpy as np\n",
    "\n",
    "qid_query = pd.read_csv(\"./yandex_cup_analytics_A/hidden_task/qid_query.tsv\", sep=\"\\t\", names=[\"qid\", \"query\"])\n",
    "qid_url_rating = pd.read_csv(\"./yandex_cup_analytics_A/hidden_task/qid_url_rating.tsv\", sep=\"\\t\", names=[\"qid\", \"url\", \"rating\"])\n",
    "hostid_url = pd.read_csv(\"./yandex_cup_analytics_A/hidden_task/hostid_url.tsv\", sep=\"\\t\", names=[\"hostid\", \"url\"])\n",
    "\n",
    "qid_url_rating_hostid = pd.merge(qid_url_rating, hostid_url, on=\"url\")"
   ]
  },
  {
   "cell_type": "code",
   "execution_count": 19,
   "id": "b54b1aee",
   "metadata": {},
   "outputs": [
    {
     "name": "stdout",
     "output_type": "stream",
     "text": [
      "Mean pFound: 0.5822199638393889\n",
      "CPU times: user 20.6 ms, sys: 23 µs, total: 20.6 ms\n",
      "Wall time: 18.9 ms\n"
     ]
    }
   ],
   "source": [
    "%%time\n",
    "## Исходное решение\n",
    "\n",
    "warnings.filterwarnings(\"ignore\")\n",
    "\n",
    "\n",
    "def plook(ind, rels):\n",
    "    if ind == 0:\n",
    "                return 1\n",
    "    return plook(ind-1, rels)*(1-rels[ind-1])*(1-0.15)\n",
    "\n",
    "\n",
    "def pfound(group):\n",
    "    max_by_host = group.groupby(\"hostid\")[\"rating\"].max() # максимальный рейтинг хоста\n",
    "    top10 = max_by_host.sort_values(ascending=False)[:10] # берем топ10 урлов с наивысшим рейтингом\n",
    "    pfound = 0\n",
    "    for ind, val in enumerate(top10):\n",
    "                pfound += val*plook(ind, top10.values)\n",
    "    return pfound\n",
    "\n",
    "\n",
    "qid_pfound = qid_url_rating_hostid.groupby('qid').apply(pfound)\n",
    "print('Mean pFound:', np.mean(qid_pfound))\n"
   ]
  },
  {
   "cell_type": "code",
   "execution_count": 20,
   "id": "70ba1471",
   "metadata": {},
   "outputs": [
    {
     "name": "stdout",
     "output_type": "stream",
     "text": [
      "Mean pFound: 0.5822199638393888\n",
      "CPU times: user 11.1 ms, sys: 12 µs, total: 11.1 ms\n",
      "Wall time: 10.6 ms\n"
     ]
    }
   ],
   "source": [
    "%%time\n",
    "## Решение без циклов\n",
    "\n",
    "import pandas as pd\n",
    "\n",
    "\n",
    "def pfound_by_group(group):\n",
    "    qid_group = group.sort_values(ascending=False).reset_index().rename(columns={group.name: 'rating'})\n",
    "    qid_group['1_pRel'] = 1 - qid_group['rating']\n",
    "    qid_group['1_pBreak'] = 1 - pBreak\n",
    "    qid_group['cum_1_pRel'] = qid_group['1_pRel'].cumprod().shift(1)\n",
    "    qid_group['cum_1_pBreak'] = qid_group['1_pBreak'].cumprod().shift(1)\n",
    "    qid_group['plook'] = qid_group['cum_1_pBreak'] * qid_group['cum_1_pRel']\n",
    "    print(qid_group)\n",
    "    qid_group['plook'].fillna(1, inplace=True)\n",
    "    qid_group['plook_prod_rel'] = qid_group['plook'] * qid_group['rating']\n",
    "    return qid_group['plook_prod_rel'].sum()\n",
    "\n",
    "\n",
    "def get_pfound(df, topk=10):\n",
    "    new_df = df.groupby(['qid', 'hostid'])['rating'].max().reset_index()\n",
    "    new_df = new_df.sort_values(by=['qid', 'rating'], ascending=False).groupby('qid').head(topk)\n",
    "    new_df['1_pRel'] = 1 - new_df['rating']\n",
    "    new_df['1_pBreak'] = 1 - pBreak\n",
    "    cumprod_df = new_df.groupby('qid')[['1_pRel', '1_pBreak']].cumprod().shift(1)\n",
    "    cumprod_df.loc[::10] = None\n",
    "    new_df[['cum_1_pRel', 'cum_1_pBreak']] = cumprod_df\n",
    "    new_df['plook'] = new_df['cum_1_pBreak'] * new_df['cum_1_pRel']\n",
    "    new_df['plook'].fillna(1, inplace=True)\n",
    "    new_df['plook_prod_rel'] = new_df['plook'] * new_df['rating']\n",
    "\n",
    "    return np.mean(new_df.groupby('qid')['plook_prod_rel'].sum())\n",
    "\n",
    "\n",
    "\n",
    "\n",
    "pBreak = 0.15\n",
    "\n",
    "pfound = get_pfound(qid_url_rating_hostid)\n",
    "print('Mean pFound:', pfound)\n"
   ]
  }
 ],
 "metadata": {
  "kernelspec": {
   "display_name": "Python 3 (ipykernel)",
   "language": "python",
   "name": "python3"
  },
  "language_info": {
   "codemirror_mode": {
    "name": "ipython",
    "version": 3
   },
   "file_extension": ".py",
   "mimetype": "text/x-python",
   "name": "python",
   "nbconvert_exporter": "python",
   "pygments_lexer": "ipython3",
   "version": "3.10.6"
  }
 },
 "nbformat": 4,
 "nbformat_minor": 5
}
