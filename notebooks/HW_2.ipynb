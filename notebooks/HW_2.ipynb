{
 "cells": [
  {
   "cell_type": "markdown",
   "id": "6994547e",
   "metadata": {},
   "source": [
    "## Задние 1"
   ]
  },
  {
   "cell_type": "code",
   "execution_count": 6,
   "id": "967f849f",
   "metadata": {},
   "outputs": [
    {
     "name": "stderr",
     "output_type": "stream",
     "text": [
      "100001it [00:01, 77743.59it/s]\n"
     ]
    },
    {
     "data": {
      "text/html": [
       "<div>\n",
       "<style scoped>\n",
       "    .dataframe tbody tr th:only-of-type {\n",
       "        vertical-align: middle;\n",
       "    }\n",
       "\n",
       "    .dataframe tbody tr th {\n",
       "        vertical-align: top;\n",
       "    }\n",
       "\n",
       "    .dataframe thead th {\n",
       "        text-align: right;\n",
       "    }\n",
       "</style>\n",
       "<table border=\"1\" class=\"dataframe\">\n",
       "  <thead>\n",
       "    <tr style=\"text-align: right;\">\n",
       "      <th></th>\n",
       "      <th>user_id</th>\n",
       "      <th>item_id</th>\n",
       "      <th>order</th>\n",
       "    </tr>\n",
       "  </thead>\n",
       "  <tbody>\n",
       "    <tr>\n",
       "      <th>0</th>\n",
       "      <td>0</td>\n",
       "      <td>333396</td>\n",
       "      <td>53</td>\n",
       "    </tr>\n",
       "    <tr>\n",
       "      <th>1</th>\n",
       "      <td>0</td>\n",
       "      <td>267089</td>\n",
       "      <td>52</td>\n",
       "    </tr>\n",
       "    <tr>\n",
       "      <th>2</th>\n",
       "      <td>0</td>\n",
       "      <td>155959</td>\n",
       "      <td>51</td>\n",
       "    </tr>\n",
       "    <tr>\n",
       "      <th>3</th>\n",
       "      <td>0</td>\n",
       "      <td>353335</td>\n",
       "      <td>50</td>\n",
       "    </tr>\n",
       "    <tr>\n",
       "      <th>4</th>\n",
       "      <td>0</td>\n",
       "      <td>414000</td>\n",
       "      <td>49</td>\n",
       "    </tr>\n",
       "  </tbody>\n",
       "</table>\n",
       "</div>"
      ],
      "text/plain": [
       "   user_id  item_id  order\n",
       "0        0   333396     53\n",
       "1        0   267089     52\n",
       "2        0   155959     51\n",
       "3        0   353335     50\n",
       "4        0   414000     49"
      ]
     },
     "execution_count": 6,
     "metadata": {},
     "output_type": "execute_result"
    }
   ],
   "source": [
    "import pandas as pd\n",
    "from tqdm import tqdm\n",
    "\n",
    "def get_smaple(path: str, limit=100000):\n",
    "    \n",
    "    sample_dict = {'user_id': [], 'item_id': [], 'order': []}\n",
    "    \n",
    "    with open(path, 'r') as f:\n",
    "        for idx, line in tqdm(enumerate(f.readlines())):\n",
    "            if idx > limit:\n",
    "                break\n",
    "            items = [int(item) for item in line.split()]\n",
    "            sample_dict['user_id'].extend([idx for _ in items])\n",
    "            sample_dict['item_id'].extend([item for item in items])\n",
    "            sample_dict['order'].extend([i for i in reversed(range(len(items)))])\n",
    "            \n",
    "    return pd.DataFrame(sample_dict)\n",
    "\n",
    "\n",
    "train_path = '/home/ndubrovnyi/PycharmProjects/itmo_recsys_2022/likes/likes_data/train'\n",
    "\n",
    "interactions = get_smaple(train_path)\n",
    "interactions.head()"
   ]
  },
  {
   "cell_type": "code",
   "execution_count": 8,
   "id": "dc37a78b",
   "metadata": {},
   "outputs": [],
   "source": [
    "from sklearn.model_selection import KFold\n",
    "import numpy as np\n",
    "\n",
    "class UsersKFoldPOut():\n",
    "    def __init__(self, n_folds, p, random_seed=23):\n",
    "        self.n_folds = n_folds\n",
    "        self.p = p\n",
    "        self.random_seed = random_seed\n",
    "    \n",
    "    def split(self, df):\n",
    "        users = df['user_id'].unique()\n",
    "        kf = KFold(n_splits=self.n_folds, shuffle=True, random_state=self.random_seed)\n",
    "        for train_index, test_index in kf.split(users):\n",
    "            train_mask = df.user_id.isin(users[train_index])\n",
    "            test_mask = (df.user_id.isin(users[test_index])) & (df.order < self.p)\n",
    "            \n",
    "            yield train_mask, test_mask\n",
    "            "
   ]
  },
  {
   "cell_type": "code",
   "execution_count": 9,
   "id": "f10ddd7e",
   "metadata": {},
   "outputs": [
    {
     "name": "stdout",
     "output_type": "stream",
     "text": [
      "Fold#0 | Train: 5411643, Test: 1117720\n",
      "Fold#1 | Train: 5412945, Test: 1118109\n",
      "Fold#2 | Train: 5438102, Test: 1117745\n"
     ]
    }
   ],
   "source": [
    "cv = UsersKFoldPOut(n_folds=3, p=50)\n",
    "\n",
    "for i, (train_mask, test_mask) in enumerate(cv.split(interactions)):\n",
    "    train = interactions[train_mask]\n",
    "    test = interactions[test_mask]\n",
    "    print(f'Fold#{i} | Train: {train.shape[0]}, Test: {test.shape[0]}')\n",
    "#     print(set(train.user_id).intersection(set(test.user_id)))"
   ]
  },
  {
   "cell_type": "markdown",
   "id": "fcb020ee",
   "metadata": {},
   "source": [
    "## Задание 2"
   ]
  },
  {
   "cell_type": "code",
   "execution_count": 11,
   "id": "70ba1471",
   "metadata": {},
   "outputs": [
    {
     "name": "stdout",
     "output_type": "stream",
     "text": [
      "Mean pFound: 0.59170671525665\n"
     ]
    }
   ],
   "source": [
    "import pandas as pd\n",
    "\n",
    "\n",
    "def pfound_by_group(group):\n",
    "    qid_group = group.sort_values(ascending=False).reset_index().rename(columns={group.name: 'rating'})\n",
    "    qid_group['1_pRel'] = 1 - qid_group['rating']\n",
    "    qid_group['1_pBreak'] = 1 - pBreak\n",
    "    qid_group['cum_1_pRel'] = qid_group['1_pRel'].cumprod().shift(1)\n",
    "    qid_group['cum_1_pBreak'] = qid_group['1_pBreak'].cumprod().shift(1)\n",
    "    qid_group['plook'] = qid_group['cum_1_pBreak'] * qid_group['cum_1_pRel']\n",
    "    qid_group['plook'].fillna(1, inplace=True)\n",
    "    qid_group['plook_prod_rel'] = qid_group['plook'] * qid_group['rating']\n",
    "    return qid_group['plook_prod_rel'].sum()\n",
    "\n",
    "\n",
    "def get_pfound(df):\n",
    "    df = df.groupby(['qid', 'hostid']).max().reset_index()\n",
    "    df['pfound'] = df.groupby('qid')['rating'].transform(pfound_by_group)\n",
    "    df = df.groupby('qid')['pfound'].max()\n",
    "    return df.mean()\n",
    "\n",
    "\n",
    "qid_query = pd.read_csv(\"/home/ndubrovnyi/PycharmProjects/itmo_recsys_2022/yandex_cup_analytics_A/hidden_task/qid_query.tsv\", sep=\"\\t\", names=[\"qid\", \"query\"])\n",
    "qid_url_rating = pd.read_csv(\"/home/ndubrovnyi/PycharmProjects/itmo_recsys_2022/yandex_cup_analytics_A/hidden_task/qid_url_rating.tsv\", sep=\"\\t\", names=[\"qid\", \"url\", \"rating\"])\n",
    "hostid_url = pd.read_csv(\"/home/ndubrovnyi/PycharmProjects/itmo_recsys_2022/yandex_cup_analytics_A/hidden_task/hostid_url.tsv\", sep=\"\\t\", names=[\"hostid\", \"url\"])\n",
    "\n",
    "qid_url_rating_hostid = pd.merge(qid_url_rating, hostid_url, on=\"url\")\n",
    "\n",
    "pBreak = 0.15\n",
    "\n",
    "pfound = get_pfound(qid_url_rating_hostid)\n",
    "print('Mean pFound:', pfound)"
   ]
  },
  {
   "cell_type": "code",
   "execution_count": null,
   "id": "3bba8398",
   "metadata": {},
   "outputs": [],
   "source": []
  }
 ],
 "metadata": {
  "kernelspec": {
   "display_name": "Python 3 (ipykernel)",
   "language": "python",
   "name": "python3"
  },
  "language_info": {
   "codemirror_mode": {
    "name": "ipython",
    "version": 3
   },
   "file_extension": ".py",
   "mimetype": "text/x-python",
   "name": "python",
   "nbconvert_exporter": "python",
   "pygments_lexer": "ipython3",
   "version": "3.10.6"
  }
 },
 "nbformat": 4,
 "nbformat_minor": 5
}
