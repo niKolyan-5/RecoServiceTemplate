{
  "cells": [
    {
      "cell_type": "code",
      "execution_count": null,
      "metadata": {
        "id": "711LOS5oKiz5"
      },
      "outputs": [],
      "source": [
        "# !pip install shap==0.41.0\n",
        "# !pip install lightfm==1.16\n",
        "# !pip install rectools==0.3.0\n",
        "# !pip install prompt-toolkit==3.0.33"
      ]
    },
    {
      "cell_type": "code",
      "execution_count": null,
      "metadata": {
        "id": "V0_NWA887FX3"
      },
      "outputs": [],
      "source": [
        "# !pip install catboost"
      ]
    },
    {
      "cell_type": "code",
      "execution_count": 3,
      "metadata": {
        "id": "1dXyeUPnKRuo"
      },
      "outputs": [],
      "source": [
        "import warnings\n",
        "warnings.simplefilter('ignore')\n",
        "\n",
        "import dill\n",
        "import numpy as np\n",
        "import pandas as pd\n",
        "import requests\n",
        "import shap\n",
        "\n",
        "from lightfm import LightFM\n",
        "from lightfm.data import Dataset\n",
        "from lightgbm import LGBMRanker, LGBMClassifier\n",
        "from xgboost import XGBRanker\n",
        "from catboost import CatBoostRanker, Pool\n",
        "\n",
        "import rectools\n",
        "from rectools.metrics import calc_metrics, NDCG, MAP, Precision, Recall, MeanInvUserFreq\n",
        "from rectools import Columns\n",
        "from rectools.models import ImplicitALSWrapperModel, PopularModel\n",
        "from implicit.als import AlternatingLeastSquares\n",
        "\n",
        "from sklearn.metrics import roc_auc_score\n",
        "from sklearn.model_selection import train_test_split\n",
        "from typing import Any, Dict, Tuple\n",
        "from tqdm.auto import tqdm\n",
        "from zipfile import ZipFile\n",
        "\n",
        "from tools import generate_lightfm_recs_mapper, avg_user_metric"
      ]
    },
    {
      "cell_type": "markdown",
      "metadata": {
        "id": "7Fp7zbl5KRup"
      },
      "source": [
        "## Подготовка данных"
      ]
    },
    {
      "cell_type": "code",
      "execution_count": 4,
      "metadata": {
        "colab": {
          "base_uri": "https://localhost:8080/",
          "height": 49,
          "referenced_widgets": [
            "4d47eb5cdceb41d78ab928c2ac04c9eb",
            "9d6b5d457f534531aed5044559e3b42c",
            "96603854ace344f0a00746d98e051180",
            "cf1ddd2c2ab74d2183ddac0ae264c270",
            "8af5607f120341089f711ad94312ea36",
            "d3b5e99c801f4cd4966e590c56e22902",
            "08331672c536487da9797c6f112a067a",
            "11af59ea2671480f85109b81977d0463",
            "cf9cca4354e14125aa2c8b9b59f68092",
            "58a60c998c7c4af9a2b40362c4b78914",
            "82d3d66524fb402b82491affed0ff299"
          ]
        },
        "id": "4O0CAXsKKRuq",
        "outputId": "7a33efcd-d617-41f9-95fc-8fbd93fab749"
      },
      "outputs": [
        {
          "data": {
            "application/vnd.jupyter.widget-view+json": {
              "model_id": "4d47eb5cdceb41d78ab928c2ac04c9eb",
              "version_major": 2,
              "version_minor": 0
            },
            "text/plain": [
              "kion dataset download:   0%|          | 0.00/78.8M [00:00<?, ?iB/s]"
            ]
          },
          "metadata": {},
          "output_type": "display_data"
        }
      ],
      "source": [
        "# download dataset by chunks\n",
        "url = 'https://storage.yandexcloud.net/itmo-recsys-public-data/kion_train.zip'\n",
        "\n",
        "req = requests.get(url, stream=True)\n",
        "\n",
        "PATH_TO_DATA = 'kion_train.zip'\n",
        "\n",
        "with open(PATH_TO_DATA, 'wb') as f:\n",
        "    total_size_in_bytes = int(req.headers.get('Content-Length', 0))\n",
        "    progress_bar = tqdm(desc='kion dataset download', total=total_size_in_bytes, unit='iB', unit_scale=True)\n",
        "    for chunk in req.iter_content(chunk_size=2 ** 20):\n",
        "        progress_bar.update(len(chunk))\n",
        "        f.write(chunk)"
      ]
    },
    {
      "cell_type": "code",
      "execution_count": 5,
      "metadata": {
        "id": "k1bJWLuVKRuq"
      },
      "outputs": [],
      "source": [
        "with ZipFile('kion_train.zip') as z:\n",
        "    \n",
        "    with z.open('kion_train/interactions.csv') as f:\n",
        "        interactions = pd.read_csv(f)\n",
        "    \n",
        "    with z.open('kion_train/items.csv') as f:\n",
        "        items = pd.read_csv(f)\n",
        "        \n",
        "    with z.open('kion_train/users.csv') as f:\n",
        "        users = pd.read_csv(f)"
      ]
    },
    {
      "cell_type": "code",
      "execution_count": 6,
      "metadata": {
        "id": "KGVM_NceKRus"
      },
      "outputs": [],
      "source": [
        "# Меняем названия колонок для использования rectools\n",
        "interactions.rename(\n",
        "    columns={\n",
        "        'last_watch_dt': Columns.Datetime,\n",
        "        'watched_pct': Columns.Weight,\n",
        "    }, \n",
        "    inplace=True,\n",
        ") \n",
        "\n",
        "# Меняем тип данных\n",
        "interactions['datetime'] = interactions['datetime'].astype(np.datetime64)\n",
        "\n",
        "# Заполняем пропуски\n",
        "interactions_default_values: Dict[str, Any] = {\n",
        "   Columns.Datetime: interactions[Columns.Datetime].median(),\n",
        "    Columns.Weight: 0.,\n",
        "    'total_dur': 0,\n",
        "}\n",
        "interactions.fillna(interactions_default_values, inplace=True)"
      ]
    },
    {
      "cell_type": "code",
      "execution_count": 7,
      "metadata": {
        "id": "KlI8qlOSKRut"
      },
      "outputs": [],
      "source": [
        "def encode_cat_cols(df: pd.DataFrame, cat_cols) -> Tuple[pd.DataFrame, Dict]:\n",
        "    cat_col_encoding = {}  # словарь с категориями\n",
        "\n",
        "    for col in cat_cols:\n",
        "        cat_col = df[col].astype('category').cat\n",
        "        cat_col_encoding[col] = cat_col.categories\n",
        "        df[col] = cat_col.codes.astype('category')\n",
        "    return df, cat_col_encoding\n",
        "\n",
        "users_cat_cols = [\n",
        "     'age', 'income', 'sex', 'kids_flg'\n",
        "]\n",
        "users, users_cat_col_encoding = encode_cat_cols(users, users_cat_cols)"
      ]
    },
    {
      "cell_type": "code",
      "execution_count": 8,
      "metadata": {
        "id": "I-bXi_mlKRut"
      },
      "outputs": [],
      "source": [
        "# кодируем категориальные колонки и удаляем текстовые\n",
        "items_cat_cols = [\n",
        "    # 'item_id', \n",
        "    'content_type', 'for_kids', 'studios',\n",
        "]\n",
        "items_text_cols = [\n",
        "    'title', 'title_orig', 'genres', 'countries', 'directors', 'actors', 'description', 'keywords',\n",
        "]\n",
        "items_num_cols = [\n",
        "    'release_year', 'age_rating', \n",
        "]\n",
        "default_values_items = {\n",
        "    'release_year': items['release_year'].median(),\n",
        "    'age_rating': items['age_rating'].median(),\n",
        "}\n",
        "\n",
        "items, items_cat_col_encoding = encode_cat_cols(items, items_cat_cols) \n",
        "# items = items.drop(items_text_cols, axis=1)\n",
        "items.fillna(default_values_items, inplace=True)"
      ]
    },
    {
      "cell_type": "markdown",
      "metadata": {
        "id": "cZv4CKidKRuu"
      },
      "source": [
        "## Трейн-вал-тест сплит"
      ]
    },
    {
      "cell_type": "code",
      "execution_count": 9,
      "metadata": {
        "colab": {
          "base_uri": "https://localhost:8080/"
        },
        "id": "mazshQVwKRuu",
        "outputId": "b217f2ef-75b5-45e9-e218-bbca078cd0fd"
      },
      "outputs": [
        {
          "name": "stdout",
          "output_type": "stream",
          "text": [
            "min дата в interactions: 2021-03-13 00:00:00\n",
            "max дата в interactions: 2021-08-22 00:00:00\n",
            "Продолжительность: 162 days 00:00:00\n"
          ]
        }
      ],
      "source": [
        "max_date = interactions[Columns.Datetime].max()\n",
        "min_date = interactions[Columns.Datetime].min()\n",
        "\n",
        "print(f'min дата в interactions: {min_date}')\n",
        "print(f'max дата в interactions: {max_date}')\n",
        "print(f'Продолжительность: {max_date - min_date}')"
      ]
    },
    {
      "cell_type": "code",
      "execution_count": 10,
      "metadata": {
        "id": "JEUrcdFDKRuu"
      },
      "outputs": [],
      "source": [
        "ranker_days_count = 30\n",
        "\n",
        "ranker_data = interactions[\n",
        "    (interactions[Columns.Datetime] >= max_date - pd.Timedelta(days=ranker_days_count))\n",
        "]\n",
        "\n",
        "train_size = 0.7\n",
        "val_size = 0.15\n",
        "test_size = 0.15 \n",
        "\n",
        "train_val_users, test_users = train_test_split(\n",
        "    ranker_data['user_id'].unique(), random_state=42, test_size=test_size\n",
        ")\n",
        "\n",
        "train_users, val_users = train_test_split(\n",
        "    train_val_users, random_state=42, test_size=val_size / (train_size + val_size)  # 15% от общего размера\n",
        ")"
      ]
    },
    {
      "cell_type": "code",
      "execution_count": 11,
      "metadata": {
        "id": "KVwxBwU8KRuu"
      },
      "outputs": [],
      "source": [
        "base_models_data = interactions[\n",
        "    (interactions[Columns.Datetime] < max_date - pd.Timedelta(days=ranker_days_count))\n",
        "]"
      ]
    },
    {
      "cell_type": "code",
      "execution_count": 12,
      "metadata": {
        "id": "mA73KzSRrlnq"
      },
      "outputs": [],
      "source": [
        "users = users.loc[users[Columns.User].isin(base_models_data[Columns.User])].copy()\n",
        "\n",
        "user_features_frames = []\n",
        "for feature in [\"sex\", \"age\", \"income\"]:\n",
        "    feature_frame = users.reindex(columns=[Columns.User, feature])\n",
        "    feature_frame.columns = [\"id\", \"value\"]\n",
        "    feature_frame[\"feature\"] = feature\n",
        "    user_features_frames.append(feature_frame)\n",
        "user_features = pd.concat(user_features_frames)"
      ]
    },
    {
      "cell_type": "code",
      "execution_count": 13,
      "metadata": {
        "id": "Yp0GxV8hrqHI"
      },
      "outputs": [],
      "source": [
        "items = items.loc[items[Columns.Item].isin(base_models_data[Columns.Item])].copy()\n",
        "\n",
        "items[\"genre\"] = items[\"genres\"].str.lower().str.replace(\", \", \",\", regex=False).str.split(\",\")\n",
        "genre_feature = items[[\"item_id\", \"genre\"]].explode(\"genre\")\n",
        "genre_feature.columns = [\"id\", \"value\"]\n",
        "genre_feature[\"feature\"] = \"genre\"\n",
        "\n",
        "content_feature = items.reindex(columns=[Columns.Item, \"content_type\"])\n",
        "content_feature.columns = [\"id\", \"value\"]\n",
        "content_feature[\"feature\"] = \"content_type\"\n",
        "\n",
        "item_features = pd.concat((genre_feature, content_feature))"
      ]
    },
    {
      "cell_type": "code",
      "execution_count": 14,
      "metadata": {
        "id": "Dhf9SP6fdGOV"
      },
      "outputs": [],
      "source": [
        "dataset = rectools.dataset.Dataset.construct(\n",
        "    interactions_df=base_models_data,\n",
        "    user_features_df=user_features,\n",
        "    cat_user_features=[\"sex\", \"age\", \"income\"],\n",
        "    item_features_df=item_features,\n",
        "    cat_item_features=[\"genre\", \"content_type\"],\n",
        ")"
      ]
    },
    {
      "cell_type": "code",
      "execution_count": 15,
      "metadata": {
        "id": "t1xXjXaJsW40"
      },
      "outputs": [],
      "source": [
        "items = items.drop(items_text_cols, axis=1)"
      ]
    },
    {
      "cell_type": "markdown",
      "metadata": {
        "id": "IvbO2aa3KRuu"
      },
      "source": [
        "## Обучаем модель первого уровня"
      ]
    },
    {
      "cell_type": "markdown",
      "metadata": {
        "id": "7Js-ek3tDQTM"
      },
      "source": [
        "### LightFM"
      ]
    },
    {
      "cell_type": "code",
      "execution_count": 16,
      "metadata": {
        "id": "TJwwyJFqKRuv"
      },
      "outputs": [],
      "source": [
        "lightfm_dataset = Dataset()\n",
        "lightfm_user_ids = base_models_data['user_id'].unique()\n",
        "lightfm_item_ids = base_models_data['item_id'].unique()\n",
        "lightfm_dataset.fit(lightfm_user_ids, lightfm_item_ids)"
      ]
    },
    {
      "cell_type": "code",
      "execution_count": 17,
      "metadata": {
        "id": "flNz5jbzKRuv"
      },
      "outputs": [],
      "source": [
        "interactions_matrix, weights_matrix = lightfm_dataset.build_interactions(\n",
        "    zip(*base_models_data[['user_id', 'item_id', Columns.Weight]].values.T)\n",
        ")\n",
        "weights_matrix = weights_matrix.tocsr()"
      ]
    },
    {
      "cell_type": "code",
      "execution_count": 18,
      "metadata": {
        "colab": {
          "base_uri": "https://localhost:8080/",
          "height": 49,
          "referenced_widgets": [
            "2d8e28c69b974f2e9693e43fd84fd870",
            "5c5c0f73d1834d5ebebf9bdea2e60519",
            "93bd8d85075f474d945b84803311d52c",
            "15b16b6216184ef48078c037c67428b3",
            "09b03168160b4802a7dee2fd453f3dd3",
            "d131289e93564ac692aaa8c2fef30871",
            "e3f5b0ea09f74bd8b11b71e4a7c00f39",
            "77829f222c314cbcb6562f4fd46df833",
            "a31676e51dc84a719d273847201f386b",
            "e62183ab7fe043bcb20379196611a88c",
            "8bac6bb269c54edbb552ebe47244851c"
          ]
        },
        "id": "UX-aOB_XKRuv",
        "outputId": "677828b3-7d1f-4d2a-9022-ce9db37bc56c"
      },
      "outputs": [
        {
          "data": {
            "application/vnd.jupyter.widget-view+json": {
              "model_id": "2d8e28c69b974f2e9693e43fd84fd870",
              "version_major": 2,
              "version_minor": 0
            },
            "text/plain": [
              "  0%|          | 0/10 [00:00<?, ?it/s]"
            ]
          },
          "metadata": {},
          "output_type": "display_data"
        }
      ],
      "source": [
        "lfm_model = LightFM(\n",
        "    no_components=64, \n",
        "    learning_rate=0.1, \n",
        "\n",
        "    loss='warp', \n",
        "    max_sampled=5, \n",
        "    random_state=42,\n",
        ")\n",
        "\n",
        "num_epochs = 10\n",
        "\n",
        "for _ in tqdm(range(num_epochs)):\n",
        "    lfm_model.fit_partial(weights_matrix)"
      ]
    },
    {
      "cell_type": "code",
      "execution_count": 19,
      "metadata": {
        "id": "6ARSmziNKRuv"
      },
      "outputs": [],
      "source": [
        "# save model  \n",
        "with open(f'lfm_model.dill', 'wb') as f:\n",
        "    dill.dump(lfm_model, f)"
      ]
    },
    {
      "cell_type": "markdown",
      "metadata": {
        "id": "71xMDT-IZHTv"
      },
      "source": [
        "### Implicit ALS"
      ]
    },
    {
      "cell_type": "code",
      "execution_count": 20,
      "metadata": {
        "colab": {
          "base_uri": "https://localhost:8080/"
        },
        "id": "dMlOqbmhZjEE",
        "outputId": "63cbeddc-5a62-4ad8-9614-9df83aa3001e"
      },
      "outputs": [
        {
          "name": "stderr",
          "output_type": "stream",
          "text": [
            "WARNING:implicit:GPU training requires factor size to be a multiple of 32. Increasing factors from 16 to 32.\n",
            "WARNING:root:OpenBLAS detected. Its highly recommend to set the environment variable 'export OPENBLAS_NUM_THREADS=1' to disable its internal multithreading\n"
          ]
        },
        {
          "data": {
            "text/plain": [
              "<rectools.models.implicit_als.ImplicitALSWrapperModel at 0x7f48311155b0>"
            ]
          },
          "execution_count": 20,
          "metadata": {},
          "output_type": "execute_result"
        }
      ],
      "source": [
        "als_model = ImplicitALSWrapperModel(model=AlternatingLeastSquares(\n",
        "                                        factors=16,\n",
        "                                        random_state=42,\n",
        "                                        num_threads=16,\n",
        "                                        ),\n",
        "                                  fit_features_together=True,\n",
        "                                  )\n",
        "\n",
        "als_model.fit(dataset)"
      ]
    },
    {
      "cell_type": "code",
      "execution_count": 21,
      "metadata": {
        "id": "AGWvUbMGb2ZV"
      },
      "outputs": [],
      "source": [
        "# save model\n",
        "with open(f'als_model.dill', 'wb') as f:\n",
        "    dill.dump(als_model, f)"
      ]
    },
    {
      "cell_type": "markdown",
      "metadata": {
        "id": "xoZbTq2RDVqv"
      },
      "source": [
        "### Popular (for cold users)"
      ]
    },
    {
      "cell_type": "code",
      "execution_count": 22,
      "metadata": {
        "colab": {
          "base_uri": "https://localhost:8080/"
        },
        "id": "r6hJ-glmDXeT",
        "outputId": "d98ed854-1a30-4946-ba85-584f480733e4"
      },
      "outputs": [
        {
          "data": {
            "text/plain": [
              "<rectools.models.popular.PopularModel at 0x7f4832046910>"
            ]
          },
          "execution_count": 22,
          "metadata": {},
          "output_type": "execute_result"
        }
      ],
      "source": [
        "pop_model = PopularModel()\n",
        "pop_model.fit(dataset)"
      ]
    },
    {
      "cell_type": "code",
      "execution_count": 23,
      "metadata": {
        "id": "8BrZL6isDe29"
      },
      "outputs": [],
      "source": [
        "# save model\n",
        "with open('pop_model.dill', 'wb') as f:\n",
        "   dill.dump(pop_model, f)"
      ]
    },
    {
      "cell_type": "markdown",
      "metadata": {
        "id": "BOT2QzNYKRuv"
      },
      "source": [
        "## Генерим кандидатов, которыми дополним датасет ранкера"
      ]
    },
    {
      "cell_type": "code",
      "execution_count": 24,
      "metadata": {
        "id": "T2OxG55hKRuv"
      },
      "outputs": [],
      "source": [
        "lightfm_mapping = lightfm_dataset.mapping()\n",
        "lightfm_mapping = {\n",
        "    'user_id_to_iid': lightfm_mapping[0],\n",
        "    'item_id_to_iid': lightfm_mapping[2],\n",
        "}\n",
        "\n",
        "lightfm_mapping['user_iid_to_id'] = {v: k for k, v in lightfm_mapping['user_id_to_iid'].items()}\n",
        "lightfm_mapping['item_iid_to_id'] = {v: k for k, v in lightfm_mapping['item_id_to_iid'].items()}"
      ]
    },
    {
      "cell_type": "code",
      "execution_count": 49,
      "metadata": {
        "id": "XFfUbzGHKRuv"
      },
      "outputs": [],
      "source": [
        "top_N = 50\n",
        "\n",
        "user_lfm_index = np.array(list(lightfm_mapping['user_id_to_iid'].values()))\n",
        "item_lfm_index = np.array(list(lightfm_mapping['item_id_to_iid'].values()))\n",
        "\n",
        "mapper = generate_lightfm_recs_mapper(\n",
        "    model=lfm_model, \n",
        "    N=top_N,\n",
        "    item_iids=item_lfm_index, \n",
        "    user_id_to_iid=lightfm_mapping['user_id_to_iid'],\n",
        "    item_iid_to_id=lightfm_mapping['item_iid_to_id'],\n",
        "    known_item_ids=dict(),\n",
        "    num_threads=4,\n",
        ")"
      ]
    },
    {
      "cell_type": "code",
      "execution_count": 54,
      "metadata": {
        "colab": {
          "base_uri": "https://localhost:8080/",
          "height": 143
        },
        "id": "zs-v1DsmKRuv",
        "outputId": "f22b5960-844b-4f9d-c944-a1591e9bd029"
      },
      "outputs": [
        {
          "data": {
            "text/html": [
              "\n",
              "  <div id=\"df-71e614c0-481a-4695-a109-401f7d7deea6\">\n",
              "    <div class=\"colab-df-container\">\n",
              "      <div>\n",
              "<style scoped>\n",
              "    .dataframe tbody tr th:only-of-type {\n",
              "        vertical-align: middle;\n",
              "    }\n",
              "\n",
              "    .dataframe tbody tr th {\n",
              "        vertical-align: top;\n",
              "    }\n",
              "\n",
              "    .dataframe thead th {\n",
              "        text-align: right;\n",
              "    }\n",
              "</style>\n",
              "<table border=\"1\" class=\"dataframe\">\n",
              "  <thead>\n",
              "    <tr style=\"text-align: right;\">\n",
              "      <th></th>\n",
              "      <th>user_id</th>\n",
              "      <th>item_id</th>\n",
              "      <th>lfm_score</th>\n",
              "      <th>lfm_rank</th>\n",
              "    </tr>\n",
              "  </thead>\n",
              "  <tbody>\n",
              "    <tr>\n",
              "      <th>0</th>\n",
              "      <td>176549</td>\n",
              "      <td>9728</td>\n",
              "      <td>1.180826</td>\n",
              "      <td>1</td>\n",
              "    </tr>\n",
              "    <tr>\n",
              "      <th>1</th>\n",
              "      <td>176549</td>\n",
              "      <td>7571</td>\n",
              "      <td>1.132079</td>\n",
              "      <td>2</td>\n",
              "    </tr>\n",
              "    <tr>\n",
              "      <th>2</th>\n",
              "      <td>176549</td>\n",
              "      <td>10440</td>\n",
              "      <td>1.090371</td>\n",
              "      <td>3</td>\n",
              "    </tr>\n",
              "  </tbody>\n",
              "</table>\n",
              "</div>\n",
              "      <button class=\"colab-df-convert\" onclick=\"convertToInteractive('df-71e614c0-481a-4695-a109-401f7d7deea6')\"\n",
              "              title=\"Convert this dataframe to an interactive table.\"\n",
              "              style=\"display:none;\">\n",
              "        \n",
              "  <svg xmlns=\"http://www.w3.org/2000/svg\" height=\"24px\"viewBox=\"0 0 24 24\"\n",
              "       width=\"24px\">\n",
              "    <path d=\"M0 0h24v24H0V0z\" fill=\"none\"/>\n",
              "    <path d=\"M18.56 5.44l.94 2.06.94-2.06 2.06-.94-2.06-.94-.94-2.06-.94 2.06-2.06.94zm-11 1L8.5 8.5l.94-2.06 2.06-.94-2.06-.94L8.5 2.5l-.94 2.06-2.06.94zm10 10l.94 2.06.94-2.06 2.06-.94-2.06-.94-.94-2.06-.94 2.06-2.06.94z\"/><path d=\"M17.41 7.96l-1.37-1.37c-.4-.4-.92-.59-1.43-.59-.52 0-1.04.2-1.43.59L10.3 9.45l-7.72 7.72c-.78.78-.78 2.05 0 2.83L4 21.41c.39.39.9.59 1.41.59.51 0 1.02-.2 1.41-.59l7.78-7.78 2.81-2.81c.8-.78.8-2.07 0-2.86zM5.41 20L4 18.59l7.72-7.72 1.47 1.35L5.41 20z\"/>\n",
              "  </svg>\n",
              "      </button>\n",
              "      \n",
              "  <style>\n",
              "    .colab-df-container {\n",
              "      display:flex;\n",
              "      flex-wrap:wrap;\n",
              "      gap: 12px;\n",
              "    }\n",
              "\n",
              "    .colab-df-convert {\n",
              "      background-color: #E8F0FE;\n",
              "      border: none;\n",
              "      border-radius: 50%;\n",
              "      cursor: pointer;\n",
              "      display: none;\n",
              "      fill: #1967D2;\n",
              "      height: 32px;\n",
              "      padding: 0 0 0 0;\n",
              "      width: 32px;\n",
              "    }\n",
              "\n",
              "    .colab-df-convert:hover {\n",
              "      background-color: #E2EBFA;\n",
              "      box-shadow: 0px 1px 2px rgba(60, 64, 67, 0.3), 0px 1px 3px 1px rgba(60, 64, 67, 0.15);\n",
              "      fill: #174EA6;\n",
              "    }\n",
              "\n",
              "    [theme=dark] .colab-df-convert {\n",
              "      background-color: #3B4455;\n",
              "      fill: #D2E3FC;\n",
              "    }\n",
              "\n",
              "    [theme=dark] .colab-df-convert:hover {\n",
              "      background-color: #434B5C;\n",
              "      box-shadow: 0px 1px 3px 1px rgba(0, 0, 0, 0.15);\n",
              "      filter: drop-shadow(0px 1px 2px rgba(0, 0, 0, 0.3));\n",
              "      fill: #FFFFFF;\n",
              "    }\n",
              "  </style>\n",
              "\n",
              "      <script>\n",
              "        const buttonEl =\n",
              "          document.querySelector('#df-71e614c0-481a-4695-a109-401f7d7deea6 button.colab-df-convert');\n",
              "        buttonEl.style.display =\n",
              "          google.colab.kernel.accessAllowed ? 'block' : 'none';\n",
              "\n",
              "        async function convertToInteractive(key) {\n",
              "          const element = document.querySelector('#df-71e614c0-481a-4695-a109-401f7d7deea6');\n",
              "          const dataTable =\n",
              "            await google.colab.kernel.invokeFunction('convertToInteractive',\n",
              "                                                     [key], {});\n",
              "          if (!dataTable) return;\n",
              "\n",
              "          const docLinkHtml = 'Like what you see? Visit the ' +\n",
              "            '<a target=\"_blank\" href=https://colab.research.google.com/notebooks/data_table.ipynb>data table notebook</a>'\n",
              "            + ' to learn more about interactive tables.';\n",
              "          element.innerHTML = '';\n",
              "          dataTable['output_type'] = 'display_data';\n",
              "          await google.colab.output.renderOutput(dataTable, element);\n",
              "          const docLink = document.createElement('div');\n",
              "          docLink.innerHTML = docLinkHtml;\n",
              "          element.appendChild(docLink);\n",
              "        }\n",
              "      </script>\n",
              "    </div>\n",
              "  </div>\n",
              "  "
            ],
            "text/plain": [
              "   user_id item_id lfm_score  lfm_rank\n",
              "0   176549    9728  1.180826         1\n",
              "1   176549    7571  1.132079         2\n",
              "2   176549   10440  1.090371         3"
            ]
          },
          "execution_count": 54,
          "metadata": {},
          "output_type": "execute_result"
        }
      ],
      "source": [
        "# скоры и ранги lightfm\n",
        "lfm_candidates = pd.DataFrame({'user_id': lightfm_user_ids})\n",
        "lfm_candidates['item_id'], lfm_candidates['lfm_score'] = zip(*lfm_candidates['user_id'].map(mapper))\n",
        "lfm_candidates = lfm_candidates.explode(['item_id', 'lfm_score'], ignore_index=True)\n",
        "lfm_candidates['lfm_rank'] = lfm_candidates.groupby('user_id').cumcount() + 1 \n",
        "\n",
        "lfm_candidates.to_csv('lfm_candidates.csv', index=False)\n",
        "\n",
        "lfm_candidates.head(3)"
      ]
    },
    {
      "cell_type": "code",
      "execution_count": 56,
      "metadata": {
        "colab": {
          "base_uri": "https://localhost:8080/",
          "height": 143
        },
        "id": "TrMpItu7uwOB",
        "outputId": "17e14618-8b23-4dc8-d196-b45028eca2c8"
      },
      "outputs": [
        {
          "data": {
            "text/html": [
              "\n",
              "  <div id=\"df-f4ccdaf8-ec8e-45ab-b597-17fdca5f79b4\">\n",
              "    <div class=\"colab-df-container\">\n",
              "      <div>\n",
              "<style scoped>\n",
              "    .dataframe tbody tr th:only-of-type {\n",
              "        vertical-align: middle;\n",
              "    }\n",
              "\n",
              "    .dataframe tbody tr th {\n",
              "        vertical-align: top;\n",
              "    }\n",
              "\n",
              "    .dataframe thead th {\n",
              "        text-align: right;\n",
              "    }\n",
              "</style>\n",
              "<table border=\"1\" class=\"dataframe\">\n",
              "  <thead>\n",
              "    <tr style=\"text-align: right;\">\n",
              "      <th></th>\n",
              "      <th>user_id</th>\n",
              "      <th>item_id</th>\n",
              "      <th>als_score</th>\n",
              "      <th>als_rank</th>\n",
              "    </tr>\n",
              "  </thead>\n",
              "  <tbody>\n",
              "    <tr>\n",
              "      <th>0</th>\n",
              "      <td>176549</td>\n",
              "      <td>14215</td>\n",
              "      <td>1.129174</td>\n",
              "      <td>1</td>\n",
              "    </tr>\n",
              "    <tr>\n",
              "      <th>1</th>\n",
              "      <td>176549</td>\n",
              "      <td>10073</td>\n",
              "      <td>1.085411</td>\n",
              "      <td>2</td>\n",
              "    </tr>\n",
              "    <tr>\n",
              "      <th>2</th>\n",
              "      <td>176549</td>\n",
              "      <td>8046</td>\n",
              "      <td>1.079309</td>\n",
              "      <td>3</td>\n",
              "    </tr>\n",
              "  </tbody>\n",
              "</table>\n",
              "</div>\n",
              "      <button class=\"colab-df-convert\" onclick=\"convertToInteractive('df-f4ccdaf8-ec8e-45ab-b597-17fdca5f79b4')\"\n",
              "              title=\"Convert this dataframe to an interactive table.\"\n",
              "              style=\"display:none;\">\n",
              "        \n",
              "  <svg xmlns=\"http://www.w3.org/2000/svg\" height=\"24px\"viewBox=\"0 0 24 24\"\n",
              "       width=\"24px\">\n",
              "    <path d=\"M0 0h24v24H0V0z\" fill=\"none\"/>\n",
              "    <path d=\"M18.56 5.44l.94 2.06.94-2.06 2.06-.94-2.06-.94-.94-2.06-.94 2.06-2.06.94zm-11 1L8.5 8.5l.94-2.06 2.06-.94-2.06-.94L8.5 2.5l-.94 2.06-2.06.94zm10 10l.94 2.06.94-2.06 2.06-.94-2.06-.94-.94-2.06-.94 2.06-2.06.94z\"/><path d=\"M17.41 7.96l-1.37-1.37c-.4-.4-.92-.59-1.43-.59-.52 0-1.04.2-1.43.59L10.3 9.45l-7.72 7.72c-.78.78-.78 2.05 0 2.83L4 21.41c.39.39.9.59 1.41.59.51 0 1.02-.2 1.41-.59l7.78-7.78 2.81-2.81c.8-.78.8-2.07 0-2.86zM5.41 20L4 18.59l7.72-7.72 1.47 1.35L5.41 20z\"/>\n",
              "  </svg>\n",
              "      </button>\n",
              "      \n",
              "  <style>\n",
              "    .colab-df-container {\n",
              "      display:flex;\n",
              "      flex-wrap:wrap;\n",
              "      gap: 12px;\n",
              "    }\n",
              "\n",
              "    .colab-df-convert {\n",
              "      background-color: #E8F0FE;\n",
              "      border: none;\n",
              "      border-radius: 50%;\n",
              "      cursor: pointer;\n",
              "      display: none;\n",
              "      fill: #1967D2;\n",
              "      height: 32px;\n",
              "      padding: 0 0 0 0;\n",
              "      width: 32px;\n",
              "    }\n",
              "\n",
              "    .colab-df-convert:hover {\n",
              "      background-color: #E2EBFA;\n",
              "      box-shadow: 0px 1px 2px rgba(60, 64, 67, 0.3), 0px 1px 3px 1px rgba(60, 64, 67, 0.15);\n",
              "      fill: #174EA6;\n",
              "    }\n",
              "\n",
              "    [theme=dark] .colab-df-convert {\n",
              "      background-color: #3B4455;\n",
              "      fill: #D2E3FC;\n",
              "    }\n",
              "\n",
              "    [theme=dark] .colab-df-convert:hover {\n",
              "      background-color: #434B5C;\n",
              "      box-shadow: 0px 1px 3px 1px rgba(0, 0, 0, 0.15);\n",
              "      filter: drop-shadow(0px 1px 2px rgba(0, 0, 0, 0.3));\n",
              "      fill: #FFFFFF;\n",
              "    }\n",
              "  </style>\n",
              "\n",
              "      <script>\n",
              "        const buttonEl =\n",
              "          document.querySelector('#df-f4ccdaf8-ec8e-45ab-b597-17fdca5f79b4 button.colab-df-convert');\n",
              "        buttonEl.style.display =\n",
              "          google.colab.kernel.accessAllowed ? 'block' : 'none';\n",
              "\n",
              "        async function convertToInteractive(key) {\n",
              "          const element = document.querySelector('#df-f4ccdaf8-ec8e-45ab-b597-17fdca5f79b4');\n",
              "          const dataTable =\n",
              "            await google.colab.kernel.invokeFunction('convertToInteractive',\n",
              "                                                     [key], {});\n",
              "          if (!dataTable) return;\n",
              "\n",
              "          const docLinkHtml = 'Like what you see? Visit the ' +\n",
              "            '<a target=\"_blank\" href=https://colab.research.google.com/notebooks/data_table.ipynb>data table notebook</a>'\n",
              "            + ' to learn more about interactive tables.';\n",
              "          element.innerHTML = '';\n",
              "          dataTable['output_type'] = 'display_data';\n",
              "          await google.colab.output.renderOutput(dataTable, element);\n",
              "          const docLink = document.createElement('div');\n",
              "          docLink.innerHTML = docLinkHtml;\n",
              "          element.appendChild(docLink);\n",
              "        }\n",
              "      </script>\n",
              "    </div>\n",
              "  </div>\n",
              "  "
            ],
            "text/plain": [
              "   user_id  item_id  als_score  als_rank\n",
              "0   176549    14215   1.129174         1\n",
              "1   176549    10073   1.085411         2\n",
              "2   176549     8046   1.079309         3"
            ]
          },
          "execution_count": 56,
          "metadata": {},
          "output_type": "execute_result"
        }
      ],
      "source": [
        "# скоры и ранги implicit ALS\n",
        "als_candidates = als_model.recommend(\n",
        "      users=lightfm_user_ids,\n",
        "      dataset=dataset,\n",
        "      k=50,\n",
        "      filter_viewed=True,\n",
        "    )\n",
        "\n",
        "als_candidates.rename(columns={'score': 'als_score', 'rank': 'als_rank',}, \n",
        "                      inplace=True,)\n",
        "\n",
        "als_candidates.to_csv('als_candidates.csv', index=False)\n",
        "\n",
        "als_candidates.head(3)"
      ]
    },
    {
      "cell_type": "code",
      "execution_count": 59,
      "metadata": {
        "colab": {
          "base_uri": "https://localhost:8080/",
          "height": 143
        },
        "id": "H_YbH5eKv2FB",
        "outputId": "cecd11db-2d9a-4acd-ed33-af4694cebad4"
      },
      "outputs": [
        {
          "data": {
            "text/html": [
              "\n",
              "  <div id=\"df-ddd72cbb-b843-46da-92ed-f63b1c180af1\">\n",
              "    <div class=\"colab-df-container\">\n",
              "      <div>\n",
              "<style scoped>\n",
              "    .dataframe tbody tr th:only-of-type {\n",
              "        vertical-align: middle;\n",
              "    }\n",
              "\n",
              "    .dataframe tbody tr th {\n",
              "        vertical-align: top;\n",
              "    }\n",
              "\n",
              "    .dataframe thead th {\n",
              "        text-align: right;\n",
              "    }\n",
              "</style>\n",
              "<table border=\"1\" class=\"dataframe\">\n",
              "  <thead>\n",
              "    <tr style=\"text-align: right;\">\n",
              "      <th></th>\n",
              "      <th>user_id</th>\n",
              "      <th>item_id</th>\n",
              "      <th>popular_score</th>\n",
              "      <th>popular_rank</th>\n",
              "    </tr>\n",
              "  </thead>\n",
              "  <tbody>\n",
              "    <tr>\n",
              "      <th>0</th>\n",
              "      <td>176549</td>\n",
              "      <td>10440</td>\n",
              "      <td>141889.0</td>\n",
              "      <td>1</td>\n",
              "    </tr>\n",
              "    <tr>\n",
              "      <th>1</th>\n",
              "      <td>176549</td>\n",
              "      <td>15297</td>\n",
              "      <td>137128.0</td>\n",
              "      <td>2</td>\n",
              "    </tr>\n",
              "    <tr>\n",
              "      <th>2</th>\n",
              "      <td>176549</td>\n",
              "      <td>13865</td>\n",
              "      <td>93403.0</td>\n",
              "      <td>3</td>\n",
              "    </tr>\n",
              "  </tbody>\n",
              "</table>\n",
              "</div>\n",
              "      <button class=\"colab-df-convert\" onclick=\"convertToInteractive('df-ddd72cbb-b843-46da-92ed-f63b1c180af1')\"\n",
              "              title=\"Convert this dataframe to an interactive table.\"\n",
              "              style=\"display:none;\">\n",
              "        \n",
              "  <svg xmlns=\"http://www.w3.org/2000/svg\" height=\"24px\"viewBox=\"0 0 24 24\"\n",
              "       width=\"24px\">\n",
              "    <path d=\"M0 0h24v24H0V0z\" fill=\"none\"/>\n",
              "    <path d=\"M18.56 5.44l.94 2.06.94-2.06 2.06-.94-2.06-.94-.94-2.06-.94 2.06-2.06.94zm-11 1L8.5 8.5l.94-2.06 2.06-.94-2.06-.94L8.5 2.5l-.94 2.06-2.06.94zm10 10l.94 2.06.94-2.06 2.06-.94-2.06-.94-.94-2.06-.94 2.06-2.06.94z\"/><path d=\"M17.41 7.96l-1.37-1.37c-.4-.4-.92-.59-1.43-.59-.52 0-1.04.2-1.43.59L10.3 9.45l-7.72 7.72c-.78.78-.78 2.05 0 2.83L4 21.41c.39.39.9.59 1.41.59.51 0 1.02-.2 1.41-.59l7.78-7.78 2.81-2.81c.8-.78.8-2.07 0-2.86zM5.41 20L4 18.59l7.72-7.72 1.47 1.35L5.41 20z\"/>\n",
              "  </svg>\n",
              "      </button>\n",
              "      \n",
              "  <style>\n",
              "    .colab-df-container {\n",
              "      display:flex;\n",
              "      flex-wrap:wrap;\n",
              "      gap: 12px;\n",
              "    }\n",
              "\n",
              "    .colab-df-convert {\n",
              "      background-color: #E8F0FE;\n",
              "      border: none;\n",
              "      border-radius: 50%;\n",
              "      cursor: pointer;\n",
              "      display: none;\n",
              "      fill: #1967D2;\n",
              "      height: 32px;\n",
              "      padding: 0 0 0 0;\n",
              "      width: 32px;\n",
              "    }\n",
              "\n",
              "    .colab-df-convert:hover {\n",
              "      background-color: #E2EBFA;\n",
              "      box-shadow: 0px 1px 2px rgba(60, 64, 67, 0.3), 0px 1px 3px 1px rgba(60, 64, 67, 0.15);\n",
              "      fill: #174EA6;\n",
              "    }\n",
              "\n",
              "    [theme=dark] .colab-df-convert {\n",
              "      background-color: #3B4455;\n",
              "      fill: #D2E3FC;\n",
              "    }\n",
              "\n",
              "    [theme=dark] .colab-df-convert:hover {\n",
              "      background-color: #434B5C;\n",
              "      box-shadow: 0px 1px 3px 1px rgba(0, 0, 0, 0.15);\n",
              "      filter: drop-shadow(0px 1px 2px rgba(0, 0, 0, 0.3));\n",
              "      fill: #FFFFFF;\n",
              "    }\n",
              "  </style>\n",
              "\n",
              "      <script>\n",
              "        const buttonEl =\n",
              "          document.querySelector('#df-ddd72cbb-b843-46da-92ed-f63b1c180af1 button.colab-df-convert');\n",
              "        buttonEl.style.display =\n",
              "          google.colab.kernel.accessAllowed ? 'block' : 'none';\n",
              "\n",
              "        async function convertToInteractive(key) {\n",
              "          const element = document.querySelector('#df-ddd72cbb-b843-46da-92ed-f63b1c180af1');\n",
              "          const dataTable =\n",
              "            await google.colab.kernel.invokeFunction('convertToInteractive',\n",
              "                                                     [key], {});\n",
              "          if (!dataTable) return;\n",
              "\n",
              "          const docLinkHtml = 'Like what you see? Visit the ' +\n",
              "            '<a target=\"_blank\" href=https://colab.research.google.com/notebooks/data_table.ipynb>data table notebook</a>'\n",
              "            + ' to learn more about interactive tables.';\n",
              "          element.innerHTML = '';\n",
              "          dataTable['output_type'] = 'display_data';\n",
              "          await google.colab.output.renderOutput(dataTable, element);\n",
              "          const docLink = document.createElement('div');\n",
              "          docLink.innerHTML = docLinkHtml;\n",
              "          element.appendChild(docLink);\n",
              "        }\n",
              "      </script>\n",
              "    </div>\n",
              "  </div>\n",
              "  "
            ],
            "text/plain": [
              "   user_id  item_id  popular_score  popular_rank\n",
              "0   176549    10440       141889.0             1\n",
              "1   176549    15297       137128.0             2\n",
              "2   176549    13865        93403.0             3"
            ]
          },
          "execution_count": 59,
          "metadata": {},
          "output_type": "execute_result"
        }
      ],
      "source": [
        "# скоры и ранги popular model\n",
        "popular_candidates = pop_model.recommend(lightfm_user_ids, \n",
        "                                         dataset=dataset, \n",
        "                                         k=50, \n",
        "                                         filter_viewed=False)\n",
        "\n",
        "popular_candidates.rename(columns={'score': 'popular_score',\n",
        "                                   'rank': 'popular_rank',}, \n",
        "                      inplace=True,)\n",
        "\n",
        "popular_candidates.to_csv('popular_candidates.csv', index=False)\n",
        "\n",
        "popular_candidates.head(3)"
      ]
    },
    {
      "cell_type": "code",
      "execution_count": 64,
      "metadata": {
        "colab": {
          "base_uri": "https://localhost:8080/",
          "height": 206
        },
        "id": "_ocfUqqPwwwc",
        "outputId": "b56b60d6-6ae1-4f3d-d5d8-239c118caae2"
      },
      "outputs": [
        {
          "data": {
            "text/html": [
              "\n",
              "  <div id=\"df-8144dbc4-30c3-4670-9fbd-5d8670c284cc\">\n",
              "    <div class=\"colab-df-container\">\n",
              "      <div>\n",
              "<style scoped>\n",
              "    .dataframe tbody tr th:only-of-type {\n",
              "        vertical-align: middle;\n",
              "    }\n",
              "\n",
              "    .dataframe tbody tr th {\n",
              "        vertical-align: top;\n",
              "    }\n",
              "\n",
              "    .dataframe thead th {\n",
              "        text-align: right;\n",
              "    }\n",
              "</style>\n",
              "<table border=\"1\" class=\"dataframe\">\n",
              "  <thead>\n",
              "    <tr style=\"text-align: right;\">\n",
              "      <th></th>\n",
              "      <th>user_id</th>\n",
              "      <th>item_id</th>\n",
              "      <th>lfm_score</th>\n",
              "      <th>lfm_rank</th>\n",
              "      <th>als_score</th>\n",
              "      <th>als_rank</th>\n",
              "      <th>popular_score</th>\n",
              "      <th>popular_rank</th>\n",
              "    </tr>\n",
              "  </thead>\n",
              "  <tbody>\n",
              "    <tr>\n",
              "      <th>0</th>\n",
              "      <td>176549</td>\n",
              "      <td>9728.0</td>\n",
              "      <td>1.180826</td>\n",
              "      <td>1.0</td>\n",
              "      <td>-0.008945</td>\n",
              "      <td>51.0</td>\n",
              "      <td>76978.00</td>\n",
              "      <td>4.0</td>\n",
              "    </tr>\n",
              "    <tr>\n",
              "      <th>1</th>\n",
              "      <td>176549</td>\n",
              "      <td>7571.0</td>\n",
              "      <td>1.132079</td>\n",
              "      <td>2.0</td>\n",
              "      <td>0.975706</td>\n",
              "      <td>11.0</td>\n",
              "      <td>20407.00</td>\n",
              "      <td>16.0</td>\n",
              "    </tr>\n",
              "    <tr>\n",
              "      <th>2</th>\n",
              "      <td>176549</td>\n",
              "      <td>10440.0</td>\n",
              "      <td>1.090371</td>\n",
              "      <td>3.0</td>\n",
              "      <td>-0.008945</td>\n",
              "      <td>51.0</td>\n",
              "      <td>141889.00</td>\n",
              "      <td>1.0</td>\n",
              "    </tr>\n",
              "    <tr>\n",
              "      <th>3</th>\n",
              "      <td>176549</td>\n",
              "      <td>11237.0</td>\n",
              "      <td>1.056374</td>\n",
              "      <td>4.0</td>\n",
              "      <td>-0.008945</td>\n",
              "      <td>51.0</td>\n",
              "      <td>22769.00</td>\n",
              "      <td>14.0</td>\n",
              "    </tr>\n",
              "    <tr>\n",
              "      <th>4</th>\n",
              "      <td>176549</td>\n",
              "      <td>1785.0</td>\n",
              "      <td>0.922613</td>\n",
              "      <td>5.0</td>\n",
              "      <td>-0.008945</td>\n",
              "      <td>51.0</td>\n",
              "      <td>7415.99</td>\n",
              "      <td>51.0</td>\n",
              "    </tr>\n",
              "  </tbody>\n",
              "</table>\n",
              "</div>\n",
              "      <button class=\"colab-df-convert\" onclick=\"convertToInteractive('df-8144dbc4-30c3-4670-9fbd-5d8670c284cc')\"\n",
              "              title=\"Convert this dataframe to an interactive table.\"\n",
              "              style=\"display:none;\">\n",
              "        \n",
              "  <svg xmlns=\"http://www.w3.org/2000/svg\" height=\"24px\"viewBox=\"0 0 24 24\"\n",
              "       width=\"24px\">\n",
              "    <path d=\"M0 0h24v24H0V0z\" fill=\"none\"/>\n",
              "    <path d=\"M18.56 5.44l.94 2.06.94-2.06 2.06-.94-2.06-.94-.94-2.06-.94 2.06-2.06.94zm-11 1L8.5 8.5l.94-2.06 2.06-.94-2.06-.94L8.5 2.5l-.94 2.06-2.06.94zm10 10l.94 2.06.94-2.06 2.06-.94-2.06-.94-.94-2.06-.94 2.06-2.06.94z\"/><path d=\"M17.41 7.96l-1.37-1.37c-.4-.4-.92-.59-1.43-.59-.52 0-1.04.2-1.43.59L10.3 9.45l-7.72 7.72c-.78.78-.78 2.05 0 2.83L4 21.41c.39.39.9.59 1.41.59.51 0 1.02-.2 1.41-.59l7.78-7.78 2.81-2.81c.8-.78.8-2.07 0-2.86zM5.41 20L4 18.59l7.72-7.72 1.47 1.35L5.41 20z\"/>\n",
              "  </svg>\n",
              "      </button>\n",
              "      \n",
              "  <style>\n",
              "    .colab-df-container {\n",
              "      display:flex;\n",
              "      flex-wrap:wrap;\n",
              "      gap: 12px;\n",
              "    }\n",
              "\n",
              "    .colab-df-convert {\n",
              "      background-color: #E8F0FE;\n",
              "      border: none;\n",
              "      border-radius: 50%;\n",
              "      cursor: pointer;\n",
              "      display: none;\n",
              "      fill: #1967D2;\n",
              "      height: 32px;\n",
              "      padding: 0 0 0 0;\n",
              "      width: 32px;\n",
              "    }\n",
              "\n",
              "    .colab-df-convert:hover {\n",
              "      background-color: #E2EBFA;\n",
              "      box-shadow: 0px 1px 2px rgba(60, 64, 67, 0.3), 0px 1px 3px 1px rgba(60, 64, 67, 0.15);\n",
              "      fill: #174EA6;\n",
              "    }\n",
              "\n",
              "    [theme=dark] .colab-df-convert {\n",
              "      background-color: #3B4455;\n",
              "      fill: #D2E3FC;\n",
              "    }\n",
              "\n",
              "    [theme=dark] .colab-df-convert:hover {\n",
              "      background-color: #434B5C;\n",
              "      box-shadow: 0px 1px 3px 1px rgba(0, 0, 0, 0.15);\n",
              "      filter: drop-shadow(0px 1px 2px rgba(0, 0, 0, 0.3));\n",
              "      fill: #FFFFFF;\n",
              "    }\n",
              "  </style>\n",
              "\n",
              "      <script>\n",
              "        const buttonEl =\n",
              "          document.querySelector('#df-8144dbc4-30c3-4670-9fbd-5d8670c284cc button.colab-df-convert');\n",
              "        buttonEl.style.display =\n",
              "          google.colab.kernel.accessAllowed ? 'block' : 'none';\n",
              "\n",
              "        async function convertToInteractive(key) {\n",
              "          const element = document.querySelector('#df-8144dbc4-30c3-4670-9fbd-5d8670c284cc');\n",
              "          const dataTable =\n",
              "            await google.colab.kernel.invokeFunction('convertToInteractive',\n",
              "                                                     [key], {});\n",
              "          if (!dataTable) return;\n",
              "\n",
              "          const docLinkHtml = 'Like what you see? Visit the ' +\n",
              "            '<a target=\"_blank\" href=https://colab.research.google.com/notebooks/data_table.ipynb>data table notebook</a>'\n",
              "            + ' to learn more about interactive tables.';\n",
              "          element.innerHTML = '';\n",
              "          dataTable['output_type'] = 'display_data';\n",
              "          await google.colab.output.renderOutput(dataTable, element);\n",
              "          const docLink = document.createElement('div');\n",
              "          docLink.innerHTML = docLinkHtml;\n",
              "          element.appendChild(docLink);\n",
              "        }\n",
              "      </script>\n",
              "    </div>\n",
              "  </div>\n",
              "  "
            ],
            "text/plain": [
              "   user_id  item_id  lfm_score  lfm_rank  als_score  als_rank  popular_score  \\\n",
              "0   176549   9728.0   1.180826       1.0  -0.008945      51.0       76978.00   \n",
              "1   176549   7571.0   1.132079       2.0   0.975706      11.0       20407.00   \n",
              "2   176549  10440.0   1.090371       3.0  -0.008945      51.0      141889.00   \n",
              "3   176549  11237.0   1.056374       4.0  -0.008945      51.0       22769.00   \n",
              "4   176549   1785.0   0.922613       5.0  -0.008945      51.0        7415.99   \n",
              "\n",
              "   popular_rank  \n",
              "0           4.0  \n",
              "1          16.0  \n",
              "2           1.0  \n",
              "3          14.0  \n",
              "4          51.0  "
            ]
          },
          "execution_count": 64,
          "metadata": {},
          "output_type": "execute_result"
        }
      ],
      "source": [
        "# megre\n",
        "candidates = pd.merge(lfm_candidates, als_candidates,\n",
        "                      on=['user_id', 'item_id'],\n",
        "                      how='outer').merge(\n",
        "                          popular_candidates,\n",
        "                          on=['user_id', 'item_id'],\n",
        "                          how='outer'\n",
        "                      )\n",
        "\n",
        "lfm_min_score: float =  candidates['lfm_score'].min() - 0.01\n",
        "lfm_max_rank: int = candidates['lfm_rank'].max() + 1\n",
        "\n",
        "als_min_score: float =  candidates['als_score'].min() - 0.01\n",
        "als_max_rank: int = candidates['als_rank'].max() + 1\n",
        "\n",
        "pop_min_score: float =  candidates['popular_score'].min() - 0.01\n",
        "pop_max_rank: int = candidates['popular_rank'].max() + 1\n",
        "\n",
        "default_values = {\n",
        "        'lfm_score': lfm_min_score, 'lfm_rank': lfm_max_rank,\n",
        "        'als_score': als_min_score, 'als_rank': als_max_rank,\n",
        "        'popular_score': pop_min_score, 'popular_rank': pop_max_rank,\n",
        "        **interactions_default_values,\n",
        "    }\n",
        "\n",
        "candidates.fillna(default_values, inplace=True)\n",
        "\n",
        "candidates.head()"
      ]
    },
    {
      "cell_type": "code",
      "execution_count": 266,
      "metadata": {
        "id": "Bj55dol9_VGq"
      },
      "outputs": [],
      "source": [
        "candidates.to_csv(index=False)"
      ]
    },
    {
      "cell_type": "code",
      "execution_count": 66,
      "metadata": {
        "id": "jynJhlVLKRuv"
      },
      "outputs": [],
      "source": [
        "def calc_metrics_(candidates_df, rank_col: str) -> Dict[str, float]:\n",
        "    metrics = {\n",
        "        'ndcg@10': NDCG(k = 10),\n",
        "        # 'map@10': MAP(k = 10),\n",
        "        # 'Precision@10': Precision(k = 10),\n",
        "        'recall@10': Recall(k = 10),\n",
        "        # 'novelty@10': MeanInvUserFreq(k = 10),\n",
        "    }\n",
        "    return calc_metrics(\n",
        "        metrics=metrics,\n",
        "        reco=(\n",
        "            candidates_df\n",
        "            .rename(columns={rank_col: Columns.Rank})\n",
        "            [[Columns.User, Columns.Item, Columns.Rank]]\n",
        "            [candidates_df[Columns.User].isin(test_users)]\n",
        "        ),\n",
        "        interactions=(\n",
        "            ranker_data\n",
        "            [[Columns.User, Columns.Item, Columns.Datetime, Columns.Weight]]\n",
        "            [ranker_data[Columns.User].isin(test_users)]\n",
        "        ), \n",
        "        prev_interactions=(\n",
        "            base_models_data\n",
        "            [[Columns.User, Columns.Item, Columns.Datetime, Columns.Weight]]\n",
        "            [base_models_data[Columns.User].isin(test_users)]\n",
        "        ),\n",
        "        catalog=items['item_id'].unique()\n",
        "    )"
      ]
    },
    {
      "cell_type": "code",
      "execution_count": 67,
      "metadata": {
        "id": "8lbCF3W9FfS7"
      },
      "outputs": [],
      "source": [
        "models_metrics: Dict[str, Dict[str, float]] = dict()"
      ]
    },
    {
      "cell_type": "markdown",
      "metadata": {
        "id": "xFC3bshMKRuw"
      },
      "source": [
        "## Формируем датасет для ранкера"
      ]
    },
    {
      "cell_type": "markdown",
      "metadata": {
        "id": "baCGtFc5KRuw"
      },
      "source": [
        "### Генерим фичи для ранкера"
      ]
    },
    {
      "cell_type": "code",
      "execution_count": 68,
      "metadata": {
        "id": "BMQjqti-KRuw"
      },
      "outputs": [],
      "source": [
        "# Получаем длину истории юзера \n",
        "base_models_data['user_hist'] = (\n",
        "    base_models_data.groupby('user_id')\n",
        "    ['item_id'].transform('count')\n",
        ")\n",
        "# Получаем популярность контента\n",
        "base_models_data['item_pop'] = (\n",
        "    base_models_data.groupby('item_id')\n",
        "    ['user_id'].transform('count')\n",
        ")\n",
        "# Получаем среднюю популярность контента, просматриваемого этим юзером\n",
        "base_models_data['user_avg_pop'] = (\n",
        "    base_models_data.groupby('user_id')\n",
        "    ['item_pop'].transform('mean')\n",
        ")\n",
        "# Получаем среднюю длину истории пользователя, которые смотрит этот контент\n",
        "base_models_data['item_avg_hist'] = (\n",
        "    base_models_data.groupby('item_id')\n",
        "    ['user_hist'].transform('mean')\n",
        ")\n",
        "# Получаем популярность последнего просмотренного контента\n",
        "base_models_data.sort_values(\n",
        "    by=[Columns.User, Columns.Datetime], \n",
        "    ascending=[True, False], \n",
        "    ignore_index=True,\n",
        "    inplace=True,\n",
        ")\n",
        "base_models_data['user_last_pop'] = (\n",
        "    base_models_data.groupby('user_id')\n",
        "    ['item_pop'].transform('first')\n",
        ")"
      ]
    },
    {
      "cell_type": "code",
      "execution_count": 81,
      "metadata": {
        "id": "BRnu7-6QqQ0z"
      },
      "outputs": [],
      "source": [
        "# Определяем холодность пользователя\n",
        "# на основе длины истории просмотров\n",
        "# если время просмотра меньше 100, то 1 - пользователь холодный\n",
        "base_models_data['user_cold'] = (\n",
        "    base_models_data.groupby('item_id')\n",
        "    ['user_hist'].transform('sum') < 100\n",
        ").astype(int)"
      ]
    },
    {
      "cell_type": "code",
      "execution_count": 82,
      "metadata": {
        "colab": {
          "base_uri": "https://localhost:8080/",
          "height": 357
        },
        "id": "_z6XfckaqqAX",
        "outputId": "2a93c719-66c9-4eea-cb61-ddcf6a29ebec"
      },
      "outputs": [
        {
          "data": {
            "text/html": [
              "\n",
              "  <div id=\"df-7cebdea5-0519-4a06-9e85-55cd347d7687\">\n",
              "    <div class=\"colab-df-container\">\n",
              "      <div>\n",
              "<style scoped>\n",
              "    .dataframe tbody tr th:only-of-type {\n",
              "        vertical-align: middle;\n",
              "    }\n",
              "\n",
              "    .dataframe tbody tr th {\n",
              "        vertical-align: top;\n",
              "    }\n",
              "\n",
              "    .dataframe thead th {\n",
              "        text-align: right;\n",
              "    }\n",
              "</style>\n",
              "<table border=\"1\" class=\"dataframe\">\n",
              "  <thead>\n",
              "    <tr style=\"text-align: right;\">\n",
              "      <th></th>\n",
              "      <th>user_id</th>\n",
              "      <th>item_id</th>\n",
              "      <th>datetime</th>\n",
              "      <th>total_dur</th>\n",
              "      <th>weight</th>\n",
              "      <th>user_hist</th>\n",
              "      <th>item_pop</th>\n",
              "      <th>user_avg_pop</th>\n",
              "      <th>item_avg_hist</th>\n",
              "      <th>user_last_pop</th>\n",
              "      <th>user_cold</th>\n",
              "    </tr>\n",
              "  </thead>\n",
              "  <tbody>\n",
              "    <tr>\n",
              "      <th>0</th>\n",
              "      <td>0</td>\n",
              "      <td>6006</td>\n",
              "      <td>2021-07-20</td>\n",
              "      <td>1</td>\n",
              "      <td>0.0</td>\n",
              "      <td>6</td>\n",
              "      <td>5208</td>\n",
              "      <td>41885.0</td>\n",
              "      <td>16.891897</td>\n",
              "      <td>5208</td>\n",
              "      <td>0</td>\n",
              "    </tr>\n",
              "    <tr>\n",
              "      <th>1</th>\n",
              "      <td>0</td>\n",
              "      <td>7102</td>\n",
              "      <td>2021-07-19</td>\n",
              "      <td>169</td>\n",
              "      <td>3.0</td>\n",
              "      <td>6</td>\n",
              "      <td>11626</td>\n",
              "      <td>41885.0</td>\n",
              "      <td>20.349475</td>\n",
              "      <td>5208</td>\n",
              "      <td>0</td>\n",
              "    </tr>\n",
              "    <tr>\n",
              "      <th>2</th>\n",
              "      <td>0</td>\n",
              "      <td>14359</td>\n",
              "      <td>2021-07-19</td>\n",
              "      <td>130</td>\n",
              "      <td>2.0</td>\n",
              "      <td>6</td>\n",
              "      <td>6053</td>\n",
              "      <td>41885.0</td>\n",
              "      <td>22.546836</td>\n",
              "      <td>5208</td>\n",
              "      <td>0</td>\n",
              "    </tr>\n",
              "    <tr>\n",
              "      <th>3</th>\n",
              "      <td>0</td>\n",
              "      <td>15297</td>\n",
              "      <td>2021-07-19</td>\n",
              "      <td>459</td>\n",
              "      <td>0.0</td>\n",
              "      <td>6</td>\n",
              "      <td>137128</td>\n",
              "      <td>41885.0</td>\n",
              "      <td>7.364295</td>\n",
              "      <td>5208</td>\n",
              "      <td>0</td>\n",
              "    </tr>\n",
              "    <tr>\n",
              "      <th>4</th>\n",
              "      <td>0</td>\n",
              "      <td>9728</td>\n",
              "      <td>2021-07-19</td>\n",
              "      <td>4</td>\n",
              "      <td>0.0</td>\n",
              "      <td>6</td>\n",
              "      <td>76978</td>\n",
              "      <td>41885.0</td>\n",
              "      <td>11.165736</td>\n",
              "      <td>5208</td>\n",
              "      <td>0</td>\n",
              "    </tr>\n",
              "  </tbody>\n",
              "</table>\n",
              "</div>\n",
              "      <button class=\"colab-df-convert\" onclick=\"convertToInteractive('df-7cebdea5-0519-4a06-9e85-55cd347d7687')\"\n",
              "              title=\"Convert this dataframe to an interactive table.\"\n",
              "              style=\"display:none;\">\n",
              "        \n",
              "  <svg xmlns=\"http://www.w3.org/2000/svg\" height=\"24px\"viewBox=\"0 0 24 24\"\n",
              "       width=\"24px\">\n",
              "    <path d=\"M0 0h24v24H0V0z\" fill=\"none\"/>\n",
              "    <path d=\"M18.56 5.44l.94 2.06.94-2.06 2.06-.94-2.06-.94-.94-2.06-.94 2.06-2.06.94zm-11 1L8.5 8.5l.94-2.06 2.06-.94-2.06-.94L8.5 2.5l-.94 2.06-2.06.94zm10 10l.94 2.06.94-2.06 2.06-.94-2.06-.94-.94-2.06-.94 2.06-2.06.94z\"/><path d=\"M17.41 7.96l-1.37-1.37c-.4-.4-.92-.59-1.43-.59-.52 0-1.04.2-1.43.59L10.3 9.45l-7.72 7.72c-.78.78-.78 2.05 0 2.83L4 21.41c.39.39.9.59 1.41.59.51 0 1.02-.2 1.41-.59l7.78-7.78 2.81-2.81c.8-.78.8-2.07 0-2.86zM5.41 20L4 18.59l7.72-7.72 1.47 1.35L5.41 20z\"/>\n",
              "  </svg>\n",
              "      </button>\n",
              "      \n",
              "  <style>\n",
              "    .colab-df-container {\n",
              "      display:flex;\n",
              "      flex-wrap:wrap;\n",
              "      gap: 12px;\n",
              "    }\n",
              "\n",
              "    .colab-df-convert {\n",
              "      background-color: #E8F0FE;\n",
              "      border: none;\n",
              "      border-radius: 50%;\n",
              "      cursor: pointer;\n",
              "      display: none;\n",
              "      fill: #1967D2;\n",
              "      height: 32px;\n",
              "      padding: 0 0 0 0;\n",
              "      width: 32px;\n",
              "    }\n",
              "\n",
              "    .colab-df-convert:hover {\n",
              "      background-color: #E2EBFA;\n",
              "      box-shadow: 0px 1px 2px rgba(60, 64, 67, 0.3), 0px 1px 3px 1px rgba(60, 64, 67, 0.15);\n",
              "      fill: #174EA6;\n",
              "    }\n",
              "\n",
              "    [theme=dark] .colab-df-convert {\n",
              "      background-color: #3B4455;\n",
              "      fill: #D2E3FC;\n",
              "    }\n",
              "\n",
              "    [theme=dark] .colab-df-convert:hover {\n",
              "      background-color: #434B5C;\n",
              "      box-shadow: 0px 1px 3px 1px rgba(0, 0, 0, 0.15);\n",
              "      filter: drop-shadow(0px 1px 2px rgba(0, 0, 0, 0.3));\n",
              "      fill: #FFFFFF;\n",
              "    }\n",
              "  </style>\n",
              "\n",
              "      <script>\n",
              "        const buttonEl =\n",
              "          document.querySelector('#df-7cebdea5-0519-4a06-9e85-55cd347d7687 button.colab-df-convert');\n",
              "        buttonEl.style.display =\n",
              "          google.colab.kernel.accessAllowed ? 'block' : 'none';\n",
              "\n",
              "        async function convertToInteractive(key) {\n",
              "          const element = document.querySelector('#df-7cebdea5-0519-4a06-9e85-55cd347d7687');\n",
              "          const dataTable =\n",
              "            await google.colab.kernel.invokeFunction('convertToInteractive',\n",
              "                                                     [key], {});\n",
              "          if (!dataTable) return;\n",
              "\n",
              "          const docLinkHtml = 'Like what you see? Visit the ' +\n",
              "            '<a target=\"_blank\" href=https://colab.research.google.com/notebooks/data_table.ipynb>data table notebook</a>'\n",
              "            + ' to learn more about interactive tables.';\n",
              "          element.innerHTML = '';\n",
              "          dataTable['output_type'] = 'display_data';\n",
              "          await google.colab.output.renderOutput(dataTable, element);\n",
              "          const docLink = document.createElement('div');\n",
              "          docLink.innerHTML = docLinkHtml;\n",
              "          element.appendChild(docLink);\n",
              "        }\n",
              "      </script>\n",
              "    </div>\n",
              "  </div>\n",
              "  "
            ],
            "text/plain": [
              "   user_id  item_id   datetime  total_dur  weight  user_hist  item_pop  \\\n",
              "0        0     6006 2021-07-20          1     0.0          6      5208   \n",
              "1        0     7102 2021-07-19        169     3.0          6     11626   \n",
              "2        0    14359 2021-07-19        130     2.0          6      6053   \n",
              "3        0    15297 2021-07-19        459     0.0          6    137128   \n",
              "4        0     9728 2021-07-19          4     0.0          6     76978   \n",
              "\n",
              "   user_avg_pop  item_avg_hist  user_last_pop  user_cold  \n",
              "0       41885.0      16.891897           5208          0  \n",
              "1       41885.0      20.349475           5208          0  \n",
              "2       41885.0      22.546836           5208          0  \n",
              "3       41885.0       7.364295           5208          0  \n",
              "4       41885.0      11.165736           5208          0  "
            ]
          },
          "execution_count": 82,
          "metadata": {},
          "output_type": "execute_result"
        }
      ],
      "source": [
        "base_models_data.head()"
      ]
    },
    {
      "cell_type": "code",
      "execution_count": 83,
      "metadata": {
        "colab": {
          "base_uri": "https://localhost:8080/",
          "height": 143
        },
        "id": "lsQmJmBCKRuw",
        "outputId": "f517c361-da13-414d-cf13-0abaf1fd80f6"
      },
      "outputs": [
        {
          "data": {
            "text/html": [
              "\n",
              "  <div id=\"df-330ae0ec-a1b2-4f85-9ed9-bf1198d57c49\">\n",
              "    <div class=\"colab-df-container\">\n",
              "      <div>\n",
              "<style scoped>\n",
              "    .dataframe tbody tr th:only-of-type {\n",
              "        vertical-align: middle;\n",
              "    }\n",
              "\n",
              "    .dataframe tbody tr th {\n",
              "        vertical-align: top;\n",
              "    }\n",
              "\n",
              "    .dataframe thead th {\n",
              "        text-align: right;\n",
              "    }\n",
              "</style>\n",
              "<table border=\"1\" class=\"dataframe\">\n",
              "  <thead>\n",
              "    <tr style=\"text-align: right;\">\n",
              "      <th></th>\n",
              "      <th>user_id</th>\n",
              "      <th>age</th>\n",
              "      <th>income</th>\n",
              "      <th>sex</th>\n",
              "      <th>kids_flg</th>\n",
              "      <th>user_hist</th>\n",
              "      <th>user_avg_pop</th>\n",
              "      <th>user_last_pop</th>\n",
              "      <th>user_cold</th>\n",
              "    </tr>\n",
              "  </thead>\n",
              "  <tbody>\n",
              "    <tr>\n",
              "      <th>0</th>\n",
              "      <td>973171</td>\n",
              "      <td>1</td>\n",
              "      <td>4</td>\n",
              "      <td>1</td>\n",
              "      <td>1</td>\n",
              "      <td>5</td>\n",
              "      <td>19550.800000</td>\n",
              "      <td>93403</td>\n",
              "      <td>0</td>\n",
              "    </tr>\n",
              "    <tr>\n",
              "      <th>1</th>\n",
              "      <td>962099</td>\n",
              "      <td>0</td>\n",
              "      <td>2</td>\n",
              "      <td>1</td>\n",
              "      <td>0</td>\n",
              "      <td>13</td>\n",
              "      <td>1329.307692</td>\n",
              "      <td>260</td>\n",
              "      <td>0</td>\n",
              "    </tr>\n",
              "    <tr>\n",
              "      <th>2</th>\n",
              "      <td>721985</td>\n",
              "      <td>3</td>\n",
              "      <td>2</td>\n",
              "      <td>0</td>\n",
              "      <td>0</td>\n",
              "      <td>13</td>\n",
              "      <td>6009.461538</td>\n",
              "      <td>446</td>\n",
              "      <td>0</td>\n",
              "    </tr>\n",
              "  </tbody>\n",
              "</table>\n",
              "</div>\n",
              "      <button class=\"colab-df-convert\" onclick=\"convertToInteractive('df-330ae0ec-a1b2-4f85-9ed9-bf1198d57c49')\"\n",
              "              title=\"Convert this dataframe to an interactive table.\"\n",
              "              style=\"display:none;\">\n",
              "        \n",
              "  <svg xmlns=\"http://www.w3.org/2000/svg\" height=\"24px\"viewBox=\"0 0 24 24\"\n",
              "       width=\"24px\">\n",
              "    <path d=\"M0 0h24v24H0V0z\" fill=\"none\"/>\n",
              "    <path d=\"M18.56 5.44l.94 2.06.94-2.06 2.06-.94-2.06-.94-.94-2.06-.94 2.06-2.06.94zm-11 1L8.5 8.5l.94-2.06 2.06-.94-2.06-.94L8.5 2.5l-.94 2.06-2.06.94zm10 10l.94 2.06.94-2.06 2.06-.94-2.06-.94-.94-2.06-.94 2.06-2.06.94z\"/><path d=\"M17.41 7.96l-1.37-1.37c-.4-.4-.92-.59-1.43-.59-.52 0-1.04.2-1.43.59L10.3 9.45l-7.72 7.72c-.78.78-.78 2.05 0 2.83L4 21.41c.39.39.9.59 1.41.59.51 0 1.02-.2 1.41-.59l7.78-7.78 2.81-2.81c.8-.78.8-2.07 0-2.86zM5.41 20L4 18.59l7.72-7.72 1.47 1.35L5.41 20z\"/>\n",
              "  </svg>\n",
              "      </button>\n",
              "      \n",
              "  <style>\n",
              "    .colab-df-container {\n",
              "      display:flex;\n",
              "      flex-wrap:wrap;\n",
              "      gap: 12px;\n",
              "    }\n",
              "\n",
              "    .colab-df-convert {\n",
              "      background-color: #E8F0FE;\n",
              "      border: none;\n",
              "      border-radius: 50%;\n",
              "      cursor: pointer;\n",
              "      display: none;\n",
              "      fill: #1967D2;\n",
              "      height: 32px;\n",
              "      padding: 0 0 0 0;\n",
              "      width: 32px;\n",
              "    }\n",
              "\n",
              "    .colab-df-convert:hover {\n",
              "      background-color: #E2EBFA;\n",
              "      box-shadow: 0px 1px 2px rgba(60, 64, 67, 0.3), 0px 1px 3px 1px rgba(60, 64, 67, 0.15);\n",
              "      fill: #174EA6;\n",
              "    }\n",
              "\n",
              "    [theme=dark] .colab-df-convert {\n",
              "      background-color: #3B4455;\n",
              "      fill: #D2E3FC;\n",
              "    }\n",
              "\n",
              "    [theme=dark] .colab-df-convert:hover {\n",
              "      background-color: #434B5C;\n",
              "      box-shadow: 0px 1px 3px 1px rgba(0, 0, 0, 0.15);\n",
              "      filter: drop-shadow(0px 1px 2px rgba(0, 0, 0, 0.3));\n",
              "      fill: #FFFFFF;\n",
              "    }\n",
              "  </style>\n",
              "\n",
              "      <script>\n",
              "        const buttonEl =\n",
              "          document.querySelector('#df-330ae0ec-a1b2-4f85-9ed9-bf1198d57c49 button.colab-df-convert');\n",
              "        buttonEl.style.display =\n",
              "          google.colab.kernel.accessAllowed ? 'block' : 'none';\n",
              "\n",
              "        async function convertToInteractive(key) {\n",
              "          const element = document.querySelector('#df-330ae0ec-a1b2-4f85-9ed9-bf1198d57c49');\n",
              "          const dataTable =\n",
              "            await google.colab.kernel.invokeFunction('convertToInteractive',\n",
              "                                                     [key], {});\n",
              "          if (!dataTable) return;\n",
              "\n",
              "          const docLinkHtml = 'Like what you see? Visit the ' +\n",
              "            '<a target=\"_blank\" href=https://colab.research.google.com/notebooks/data_table.ipynb>data table notebook</a>'\n",
              "            + ' to learn more about interactive tables.';\n",
              "          element.innerHTML = '';\n",
              "          dataTable['output_type'] = 'display_data';\n",
              "          await google.colab.output.renderOutput(dataTable, element);\n",
              "          const docLink = document.createElement('div');\n",
              "          docLink.innerHTML = docLinkHtml;\n",
              "          element.appendChild(docLink);\n",
              "        }\n",
              "      </script>\n",
              "    </div>\n",
              "  </div>\n",
              "  "
            ],
            "text/plain": [
              "   user_id age income sex kids_flg  user_hist  user_avg_pop  user_last_pop  \\\n",
              "0   973171   1      4   1        1          5  19550.800000          93403   \n",
              "1   962099   0      2   1        0         13   1329.307692            260   \n",
              "2   721985   3      2   0        0         13   6009.461538            446   \n",
              "\n",
              "   user_cold  \n",
              "0          0  \n",
              "1          0  \n",
              "2          0  "
            ]
          },
          "execution_count": 83,
          "metadata": {},
          "output_type": "execute_result"
        }
      ],
      "source": [
        "items = pd.merge(\n",
        "    left=items, \n",
        "    right=(\n",
        "        base_models_data\n",
        "        [['item_id', 'item_pop', 'item_avg_hist']]\n",
        "        .drop_duplicates()\n",
        "    ),\n",
        "    how='left',\n",
        "    on='item_id',\n",
        ")\n",
        "\n",
        "users = pd.merge(\n",
        "    left=users, \n",
        "    right=(\n",
        "        base_models_data\n",
        "        [['user_id', 'user_hist', 'user_avg_pop', 'user_last_pop', 'user_cold']]\n",
        "        .drop_duplicates()\n",
        "    ),\n",
        "    how='left',\n",
        "    on='user_id',\n",
        ")\n",
        "users.head(3)"
      ]
    },
    {
      "cell_type": "code",
      "execution_count": 84,
      "metadata": {
        "id": "AxzHxo6LKRuw"
      },
      "outputs": [],
      "source": [
        "default_values_items['item_pop'] = base_models_data['item_pop'].median()\n",
        "default_values_items['item_avg_hist'] = base_models_data['item_avg_hist'].median()\n",
        "\n",
        "default_values_users = {\n",
        "    'user_hist': 0,\n",
        "    'user_avg_pop': base_models_data['user_avg_pop'].median(),\n",
        "    'user_last_pop': base_models_data['user_last_pop'].median(),\n",
        "}"
      ]
    },
    {
      "cell_type": "markdown",
      "metadata": {
        "id": "8Ah4baDpKRuw"
      },
      "source": [
        "### Джойним кандидатов и юзер/айтем фичи"
      ]
    },
    {
      "cell_type": "code",
      "execution_count": 87,
      "metadata": {
        "colab": {
          "base_uri": "https://localhost:8080/",
          "height": 143
        },
        "id": "mQhOjD1fKRuw",
        "outputId": "cda770b1-d508-4013-8389-8a597bc76a3c"
      },
      "outputs": [
        {
          "data": {
            "text/html": [
              "\n",
              "  <div id=\"df-b237d1e5-fd1a-402f-a095-6b64189c293c\">\n",
              "    <div class=\"colab-df-container\">\n",
              "      <div>\n",
              "<style scoped>\n",
              "    .dataframe tbody tr th:only-of-type {\n",
              "        vertical-align: middle;\n",
              "    }\n",
              "\n",
              "    .dataframe tbody tr th {\n",
              "        vertical-align: top;\n",
              "    }\n",
              "\n",
              "    .dataframe thead th {\n",
              "        text-align: right;\n",
              "    }\n",
              "</style>\n",
              "<table border=\"1\" class=\"dataframe\">\n",
              "  <thead>\n",
              "    <tr style=\"text-align: right;\">\n",
              "      <th></th>\n",
              "      <th>user_id</th>\n",
              "      <th>item_id</th>\n",
              "      <th>lfm_score</th>\n",
              "      <th>lfm_rank</th>\n",
              "      <th>als_score</th>\n",
              "      <th>als_rank</th>\n",
              "      <th>popular_score</th>\n",
              "      <th>popular_rank</th>\n",
              "    </tr>\n",
              "  </thead>\n",
              "  <tbody>\n",
              "    <tr>\n",
              "      <th>0</th>\n",
              "      <td>176549</td>\n",
              "      <td>9728.0</td>\n",
              "      <td>1.180826</td>\n",
              "      <td>1.0</td>\n",
              "      <td>-0.008945</td>\n",
              "      <td>51.0</td>\n",
              "      <td>76978.0</td>\n",
              "      <td>4.0</td>\n",
              "    </tr>\n",
              "    <tr>\n",
              "      <th>1</th>\n",
              "      <td>176549</td>\n",
              "      <td>7571.0</td>\n",
              "      <td>1.132079</td>\n",
              "      <td>2.0</td>\n",
              "      <td>0.975706</td>\n",
              "      <td>11.0</td>\n",
              "      <td>20407.0</td>\n",
              "      <td>16.0</td>\n",
              "    </tr>\n",
              "    <tr>\n",
              "      <th>2</th>\n",
              "      <td>176549</td>\n",
              "      <td>10440.0</td>\n",
              "      <td>1.090371</td>\n",
              "      <td>3.0</td>\n",
              "      <td>-0.008945</td>\n",
              "      <td>51.0</td>\n",
              "      <td>141889.0</td>\n",
              "      <td>1.0</td>\n",
              "    </tr>\n",
              "  </tbody>\n",
              "</table>\n",
              "</div>\n",
              "      <button class=\"colab-df-convert\" onclick=\"convertToInteractive('df-b237d1e5-fd1a-402f-a095-6b64189c293c')\"\n",
              "              title=\"Convert this dataframe to an interactive table.\"\n",
              "              style=\"display:none;\">\n",
              "        \n",
              "  <svg xmlns=\"http://www.w3.org/2000/svg\" height=\"24px\"viewBox=\"0 0 24 24\"\n",
              "       width=\"24px\">\n",
              "    <path d=\"M0 0h24v24H0V0z\" fill=\"none\"/>\n",
              "    <path d=\"M18.56 5.44l.94 2.06.94-2.06 2.06-.94-2.06-.94-.94-2.06-.94 2.06-2.06.94zm-11 1L8.5 8.5l.94-2.06 2.06-.94-2.06-.94L8.5 2.5l-.94 2.06-2.06.94zm10 10l.94 2.06.94-2.06 2.06-.94-2.06-.94-.94-2.06-.94 2.06-2.06.94z\"/><path d=\"M17.41 7.96l-1.37-1.37c-.4-.4-.92-.59-1.43-.59-.52 0-1.04.2-1.43.59L10.3 9.45l-7.72 7.72c-.78.78-.78 2.05 0 2.83L4 21.41c.39.39.9.59 1.41.59.51 0 1.02-.2 1.41-.59l7.78-7.78 2.81-2.81c.8-.78.8-2.07 0-2.86zM5.41 20L4 18.59l7.72-7.72 1.47 1.35L5.41 20z\"/>\n",
              "  </svg>\n",
              "      </button>\n",
              "      \n",
              "  <style>\n",
              "    .colab-df-container {\n",
              "      display:flex;\n",
              "      flex-wrap:wrap;\n",
              "      gap: 12px;\n",
              "    }\n",
              "\n",
              "    .colab-df-convert {\n",
              "      background-color: #E8F0FE;\n",
              "      border: none;\n",
              "      border-radius: 50%;\n",
              "      cursor: pointer;\n",
              "      display: none;\n",
              "      fill: #1967D2;\n",
              "      height: 32px;\n",
              "      padding: 0 0 0 0;\n",
              "      width: 32px;\n",
              "    }\n",
              "\n",
              "    .colab-df-convert:hover {\n",
              "      background-color: #E2EBFA;\n",
              "      box-shadow: 0px 1px 2px rgba(60, 64, 67, 0.3), 0px 1px 3px 1px rgba(60, 64, 67, 0.15);\n",
              "      fill: #174EA6;\n",
              "    }\n",
              "\n",
              "    [theme=dark] .colab-df-convert {\n",
              "      background-color: #3B4455;\n",
              "      fill: #D2E3FC;\n",
              "    }\n",
              "\n",
              "    [theme=dark] .colab-df-convert:hover {\n",
              "      background-color: #434B5C;\n",
              "      box-shadow: 0px 1px 3px 1px rgba(0, 0, 0, 0.15);\n",
              "      filter: drop-shadow(0px 1px 2px rgba(0, 0, 0, 0.3));\n",
              "      fill: #FFFFFF;\n",
              "    }\n",
              "  </style>\n",
              "\n",
              "      <script>\n",
              "        const buttonEl =\n",
              "          document.querySelector('#df-b237d1e5-fd1a-402f-a095-6b64189c293c button.colab-df-convert');\n",
              "        buttonEl.style.display =\n",
              "          google.colab.kernel.accessAllowed ? 'block' : 'none';\n",
              "\n",
              "        async function convertToInteractive(key) {\n",
              "          const element = document.querySelector('#df-b237d1e5-fd1a-402f-a095-6b64189c293c');\n",
              "          const dataTable =\n",
              "            await google.colab.kernel.invokeFunction('convertToInteractive',\n",
              "                                                     [key], {});\n",
              "          if (!dataTable) return;\n",
              "\n",
              "          const docLinkHtml = 'Like what you see? Visit the ' +\n",
              "            '<a target=\"_blank\" href=https://colab.research.google.com/notebooks/data_table.ipynb>data table notebook</a>'\n",
              "            + ' to learn more about interactive tables.';\n",
              "          element.innerHTML = '';\n",
              "          dataTable['output_type'] = 'display_data';\n",
              "          await google.colab.output.renderOutput(dataTable, element);\n",
              "          const docLink = document.createElement('div');\n",
              "          docLink.innerHTML = docLinkHtml;\n",
              "          element.appendChild(docLink);\n",
              "        }\n",
              "      </script>\n",
              "    </div>\n",
              "  </div>\n",
              "  "
            ],
            "text/plain": [
              "   user_id  item_id  lfm_score  lfm_rank  als_score  als_rank  popular_score  \\\n",
              "0   176549   9728.0   1.180826       1.0  -0.008945      51.0        76978.0   \n",
              "1   176549   7571.0   1.132079       2.0   0.975706      11.0        20407.0   \n",
              "2   176549  10440.0   1.090371       3.0  -0.008945      51.0       141889.0   \n",
              "\n",
              "   popular_rank  \n",
              "0           4.0  \n",
              "1          16.0  \n",
              "2           1.0  "
            ]
          },
          "execution_count": 87,
          "metadata": {},
          "output_type": "execute_result"
        }
      ],
      "source": [
        "# candidates = pd.read_csv('candidates.csv')\n",
        "candidates.head(3)"
      ]
    },
    {
      "cell_type": "code",
      "execution_count": 88,
      "metadata": {
        "id": "HFN4ijawKRuw"
      },
      "outputs": [],
      "source": [
        "def users_filter(\n",
        "    user_list: np.ndarray,\n",
        "    candidates_df: pd.DataFrame, \n",
        "    df: pd.DataFrame,\n",
        ") -> pd.DataFrame:\n",
        "    \n",
        "    df = pd.merge(\n",
        "        df[df['user_id'].isin(user_list)], \n",
        "        candidates_df[candidates_df['user_id'].isin(user_list)], \n",
        "        how='outer',\n",
        "        on=['user_id', 'item_id']\n",
        "    )\n",
        "\n",
        "    min_score: float =  df['lfm_score'].min() - 0.01\n",
        "    max_rank: int = df['lfm_rank'].max() + 1  # 101\n",
        "    \n",
        "    default_values = {\n",
        "        'lfm_score': min_score, 'lfm_rank': max_rank,\n",
        "        **interactions_default_values,\n",
        "    }\n",
        "    df.fillna(default_values, inplace=True)\n",
        "        \n",
        "    df.sort_values(\n",
        "        by=['user_id', 'item_id'],\n",
        "        inplace=True,\n",
        "    )\n",
        "    return df\n",
        "\n",
        "ranker_train = users_filter(train_users, candidates, ranker_data)\n",
        "ranker_val = users_filter(val_users, candidates, ranker_data)\n",
        "ranker_test = users_filter(test_users, candidates, ranker_data)"
      ]
    },
    {
      "cell_type": "code",
      "execution_count": 89,
      "metadata": {
        "id": "cU_lQpY8KRux"
      },
      "outputs": [],
      "source": [
        "# Добавляем фичи\n",
        "def add_features(df: pd.DataFrame) -> pd.DataFrame:\n",
        "    df = pd.merge(\n",
        "        df, \n",
        "        users, \n",
        "        how='left', \n",
        "        on=['user_id']\n",
        "    )\n",
        "    df = pd.merge(\n",
        "        df, \n",
        "        items, \n",
        "        how='left', \n",
        "        on=['item_id']\n",
        "    )\n",
        "\n",
        "    df.fillna(default_values_items, inplace=True)\n",
        "    df.fillna(default_values_users, inplace=True)\n",
        "\n",
        "    for col in df.columns:\n",
        "        if isinstance(df[col].dtype, pd.CategoricalDtype):\n",
        "            if -1 not in df[col].cat.categories:\n",
        "                df[col] = df[col].cat.add_categories(-1)\n",
        "            df.fillna({col: -1}, inplace=True)\n",
        "    return df\n",
        "\n",
        "ranker_train = add_features(ranker_train)\n",
        "ranker_val = add_features(ranker_val)\n",
        "ranker_test = add_features(ranker_test)"
      ]
    },
    {
      "cell_type": "code",
      "execution_count": 90,
      "metadata": {
        "id": "Zp6o0wTDzFFR"
      },
      "outputs": [],
      "source": [
        "def filter_interations(df: pd.DataFrame) -> pd.DataFrame:\n",
        "    return df[df['lfm_rank'] <= 100]\n",
        "\n",
        "ranker_train = filter_interations(ranker_train)\n",
        "ranker_val = filter_interations(ranker_val)"
      ]
    },
    {
      "cell_type": "code",
      "execution_count": 91,
      "metadata": {
        "id": "EMkn56t-KRux"
      },
      "outputs": [],
      "source": [
        "for name in ['train', 'val', 'test']:\n",
        "    path: str = f'ranker_{name}.csv'\n",
        "    # eval(f'ranker_{name}').to_csv(path, index=False)\n",
        "    locals()[f'ranker_{name}'].to_csv(path, index=False)"
      ]
    },
    {
      "cell_type": "markdown",
      "metadata": {
        "id": "R2xJ8uMEKRux"
      },
      "source": [
        "## Обучение ранкеров"
      ]
    },
    {
      "cell_type": "code",
      "execution_count": 76,
      "metadata": {
        "id": "kqKK_Vf9KRux"
      },
      "outputs": [],
      "source": [
        "# Загружаем данные\n",
        "for name in ['train', 'val', 'test']:\n",
        "    path: str = f'ranker_{name}.csv'\n",
        "    locals()[f'ranker_{name}'] = pd.read_csv(path)"
      ]
    },
    {
      "cell_type": "code",
      "execution_count": 92,
      "metadata": {
        "id": "TSBrueLTKRux"
      },
      "outputs": [],
      "source": [
        "def filter_group(df: pd.DataFrame) -> pd.DataFrame:\n",
        "    df.sort_values(\n",
        "        by=['user_id', 'item_id'],\n",
        "        inplace=True,\n",
        "    )\n",
        "    groups_df = (\n",
        "        df[['user_id', 'item_id']]\n",
        "        .groupby(by=['user_id']).count()\n",
        "        .rename(columns={'item_id': 'group_size'})\n",
        "    )\n",
        "    df = pd.merge(\n",
        "        df, \n",
        "        groups_df, \n",
        "        how='left', \n",
        "        on=['user_id']\n",
        "    )\n",
        "    # Удаляем группы, без достаточного числа просмотров/кандидатов\n",
        "    df = df[df['group_size'] >= 100]\n",
        "\n",
        "    # Колонка больше не нужна\n",
        "    df.drop(columns=['group_size'], inplace=True)\n",
        "    return df\n",
        "\n",
        "ranker_train = filter_group(ranker_train)\n",
        "ranker_val = filter_group(ranker_val)\n",
        "# # ranker_test = filter_group(ranker_test)"
      ]
    },
    {
      "cell_type": "code",
      "execution_count": 93,
      "metadata": {
        "id": "sYCvHqqoKRux"
      },
      "outputs": [],
      "source": [
        "cols = [\n",
        "    'lfm_score', 'lfm_rank', 'als_score', 'als_rank', 'popular_score', 'popular_rak',\n",
        "    'age', 'income', 'sex', 'kids_flg', 'user_hist', 'user_avg_pop', 'user_last_pop',\n",
        "    'content_type', 'release_year', 'for_kids', 'age_rating', 'studios', 'item_pop', 'item_avg_hist',\n",
        "]\n",
        "\n",
        "cat_cols = [\n",
        "    'age', 'income', 'sex', 'kids_flg',\n",
        "    'content_type', 'for_kids', 'studios',\n",
        "]"
      ]
    },
    {
      "cell_type": "code",
      "execution_count": 94,
      "metadata": {
        "id": "rtqvlSFEKRuy"
      },
      "outputs": [],
      "source": [
        "def add_score_and_rank(df: pd.DataFrame, y_pred_scores: np.ndarray, name: str) -> pd.DataFrame:\n",
        "    df[f'{name}_score'] = y_pred_scores\n",
        "    \n",
        "    df.sort_values(\n",
        "        by=['user_id', f'{name}_score'],\n",
        "        ascending=[True, False],\n",
        "        inplace=True,\n",
        "    )\n",
        "    df[f'{name}_rank'] = df.groupby('user_id').cumcount() + 1\n",
        "\n",
        "    mask = (df['lfm_rank'] < 101).to_numpy()\n",
        "    eps: float = 0.001\n",
        "    min_score: float = min(y_pred_scores) - eps\n",
        "    df[f'{name}_hybrid_score'] = df[f'{name}_score'] * mask\n",
        "    df[f'{name}_hybrid_score'].replace(\n",
        "        0,\n",
        "        min_score,\n",
        "        inplace=True,\n",
        "    )\n",
        "    \n",
        "    df[f'{name}_hybrid_rank'] = df[f'{name}_rank'] * mask\n",
        "    max_rank: int = 101\n",
        "    df[f'{name}_hybrid_rank'].replace(\n",
        "        0,\n",
        "        max_rank,\n",
        "        inplace=True,\n",
        "    )\n",
        "    return df"
      ]
    },
    {
      "cell_type": "code",
      "execution_count": 95,
      "metadata": {
        "colab": {
          "base_uri": "https://localhost:8080/",
          "height": 324
        },
        "id": "m0Y-yqqs4NOW",
        "outputId": "90159abe-2460-4a53-efd1-e33005719ff8"
      },
      "outputs": [
        {
          "data": {
            "text/html": [
              "\n",
              "  <div id=\"df-6126956f-5353-4158-8acc-b022a937553a\">\n",
              "    <div class=\"colab-df-container\">\n",
              "      <div>\n",
              "<style scoped>\n",
              "    .dataframe tbody tr th:only-of-type {\n",
              "        vertical-align: middle;\n",
              "    }\n",
              "\n",
              "    .dataframe tbody tr th {\n",
              "        vertical-align: top;\n",
              "    }\n",
              "\n",
              "    .dataframe thead th {\n",
              "        text-align: right;\n",
              "    }\n",
              "</style>\n",
              "<table border=\"1\" class=\"dataframe\">\n",
              "  <thead>\n",
              "    <tr style=\"text-align: right;\">\n",
              "      <th></th>\n",
              "      <th>user_id</th>\n",
              "      <th>item_id</th>\n",
              "      <th>datetime</th>\n",
              "      <th>total_dur</th>\n",
              "      <th>weight</th>\n",
              "      <th>lfm_score</th>\n",
              "      <th>lfm_rank</th>\n",
              "      <th>als_score</th>\n",
              "      <th>als_rank</th>\n",
              "      <th>popular_score</th>\n",
              "      <th>...</th>\n",
              "      <th>user_cold</th>\n",
              "      <th>content_type</th>\n",
              "      <th>release_year</th>\n",
              "      <th>for_kids</th>\n",
              "      <th>age_rating</th>\n",
              "      <th>studios</th>\n",
              "      <th>genre</th>\n",
              "      <th>item_pop</th>\n",
              "      <th>item_avg_hist</th>\n",
              "      <th>target_ranker</th>\n",
              "    </tr>\n",
              "  </thead>\n",
              "  <tbody>\n",
              "    <tr>\n",
              "      <th>125</th>\n",
              "      <td>126</td>\n",
              "      <td>101.0</td>\n",
              "      <td>2021-07-01</td>\n",
              "      <td>0.0</td>\n",
              "      <td>0.0</td>\n",
              "      <td>-7.186952</td>\n",
              "      <td>51.0</td>\n",
              "      <td>-0.008945</td>\n",
              "      <td>51.0</td>\n",
              "      <td>9542.00</td>\n",
              "      <td>...</td>\n",
              "      <td>0.0</td>\n",
              "      <td>0</td>\n",
              "      <td>2019.0</td>\n",
              "      <td>-1</td>\n",
              "      <td>18.0</td>\n",
              "      <td>-1</td>\n",
              "      <td>[историческое, мелодрамы]</td>\n",
              "      <td>9542.0</td>\n",
              "      <td>17.990673</td>\n",
              "      <td>0</td>\n",
              "    </tr>\n",
              "    <tr>\n",
              "      <th>126</th>\n",
              "      <td>126</td>\n",
              "      <td>142.0</td>\n",
              "      <td>2021-07-01</td>\n",
              "      <td>0.0</td>\n",
              "      <td>0.0</td>\n",
              "      <td>2.810578</td>\n",
              "      <td>17.0</td>\n",
              "      <td>-0.008945</td>\n",
              "      <td>51.0</td>\n",
              "      <td>35862.00</td>\n",
              "      <td>...</td>\n",
              "      <td>0.0</td>\n",
              "      <td>0</td>\n",
              "      <td>2020.0</td>\n",
              "      <td>-1</td>\n",
              "      <td>16.0</td>\n",
              "      <td>-1</td>\n",
              "      <td>[драмы, триллеры]</td>\n",
              "      <td>35862.0</td>\n",
              "      <td>15.251464</td>\n",
              "      <td>0</td>\n",
              "    </tr>\n",
              "    <tr>\n",
              "      <th>127</th>\n",
              "      <td>126</td>\n",
              "      <td>281.0</td>\n",
              "      <td>2021-07-01</td>\n",
              "      <td>0.0</td>\n",
              "      <td>0.0</td>\n",
              "      <td>-7.186952</td>\n",
              "      <td>51.0</td>\n",
              "      <td>0.442799</td>\n",
              "      <td>47.0</td>\n",
              "      <td>7415.99</td>\n",
              "      <td>...</td>\n",
              "      <td>0.0</td>\n",
              "      <td>0</td>\n",
              "      <td>2018.0</td>\n",
              "      <td>-1</td>\n",
              "      <td>12.0</td>\n",
              "      <td>-1</td>\n",
              "      <td>[боевики, фантастика, приключения, комедии]</td>\n",
              "      <td>1401.0</td>\n",
              "      <td>31.448251</td>\n",
              "      <td>0</td>\n",
              "    </tr>\n",
              "  </tbody>\n",
              "</table>\n",
              "<p>3 rows × 28 columns</p>\n",
              "</div>\n",
              "      <button class=\"colab-df-convert\" onclick=\"convertToInteractive('df-6126956f-5353-4158-8acc-b022a937553a')\"\n",
              "              title=\"Convert this dataframe to an interactive table.\"\n",
              "              style=\"display:none;\">\n",
              "        \n",
              "  <svg xmlns=\"http://www.w3.org/2000/svg\" height=\"24px\"viewBox=\"0 0 24 24\"\n",
              "       width=\"24px\">\n",
              "    <path d=\"M0 0h24v24H0V0z\" fill=\"none\"/>\n",
              "    <path d=\"M18.56 5.44l.94 2.06.94-2.06 2.06-.94-2.06-.94-.94-2.06-.94 2.06-2.06.94zm-11 1L8.5 8.5l.94-2.06 2.06-.94-2.06-.94L8.5 2.5l-.94 2.06-2.06.94zm10 10l.94 2.06.94-2.06 2.06-.94-2.06-.94-.94-2.06-.94 2.06-2.06.94z\"/><path d=\"M17.41 7.96l-1.37-1.37c-.4-.4-.92-.59-1.43-.59-.52 0-1.04.2-1.43.59L10.3 9.45l-7.72 7.72c-.78.78-.78 2.05 0 2.83L4 21.41c.39.39.9.59 1.41.59.51 0 1.02-.2 1.41-.59l7.78-7.78 2.81-2.81c.8-.78.8-2.07 0-2.86zM5.41 20L4 18.59l7.72-7.72 1.47 1.35L5.41 20z\"/>\n",
              "  </svg>\n",
              "      </button>\n",
              "      \n",
              "  <style>\n",
              "    .colab-df-container {\n",
              "      display:flex;\n",
              "      flex-wrap:wrap;\n",
              "      gap: 12px;\n",
              "    }\n",
              "\n",
              "    .colab-df-convert {\n",
              "      background-color: #E8F0FE;\n",
              "      border: none;\n",
              "      border-radius: 50%;\n",
              "      cursor: pointer;\n",
              "      display: none;\n",
              "      fill: #1967D2;\n",
              "      height: 32px;\n",
              "      padding: 0 0 0 0;\n",
              "      width: 32px;\n",
              "    }\n",
              "\n",
              "    .colab-df-convert:hover {\n",
              "      background-color: #E2EBFA;\n",
              "      box-shadow: 0px 1px 2px rgba(60, 64, 67, 0.3), 0px 1px 3px 1px rgba(60, 64, 67, 0.15);\n",
              "      fill: #174EA6;\n",
              "    }\n",
              "\n",
              "    [theme=dark] .colab-df-convert {\n",
              "      background-color: #3B4455;\n",
              "      fill: #D2E3FC;\n",
              "    }\n",
              "\n",
              "    [theme=dark] .colab-df-convert:hover {\n",
              "      background-color: #434B5C;\n",
              "      box-shadow: 0px 1px 3px 1px rgba(0, 0, 0, 0.15);\n",
              "      filter: drop-shadow(0px 1px 2px rgba(0, 0, 0, 0.3));\n",
              "      fill: #FFFFFF;\n",
              "    }\n",
              "  </style>\n",
              "\n",
              "      <script>\n",
              "        const buttonEl =\n",
              "          document.querySelector('#df-6126956f-5353-4158-8acc-b022a937553a button.colab-df-convert');\n",
              "        buttonEl.style.display =\n",
              "          google.colab.kernel.accessAllowed ? 'block' : 'none';\n",
              "\n",
              "        async function convertToInteractive(key) {\n",
              "          const element = document.querySelector('#df-6126956f-5353-4158-8acc-b022a937553a');\n",
              "          const dataTable =\n",
              "            await google.colab.kernel.invokeFunction('convertToInteractive',\n",
              "                                                     [key], {});\n",
              "          if (!dataTable) return;\n",
              "\n",
              "          const docLinkHtml = 'Like what you see? Visit the ' +\n",
              "            '<a target=\"_blank\" href=https://colab.research.google.com/notebooks/data_table.ipynb>data table notebook</a>'\n",
              "            + ' to learn more about interactive tables.';\n",
              "          element.innerHTML = '';\n",
              "          dataTable['output_type'] = 'display_data';\n",
              "          await google.colab.output.renderOutput(dataTable, element);\n",
              "          const docLink = document.createElement('div');\n",
              "          docLink.innerHTML = docLinkHtml;\n",
              "          element.appendChild(docLink);\n",
              "        }\n",
              "      </script>\n",
              "    </div>\n",
              "  </div>\n",
              "  "
            ],
            "text/plain": [
              "     user_id item_id   datetime  total_dur  weight  lfm_score  lfm_rank  \\\n",
              "125      126   101.0 2021-07-01        0.0     0.0  -7.186952      51.0   \n",
              "126      126   142.0 2021-07-01        0.0     0.0   2.810578      17.0   \n",
              "127      126   281.0 2021-07-01        0.0     0.0  -7.186952      51.0   \n",
              "\n",
              "     als_score  als_rank  popular_score  ...  user_cold content_type  \\\n",
              "125  -0.008945      51.0        9542.00  ...        0.0            0   \n",
              "126  -0.008945      51.0       35862.00  ...        0.0            0   \n",
              "127   0.442799      47.0        7415.99  ...        0.0            0   \n",
              "\n",
              "    release_year for_kids age_rating  studios  \\\n",
              "125       2019.0       -1       18.0       -1   \n",
              "126       2020.0       -1       16.0       -1   \n",
              "127       2018.0       -1       12.0       -1   \n",
              "\n",
              "                                           genre  item_pop  item_avg_hist  \\\n",
              "125                    [историческое, мелодрамы]    9542.0      17.990673   \n",
              "126                            [драмы, триллеры]   35862.0      15.251464   \n",
              "127  [боевики, фантастика, приключения, комедии]    1401.0      31.448251   \n",
              "\n",
              "    target_ranker  \n",
              "125             0  \n",
              "126             0  \n",
              "127             0  \n",
              "\n",
              "[3 rows x 28 columns]"
            ]
          },
          "execution_count": 95,
          "metadata": {},
          "output_type": "execute_result"
        }
      ],
      "source": [
        "# таргет\n",
        "def add_target(df: pd.DataFrame) -> pd.DataFrame:\n",
        "    \"\"\"\n",
        "    0 - доля досмотра < 0.15\n",
        "    1 - 0.15 <= доля досмотра < 0.75\n",
        "    2 - 0.75 <= доля досмотра\n",
        "    \"\"\"\n",
        "    df['target_ranker'] = (df[Columns.Weight] >= 15).astype(int)  # 'watched_pct'\n",
        "    df['target_ranker'] += (df[Columns.Weight] >= 75).astype(int)\n",
        "    return df\n",
        "\n",
        "ranker_train = add_target(ranker_train)\n",
        "ranker_val = add_target(ranker_val)\n",
        "ranker_test = add_target(ranker_test)\n",
        "\n",
        "ranker_train.head(3)"
      ]
    },
    {
      "cell_type": "markdown",
      "metadata": {
        "id": "kXhW2nwrIumy"
      },
      "source": [
        "### LGBMRanker"
      ]
    },
    {
      "cell_type": "code",
      "execution_count": 96,
      "metadata": {
        "id": "G_UCu_2bKRuz"
      },
      "outputs": [],
      "source": [
        "def get_group_lgbm(df: pd.DataFrame) -> np.ndarray:\n",
        "    return np.array(\n",
        "        df[['user_id', 'item_id']]\n",
        "        .groupby(by=['user_id']).count()\n",
        "        ['item_id']\n",
        "    )"
      ]
    },
    {
      "cell_type": "code",
      "execution_count": 152,
      "metadata": {
        "id": "1ba_O4hwKRuz"
      },
      "outputs": [],
      "source": [
        "params = {\n",
        "    'objective': 'lambdarank',\n",
        "    'n_estimators': 100,#00,\n",
        "    'max_depth': 4,\n",
        "    'num_leaves': 10,\n",
        "    'min_child_samples': 100,\n",
        "    'learning_rate': 0.25,\n",
        "    'reg_lambda': 1,\n",
        "    'colsample_bytree': 0.9,\n",
        "    'random_state': 42,\n",
        "}\n",
        "early_stopping_rounds = 32\n",
        "fit_params = {\n",
        "    'X': ranker_train[cols],\n",
        "    'y': ranker_train['target_ranker'],\n",
        "    'group': get_group_lgbm(ranker_train),\n",
        "    'eval_set': [(ranker_val[cols], ranker_val['target_ranker'])],\n",
        "    'eval_group': [get_group_lgbm(ranker_val)],\n",
        "    'eval_metric': 'ndcg',\n",
        "    'eval_at': (3, 5, 10),\n",
        "    'early_stopping_rounds': early_stopping_rounds,\n",
        "    'categorical_feature': cat_cols,\n",
        "    'feature_name': cols,\n",
        "    'verbose': early_stopping_rounds / 8,\n",
        "}\n",
        "LGBMRanker_model = LGBMRanker(**params)"
      ]
    },
    {
      "cell_type": "code",
      "execution_count": 153,
      "metadata": {
        "colab": {
          "base_uri": "https://localhost:8080/"
        },
        "id": "PZkaPzY7yYC4",
        "outputId": "70c26100-f87b-4d67-f2e0-631b44b63dac"
      },
      "outputs": [
        {
          "name": "stdout",
          "output_type": "stream",
          "text": [
            "Training until validation scores don't improve for 32 rounds.\n",
            "Early stopping, best iteration is:\n",
            "[31]\tvalid_0's ndcg@3: 0.649292\tvalid_0's ndcg@5: 0.667663\tvalid_0's ndcg@10: 0.697343\tvalid_0's ndcg@3: 0.649292\tvalid_0's ndcg@5: 0.667663\tvalid_0's ndcg@10: 0.697343\n",
            "CPU times: user 7.77 s, sys: 19.1 ms, total: 7.79 s\n",
            "Wall time: 7.77 s\n"
          ]
        },
        {
          "data": {
            "text/plain": [
              "LGBMRanker(colsample_bytree=0.9, learning_rate=0.25, max_depth=4,\n",
              "           min_child_samples=100, num_leaves=10, objective='lambdarank',\n",
              "           random_state=42, reg_lambda=1)"
            ]
          },
          "execution_count": 153,
          "metadata": {},
          "output_type": "execute_result"
        }
      ],
      "source": [
        "%%time\n",
        "LGBMRanker_model.fit(**fit_params)"
      ]
    },
    {
      "cell_type": "code",
      "execution_count": 154,
      "metadata": {
        "id": "JBt6WEnqKRuz"
      },
      "outputs": [],
      "source": [
        "# save model  \n",
        "with open(f'lgbm_ranker_model.dill', 'wb') as f:\n",
        "    dill.dump(LGBMRanker_model, f)"
      ]
    },
    {
      "cell_type": "code",
      "execution_count": 155,
      "metadata": {
        "colab": {
          "base_uri": "https://localhost:8080/"
        },
        "id": "3k7bAElIKRuz",
        "outputId": "0becefd6-65ca-403b-c96a-41e9fd46edf1"
      },
      "outputs": [
        {
          "data": {
            "text/plain": [
              "{'ndcg@3': 0.6492917529242397,\n",
              " 'ndcg@5': 0.6676625462536677,\n",
              " 'ndcg@10': 0.6973433306424662}"
            ]
          },
          "execution_count": 155,
          "metadata": {},
          "output_type": "execute_result"
        }
      ],
      "source": [
        "LGBMRanker_model.best_score_['valid_0']"
      ]
    },
    {
      "cell_type": "code",
      "execution_count": 156,
      "metadata": {
        "colab": {
          "base_uri": "https://localhost:8080/",
          "height": 607
        },
        "id": "3UCEKt6gKRuz",
        "outputId": "5b533877-6396-4d48-b609-a434f90f8512"
      },
      "outputs": [
        {
          "data": {
            "image/png": "[encoded data removed]",
            "text/plain": [
              "<Figure size 576x684 with 3 Axes>"
            ]
          },
          "metadata": {},
          "output_type": "display_data"
        }
      ],
      "source": [
        "explainer = shap.Explainer(LGBMRanker_model)\n",
        "shap_values = explainer(ranker_test[cols].iloc[:10_000])\n",
        "\n",
        "shap.plots.waterfall(shap_values[0], max_display=len(cols))"
      ]
    },
    {
      "cell_type": "code",
      "execution_count": 157,
      "metadata": {
        "colab": {
          "base_uri": "https://localhost:8080/",
          "height": 289
        },
        "id": "2od4WJMCKRu0",
        "outputId": "f30d4dac-fae9-4fa9-acc5-32d1ac7af82d"
      },
      "outputs": [
        {
          "data": {
            "text/html": [
              "\n",
              "  <div id=\"df-d711f558-5f95-4c81-a536-77f58ed12e79\">\n",
              "    <div class=\"colab-df-container\">\n",
              "      <div>\n",
              "<style scoped>\n",
              "    .dataframe tbody tr th:only-of-type {\n",
              "        vertical-align: middle;\n",
              "    }\n",
              "\n",
              "    .dataframe tbody tr th {\n",
              "        vertical-align: top;\n",
              "    }\n",
              "\n",
              "    .dataframe thead th {\n",
              "        text-align: right;\n",
              "    }\n",
              "</style>\n",
              "<table border=\"1\" class=\"dataframe\">\n",
              "  <thead>\n",
              "    <tr style=\"text-align: right;\">\n",
              "      <th></th>\n",
              "      <th>user_id</th>\n",
              "      <th>item_id</th>\n",
              "      <th>datetime</th>\n",
              "      <th>total_dur</th>\n",
              "      <th>weight</th>\n",
              "      <th>lfm_score</th>\n",
              "      <th>lfm_rank</th>\n",
              "      <th>als_score</th>\n",
              "      <th>als_rank</th>\n",
              "      <th>popular_score</th>\n",
              "      <th>...</th>\n",
              "      <th>age_rating</th>\n",
              "      <th>studios</th>\n",
              "      <th>genre</th>\n",
              "      <th>item_pop</th>\n",
              "      <th>item_avg_hist</th>\n",
              "      <th>target_ranker</th>\n",
              "      <th>LGBMRanker_score</th>\n",
              "      <th>LGBMRanker_rank</th>\n",
              "      <th>LGBMRanker_hybrid_score</th>\n",
              "      <th>LGBMRanker_hybrid_rank</th>\n",
              "    </tr>\n",
              "  </thead>\n",
              "  <tbody>\n",
              "    <tr>\n",
              "      <th>0</th>\n",
              "      <td>1</td>\n",
              "      <td>3669.0</td>\n",
              "      <td>2021-08-16</td>\n",
              "      <td>1593.0</td>\n",
              "      <td>26.0</td>\n",
              "      <td>-7.196952</td>\n",
              "      <td>52.0</td>\n",
              "      <td>NaN</td>\n",
              "      <td>NaN</td>\n",
              "      <td>NaN</td>\n",
              "      <td>...</td>\n",
              "      <td>16.0</td>\n",
              "      <td>-1</td>\n",
              "      <td>NaN</td>\n",
              "      <td>2846.0</td>\n",
              "      <td>22.675978</td>\n",
              "      <td>1</td>\n",
              "      <td>0.376871</td>\n",
              "      <td>1</td>\n",
              "      <td>0.376871</td>\n",
              "      <td>1</td>\n",
              "    </tr>\n",
              "    <tr>\n",
              "      <th>1</th>\n",
              "      <td>1</td>\n",
              "      <td>10440.0</td>\n",
              "      <td>2021-08-13</td>\n",
              "      <td>19579.0</td>\n",
              "      <td>80.0</td>\n",
              "      <td>-7.196952</td>\n",
              "      <td>52.0</td>\n",
              "      <td>NaN</td>\n",
              "      <td>NaN</td>\n",
              "      <td>NaN</td>\n",
              "      <td>...</td>\n",
              "      <td>18.0</td>\n",
              "      <td>-1</td>\n",
              "      <td>[триллеры, детективы]</td>\n",
              "      <td>141889.0</td>\n",
              "      <td>8.068716</td>\n",
              "      <td>2</td>\n",
              "      <td>0.368079</td>\n",
              "      <td>2</td>\n",
              "      <td>0.368079</td>\n",
              "      <td>2</td>\n",
              "    </tr>\n",
              "    <tr>\n",
              "      <th>2</th>\n",
              "      <td>12</td>\n",
              "      <td>846.0</td>\n",
              "      <td>2021-08-21</td>\n",
              "      <td>5929.0</td>\n",
              "      <td>18.0</td>\n",
              "      <td>-7.196952</td>\n",
              "      <td>52.0</td>\n",
              "      <td>NaN</td>\n",
              "      <td>NaN</td>\n",
              "      <td>NaN</td>\n",
              "      <td>...</td>\n",
              "      <td>16.0</td>\n",
              "      <td>-1</td>\n",
              "      <td>[драмы, триллеры]</td>\n",
              "      <td>528.0</td>\n",
              "      <td>22.799242</td>\n",
              "      <td>1</td>\n",
              "      <td>0.384383</td>\n",
              "      <td>1</td>\n",
              "      <td>0.384383</td>\n",
              "      <td>1</td>\n",
              "    </tr>\n",
              "  </tbody>\n",
              "</table>\n",
              "<p>3 rows × 32 columns</p>\n",
              "</div>\n",
              "      <button class=\"colab-df-convert\" onclick=\"convertToInteractive('df-d711f558-5f95-4c81-a536-77f58ed12e79')\"\n",
              "              title=\"Convert this dataframe to an interactive table.\"\n",
              "              style=\"display:none;\">\n",
              "        \n",
              "  <svg xmlns=\"http://www.w3.org/2000/svg\" height=\"24px\"viewBox=\"0 0 24 24\"\n",
              "       width=\"24px\">\n",
              "    <path d=\"M0 0h24v24H0V0z\" fill=\"none\"/>\n",
              "    <path d=\"M18.56 5.44l.94 2.06.94-2.06 2.06-.94-2.06-.94-.94-2.06-.94 2.06-2.06.94zm-11 1L8.5 8.5l.94-2.06 2.06-.94-2.06-.94L8.5 2.5l-.94 2.06-2.06.94zm10 10l.94 2.06.94-2.06 2.06-.94-2.06-.94-.94-2.06-.94 2.06-2.06.94z\"/><path d=\"M17.41 7.96l-1.37-1.37c-.4-.4-.92-.59-1.43-.59-.52 0-1.04.2-1.43.59L10.3 9.45l-7.72 7.72c-.78.78-.78 2.05 0 2.83L4 21.41c.39.39.9.59 1.41.59.51 0 1.02-.2 1.41-.59l7.78-7.78 2.81-2.81c.8-.78.8-2.07 0-2.86zM5.41 20L4 18.59l7.72-7.72 1.47 1.35L5.41 20z\"/>\n",
              "  </svg>\n",
              "      </button>\n",
              "      \n",
              "  <style>\n",
              "    .colab-df-container {\n",
              "      display:flex;\n",
              "      flex-wrap:wrap;\n",
              "      gap: 12px;\n",
              "    }\n",
              "\n",
              "    .colab-df-convert {\n",
              "      background-color: #E8F0FE;\n",
              "      border: none;\n",
              "      border-radius: 50%;\n",
              "      cursor: pointer;\n",
              "      display: none;\n",
              "      fill: #1967D2;\n",
              "      height: 32px;\n",
              "      padding: 0 0 0 0;\n",
              "      width: 32px;\n",
              "    }\n",
              "\n",
              "    .colab-df-convert:hover {\n",
              "      background-color: #E2EBFA;\n",
              "      box-shadow: 0px 1px 2px rgba(60, 64, 67, 0.3), 0px 1px 3px 1px rgba(60, 64, 67, 0.15);\n",
              "      fill: #174EA6;\n",
              "    }\n",
              "\n",
              "    [theme=dark] .colab-df-convert {\n",
              "      background-color: #3B4455;\n",
              "      fill: #D2E3FC;\n",
              "    }\n",
              "\n",
              "    [theme=dark] .colab-df-convert:hover {\n",
              "      background-color: #434B5C;\n",
              "      box-shadow: 0px 1px 3px 1px rgba(0, 0, 0, 0.15);\n",
              "      filter: drop-shadow(0px 1px 2px rgba(0, 0, 0, 0.3));\n",
              "      fill: #FFFFFF;\n",
              "    }\n",
              "  </style>\n",
              "\n",
              "      <script>\n",
              "        const buttonEl =\n",
              "          document.querySelector('#df-d711f558-5f95-4c81-a536-77f58ed12e79 button.colab-df-convert');\n",
              "        buttonEl.style.display =\n",
              "          google.colab.kernel.accessAllowed ? 'block' : 'none';\n",
              "\n",
              "        async function convertToInteractive(key) {\n",
              "          const element = document.querySelector('#df-d711f558-5f95-4c81-a536-77f58ed12e79');\n",
              "          const dataTable =\n",
              "            await google.colab.kernel.invokeFunction('convertToInteractive',\n",
              "                                                     [key], {});\n",
              "          if (!dataTable) return;\n",
              "\n",
              "          const docLinkHtml = 'Like what you see? Visit the ' +\n",
              "            '<a target=\"_blank\" href=https://colab.research.google.com/notebooks/data_table.ipynb>data table notebook</a>'\n",
              "            + ' to learn more about interactive tables.';\n",
              "          element.innerHTML = '';\n",
              "          dataTable['output_type'] = 'display_data';\n",
              "          await google.colab.output.renderOutput(dataTable, element);\n",
              "          const docLink = document.createElement('div');\n",
              "          docLink.innerHTML = docLinkHtml;\n",
              "          element.appendChild(docLink);\n",
              "        }\n",
              "      </script>\n",
              "    </div>\n",
              "  </div>\n",
              "  "
            ],
            "text/plain": [
              "   user_id  item_id   datetime  total_dur  weight  lfm_score  lfm_rank  \\\n",
              "0        1   3669.0 2021-08-16     1593.0    26.0  -7.196952      52.0   \n",
              "1        1  10440.0 2021-08-13    19579.0    80.0  -7.196952      52.0   \n",
              "2       12    846.0 2021-08-21     5929.0    18.0  -7.196952      52.0   \n",
              "\n",
              "   als_score  als_rank  popular_score  ...  age_rating studios  \\\n",
              "0        NaN       NaN            NaN  ...        16.0      -1   \n",
              "1        NaN       NaN            NaN  ...        18.0      -1   \n",
              "2        NaN       NaN            NaN  ...        16.0      -1   \n",
              "\n",
              "                   genre  item_pop item_avg_hist  target_ranker  \\\n",
              "0                    NaN    2846.0     22.675978              1   \n",
              "1  [триллеры, детективы]  141889.0      8.068716              2   \n",
              "2      [драмы, триллеры]     528.0     22.799242              1   \n",
              "\n",
              "   LGBMRanker_score  LGBMRanker_rank  LGBMRanker_hybrid_score  \\\n",
              "0          0.376871                1                 0.376871   \n",
              "1          0.368079                2                 0.368079   \n",
              "2          0.384383                1                 0.384383   \n",
              "\n",
              "  LGBMRanker_hybrid_rank  \n",
              "0                      1  \n",
              "1                      2  \n",
              "2                      1  \n",
              "\n",
              "[3 rows x 32 columns]"
            ]
          },
          "execution_count": 157,
          "metadata": {},
          "output_type": "execute_result"
        }
      ],
      "source": [
        "y_pred: np.ndarray = LGBMRanker_model.predict(ranker_test[cols])\n",
        "ranker_test = add_score_and_rank(ranker_test, y_pred, 'LGBMRanker')\n",
        "ranker_test.head(3)"
      ]
    },
    {
      "cell_type": "code",
      "execution_count": 158,
      "metadata": {
        "colab": {
          "base_uri": "https://localhost:8080/",
          "height": 112
        },
        "id": "t11Az3jnKRu0",
        "outputId": "10d9f5b8-371e-4302-8e6d-fb25c64f9c7d"
      },
      "outputs": [
        {
          "data": {
            "text/html": [
              "\n",
              "  <div id=\"df-7973f88e-72de-40a5-8f61-85fe68f20012\">\n",
              "    <div class=\"colab-df-container\">\n",
              "      <div>\n",
              "<style scoped>\n",
              "    .dataframe tbody tr th:only-of-type {\n",
              "        vertical-align: middle;\n",
              "    }\n",
              "\n",
              "    .dataframe tbody tr th {\n",
              "        vertical-align: top;\n",
              "    }\n",
              "\n",
              "    .dataframe thead th {\n",
              "        text-align: right;\n",
              "    }\n",
              "</style>\n",
              "<table border=\"1\" class=\"dataframe\">\n",
              "  <thead>\n",
              "    <tr style=\"text-align: right;\">\n",
              "      <th></th>\n",
              "      <th>LGBMRanker</th>\n",
              "      <th>LGBMRanker_hybrid</th>\n",
              "    </tr>\n",
              "  </thead>\n",
              "  <tbody>\n",
              "    <tr>\n",
              "      <th>recall@10</th>\n",
              "      <td>0.967554</td>\n",
              "      <td>0.967554</td>\n",
              "    </tr>\n",
              "    <tr>\n",
              "      <th>ndcg@10</th>\n",
              "      <td>0.444158</td>\n",
              "      <td>0.444158</td>\n",
              "    </tr>\n",
              "  </tbody>\n",
              "</table>\n",
              "</div>\n",
              "      <button class=\"colab-df-convert\" onclick=\"convertToInteractive('df-7973f88e-72de-40a5-8f61-85fe68f20012')\"\n",
              "              title=\"Convert this dataframe to an interactive table.\"\n",
              "              style=\"display:none;\">\n",
              "        \n",
              "  <svg xmlns=\"http://www.w3.org/2000/svg\" height=\"24px\"viewBox=\"0 0 24 24\"\n",
              "       width=\"24px\">\n",
              "    <path d=\"M0 0h24v24H0V0z\" fill=\"none\"/>\n",
              "    <path d=\"M18.56 5.44l.94 2.06.94-2.06 2.06-.94-2.06-.94-.94-2.06-.94 2.06-2.06.94zm-11 1L8.5 8.5l.94-2.06 2.06-.94-2.06-.94L8.5 2.5l-.94 2.06-2.06.94zm10 10l.94 2.06.94-2.06 2.06-.94-2.06-.94-.94-2.06-.94 2.06-2.06.94z\"/><path d=\"M17.41 7.96l-1.37-1.37c-.4-.4-.92-.59-1.43-.59-.52 0-1.04.2-1.43.59L10.3 9.45l-7.72 7.72c-.78.78-.78 2.05 0 2.83L4 21.41c.39.39.9.59 1.41.59.51 0 1.02-.2 1.41-.59l7.78-7.78 2.81-2.81c.8-.78.8-2.07 0-2.86zM5.41 20L4 18.59l7.72-7.72 1.47 1.35L5.41 20z\"/>\n",
              "  </svg>\n",
              "      </button>\n",
              "      \n",
              "  <style>\n",
              "    .colab-df-container {\n",
              "      display:flex;\n",
              "      flex-wrap:wrap;\n",
              "      gap: 12px;\n",
              "    }\n",
              "\n",
              "    .colab-df-convert {\n",
              "      background-color: #E8F0FE;\n",
              "      border: none;\n",
              "      border-radius: 50%;\n",
              "      cursor: pointer;\n",
              "      display: none;\n",
              "      fill: #1967D2;\n",
              "      height: 32px;\n",
              "      padding: 0 0 0 0;\n",
              "      width: 32px;\n",
              "    }\n",
              "\n",
              "    .colab-df-convert:hover {\n",
              "      background-color: #E2EBFA;\n",
              "      box-shadow: 0px 1px 2px rgba(60, 64, 67, 0.3), 0px 1px 3px 1px rgba(60, 64, 67, 0.15);\n",
              "      fill: #174EA6;\n",
              "    }\n",
              "\n",
              "    [theme=dark] .colab-df-convert {\n",
              "      background-color: #3B4455;\n",
              "      fill: #D2E3FC;\n",
              "    }\n",
              "\n",
              "    [theme=dark] .colab-df-convert:hover {\n",
              "      background-color: #434B5C;\n",
              "      box-shadow: 0px 1px 3px 1px rgba(0, 0, 0, 0.15);\n",
              "      filter: drop-shadow(0px 1px 2px rgba(0, 0, 0, 0.3));\n",
              "      fill: #FFFFFF;\n",
              "    }\n",
              "  </style>\n",
              "\n",
              "      <script>\n",
              "        const buttonEl =\n",
              "          document.querySelector('#df-7973f88e-72de-40a5-8f61-85fe68f20012 button.colab-df-convert');\n",
              "        buttonEl.style.display =\n",
              "          google.colab.kernel.accessAllowed ? 'block' : 'none';\n",
              "\n",
              "        async function convertToInteractive(key) {\n",
              "          const element = document.querySelector('#df-7973f88e-72de-40a5-8f61-85fe68f20012');\n",
              "          const dataTable =\n",
              "            await google.colab.kernel.invokeFunction('convertToInteractive',\n",
              "                                                     [key], {});\n",
              "          if (!dataTable) return;\n",
              "\n",
              "          const docLinkHtml = 'Like what you see? Visit the ' +\n",
              "            '<a target=\"_blank\" href=https://colab.research.google.com/notebooks/data_table.ipynb>data table notebook</a>'\n",
              "            + ' to learn more about interactive tables.';\n",
              "          element.innerHTML = '';\n",
              "          dataTable['output_type'] = 'display_data';\n",
              "          await google.colab.output.renderOutput(dataTable, element);\n",
              "          const docLink = document.createElement('div');\n",
              "          docLink.innerHTML = docLinkHtml;\n",
              "          element.appendChild(docLink);\n",
              "        }\n",
              "      </script>\n",
              "    </div>\n",
              "  </div>\n",
              "  "
            ],
            "text/plain": [
              "           LGBMRanker  LGBMRanker_hybrid\n",
              "recall@10    0.967554           0.967554\n",
              "ndcg@10      0.444158           0.444158"
            ]
          },
          "execution_count": 158,
          "metadata": {},
          "output_type": "execute_result"
        }
      ],
      "source": [
        "models_metrics['LGBMRanker'] = calc_metrics_(ranker_test, 'LGBMRanker_rank')\n",
        "models_metrics['LGBMRanker_hybrid'] = calc_metrics_(ranker_test, 'LGBMRanker_hybrid_rank')\n",
        "pd.DataFrame(models_metrics)[['LGBMRanker', 'LGBMRanker_hybrid']]"
      ]
    },
    {
      "cell_type": "markdown",
      "metadata": {
        "id": "JsZIHHNQJcLj"
      },
      "source": [
        "### XGBRanker"
      ]
    },
    {
      "cell_type": "code",
      "execution_count": 159,
      "metadata": {
        "id": "5wHoPsGn5Aue"
      },
      "outputs": [],
      "source": [
        "def get_group_xgb(df: pd.DataFrame) -> np.ndarray:\n",
        "    return np.array(df['user_id'].value_counts())"
      ]
    },
    {
      "cell_type": "code",
      "execution_count": 160,
      "metadata": {
        "id": "IlKhpJDG37Xa"
      },
      "outputs": [],
      "source": [
        "fit_params = {\n",
        "    'X': ranker_train[cols].drop(cat_cols, axis=1),\n",
        "    'y': ranker_train['target_ranker'],\n",
        "    'group': get_group_xgb(ranker_train),\n",
        "    'eval_set': [(ranker_val[cols].drop(cat_cols, axis=1), ranker_val['target_ranker'])],\n",
        "    'eval_group': [get_group_xgb(ranker_val)],\n",
        "    'eval_metric': 'ndcg',\n",
        "    'verbose': early_stopping_rounds / 8,\n",
        "}\n",
        "params = {\n",
        "    'objective': 'rank:ndcg',\n",
        "    'n_estimators': 100,#00,\n",
        "    'max_depth': 4,\n",
        "    'num_leaves': 10,\n",
        "    'min_child_samples': 100,\n",
        "    'learning_rate': 0.25,\n",
        "    'reg_lambda': 1,\n",
        "    'colsample_bytree': 0.9,\n",
        "    'random_state': 42,\n",
        "}"
      ]
    },
    {
      "cell_type": "code",
      "execution_count": 161,
      "metadata": {
        "id": "jAXtdVPX37Ug"
      },
      "outputs": [],
      "source": [
        "XGBRanker_model = XGBRanker(**params)"
      ]
    },
    {
      "cell_type": "code",
      "execution_count": 162,
      "metadata": {
        "colab": {
          "base_uri": "https://localhost:8080/"
        },
        "id": "KnlVMaw2yj-P",
        "outputId": "fe062502-dc23-47b7-afc2-1e57ed1a90b8"
      },
      "outputs": [
        {
          "name": "stdout",
          "output_type": "stream",
          "text": [
            "CPU times: user 25.2 s, sys: 32.7 ms, total: 25.3 s\n",
            "Wall time: 27 s\n"
          ]
        },
        {
          "data": {
            "text/plain": [
              "XGBRanker(colsample_bytree=0.9, learning_rate=0.25, max_depth=4,\n",
              "          min_child_samples=100, num_leaves=10, objective='rank:ndcg',\n",
              "          random_state=42)"
            ]
          },
          "execution_count": 162,
          "metadata": {},
          "output_type": "execute_result"
        }
      ],
      "source": [
        "%%time\n",
        "XGBRanker_model.fit(**fit_params)"
      ]
    },
    {
      "cell_type": "code",
      "execution_count": 163,
      "metadata": {
        "id": "nh2pRmOf3vr0"
      },
      "outputs": [],
      "source": [
        "# save model  \n",
        "with open(f'xgb_ranker_model.dill', 'wb') as f:\n",
        "    dill.dump(XGBRanker_model, f)"
      ]
    },
    {
      "cell_type": "code",
      "execution_count": 167,
      "metadata": {
        "colab": {
          "base_uri": "https://localhost:8080/",
          "height": 289
        },
        "id": "A5yI_kpyJrs9",
        "outputId": "2dc14894-433e-4d02-ccc0-f78143008b02"
      },
      "outputs": [
        {
          "data": {
            "text/html": [
              "\n",
              "  <div id=\"df-120d1bc5-af86-434b-810a-44a8a61dbc00\">\n",
              "    <div class=\"colab-df-container\">\n",
              "      <div>\n",
              "<style scoped>\n",
              "    .dataframe tbody tr th:only-of-type {\n",
              "        vertical-align: middle;\n",
              "    }\n",
              "\n",
              "    .dataframe tbody tr th {\n",
              "        vertical-align: top;\n",
              "    }\n",
              "\n",
              "    .dataframe thead th {\n",
              "        text-align: right;\n",
              "    }\n",
              "</style>\n",
              "<table border=\"1\" class=\"dataframe\">\n",
              "  <thead>\n",
              "    <tr style=\"text-align: right;\">\n",
              "      <th></th>\n",
              "      <th>user_id</th>\n",
              "      <th>item_id</th>\n",
              "      <th>datetime</th>\n",
              "      <th>total_dur</th>\n",
              "      <th>weight</th>\n",
              "      <th>lfm_score</th>\n",
              "      <th>lfm_rank</th>\n",
              "      <th>als_score</th>\n",
              "      <th>als_rank</th>\n",
              "      <th>popular_score</th>\n",
              "      <th>...</th>\n",
              "      <th>item_avg_hist</th>\n",
              "      <th>target_ranker</th>\n",
              "      <th>LGBMRanker_score</th>\n",
              "      <th>LGBMRanker_rank</th>\n",
              "      <th>LGBMRanker_hybrid_score</th>\n",
              "      <th>LGBMRanker_hybrid_rank</th>\n",
              "      <th>XGBRanker_score</th>\n",
              "      <th>XGBRanker_rank</th>\n",
              "      <th>XGBRanker_hybrid_score</th>\n",
              "      <th>XGBRanker_hybrid_rank</th>\n",
              "    </tr>\n",
              "  </thead>\n",
              "  <tbody>\n",
              "    <tr>\n",
              "      <th>0</th>\n",
              "      <td>1</td>\n",
              "      <td>3669.0</td>\n",
              "      <td>2021-08-16</td>\n",
              "      <td>1593.0</td>\n",
              "      <td>26.0</td>\n",
              "      <td>-7.196952</td>\n",
              "      <td>52.0</td>\n",
              "      <td>NaN</td>\n",
              "      <td>NaN</td>\n",
              "      <td>NaN</td>\n",
              "      <td>...</td>\n",
              "      <td>22.675978</td>\n",
              "      <td>1</td>\n",
              "      <td>0.376871</td>\n",
              "      <td>1</td>\n",
              "      <td>0.376871</td>\n",
              "      <td>1</td>\n",
              "      <td>2.847227</td>\n",
              "      <td>1</td>\n",
              "      <td>2.847227</td>\n",
              "      <td>1</td>\n",
              "    </tr>\n",
              "    <tr>\n",
              "      <th>1</th>\n",
              "      <td>1</td>\n",
              "      <td>10440.0</td>\n",
              "      <td>2021-08-13</td>\n",
              "      <td>19579.0</td>\n",
              "      <td>80.0</td>\n",
              "      <td>-7.196952</td>\n",
              "      <td>52.0</td>\n",
              "      <td>NaN</td>\n",
              "      <td>NaN</td>\n",
              "      <td>NaN</td>\n",
              "      <td>...</td>\n",
              "      <td>8.068716</td>\n",
              "      <td>2</td>\n",
              "      <td>0.368079</td>\n",
              "      <td>2</td>\n",
              "      <td>0.368079</td>\n",
              "      <td>2</td>\n",
              "      <td>1.242025</td>\n",
              "      <td>2</td>\n",
              "      <td>1.242025</td>\n",
              "      <td>2</td>\n",
              "    </tr>\n",
              "    <tr>\n",
              "      <th>2</th>\n",
              "      <td>12</td>\n",
              "      <td>846.0</td>\n",
              "      <td>2021-08-21</td>\n",
              "      <td>5929.0</td>\n",
              "      <td>18.0</td>\n",
              "      <td>-7.196952</td>\n",
              "      <td>52.0</td>\n",
              "      <td>NaN</td>\n",
              "      <td>NaN</td>\n",
              "      <td>NaN</td>\n",
              "      <td>...</td>\n",
              "      <td>22.799242</td>\n",
              "      <td>1</td>\n",
              "      <td>0.384383</td>\n",
              "      <td>1</td>\n",
              "      <td>0.384383</td>\n",
              "      <td>1</td>\n",
              "      <td>3.425755</td>\n",
              "      <td>1</td>\n",
              "      <td>3.425755</td>\n",
              "      <td>1</td>\n",
              "    </tr>\n",
              "  </tbody>\n",
              "</table>\n",
              "<p>3 rows × 36 columns</p>\n",
              "</div>\n",
              "      <button class=\"colab-df-convert\" onclick=\"convertToInteractive('df-120d1bc5-af86-434b-810a-44a8a61dbc00')\"\n",
              "              title=\"Convert this dataframe to an interactive table.\"\n",
              "              style=\"display:none;\">\n",
              "        \n",
              "  <svg xmlns=\"http://www.w3.org/2000/svg\" height=\"24px\"viewBox=\"0 0 24 24\"\n",
              "       width=\"24px\">\n",
              "    <path d=\"M0 0h24v24H0V0z\" fill=\"none\"/>\n",
              "    <path d=\"M18.56 5.44l.94 2.06.94-2.06 2.06-.94-2.06-.94-.94-2.06-.94 2.06-2.06.94zm-11 1L8.5 8.5l.94-2.06 2.06-.94-2.06-.94L8.5 2.5l-.94 2.06-2.06.94zm10 10l.94 2.06.94-2.06 2.06-.94-2.06-.94-.94-2.06-.94 2.06-2.06.94z\"/><path d=\"M17.41 7.96l-1.37-1.37c-.4-.4-.92-.59-1.43-.59-.52 0-1.04.2-1.43.59L10.3 9.45l-7.72 7.72c-.78.78-.78 2.05 0 2.83L4 21.41c.39.39.9.59 1.41.59.51 0 1.02-.2 1.41-.59l7.78-7.78 2.81-2.81c.8-.78.8-2.07 0-2.86zM5.41 20L4 18.59l7.72-7.72 1.47 1.35L5.41 20z\"/>\n",
              "  </svg>\n",
              "      </button>\n",
              "      \n",
              "  <style>\n",
              "    .colab-df-container {\n",
              "      display:flex;\n",
              "      flex-wrap:wrap;\n",
              "      gap: 12px;\n",
              "    }\n",
              "\n",
              "    .colab-df-convert {\n",
              "      background-color: #E8F0FE;\n",
              "      border: none;\n",
              "      border-radius: 50%;\n",
              "      cursor: pointer;\n",
              "      display: none;\n",
              "      fill: #1967D2;\n",
              "      height: 32px;\n",
              "      padding: 0 0 0 0;\n",
              "      width: 32px;\n",
              "    }\n",
              "\n",
              "    .colab-df-convert:hover {\n",
              "      background-color: #E2EBFA;\n",
              "      box-shadow: 0px 1px 2px rgba(60, 64, 67, 0.3), 0px 1px 3px 1px rgba(60, 64, 67, 0.15);\n",
              "      fill: #174EA6;\n",
              "    }\n",
              "\n",
              "    [theme=dark] .colab-df-convert {\n",
              "      background-color: #3B4455;\n",
              "      fill: #D2E3FC;\n",
              "    }\n",
              "\n",
              "    [theme=dark] .colab-df-convert:hover {\n",
              "      background-color: #434B5C;\n",
              "      box-shadow: 0px 1px 3px 1px rgba(0, 0, 0, 0.15);\n",
              "      filter: drop-shadow(0px 1px 2px rgba(0, 0, 0, 0.3));\n",
              "      fill: #FFFFFF;\n",
              "    }\n",
              "  </style>\n",
              "\n",
              "      <script>\n",
              "        const buttonEl =\n",
              "          document.querySelector('#df-120d1bc5-af86-434b-810a-44a8a61dbc00 button.colab-df-convert');\n",
              "        buttonEl.style.display =\n",
              "          google.colab.kernel.accessAllowed ? 'block' : 'none';\n",
              "\n",
              "        async function convertToInteractive(key) {\n",
              "          const element = document.querySelector('#df-120d1bc5-af86-434b-810a-44a8a61dbc00');\n",
              "          const dataTable =\n",
              "            await google.colab.kernel.invokeFunction('convertToInteractive',\n",
              "                                                     [key], {});\n",
              "          if (!dataTable) return;\n",
              "\n",
              "          const docLinkHtml = 'Like what you see? Visit the ' +\n",
              "            '<a target=\"_blank\" href=https://colab.research.google.com/notebooks/data_table.ipynb>data table notebook</a>'\n",
              "            + ' to learn more about interactive tables.';\n",
              "          element.innerHTML = '';\n",
              "          dataTable['output_type'] = 'display_data';\n",
              "          await google.colab.output.renderOutput(dataTable, element);\n",
              "          const docLink = document.createElement('div');\n",
              "          docLink.innerHTML = docLinkHtml;\n",
              "          element.appendChild(docLink);\n",
              "        }\n",
              "      </script>\n",
              "    </div>\n",
              "  </div>\n",
              "  "
            ],
            "text/plain": [
              "   user_id  item_id   datetime  total_dur  weight  lfm_score  lfm_rank  \\\n",
              "0        1   3669.0 2021-08-16     1593.0    26.0  -7.196952      52.0   \n",
              "1        1  10440.0 2021-08-13    19579.0    80.0  -7.196952      52.0   \n",
              "2       12    846.0 2021-08-21     5929.0    18.0  -7.196952      52.0   \n",
              "\n",
              "   als_score  als_rank  popular_score  ...  item_avg_hist target_ranker  \\\n",
              "0        NaN       NaN            NaN  ...      22.675978             1   \n",
              "1        NaN       NaN            NaN  ...       8.068716             2   \n",
              "2        NaN       NaN            NaN  ...      22.799242             1   \n",
              "\n",
              "  LGBMRanker_score LGBMRanker_rank LGBMRanker_hybrid_score  \\\n",
              "0         0.376871               1                0.376871   \n",
              "1         0.368079               2                0.368079   \n",
              "2         0.384383               1                0.384383   \n",
              "\n",
              "   LGBMRanker_hybrid_rank  XGBRanker_score  XGBRanker_rank  \\\n",
              "0                       1         2.847227               1   \n",
              "1                       2         1.242025               2   \n",
              "2                       1         3.425755               1   \n",
              "\n",
              "   XGBRanker_hybrid_score XGBRanker_hybrid_rank  \n",
              "0                2.847227                     1  \n",
              "1                1.242025                     2  \n",
              "2                3.425755                     1  \n",
              "\n",
              "[3 rows x 36 columns]"
            ]
          },
          "execution_count": 167,
          "metadata": {},
          "output_type": "execute_result"
        }
      ],
      "source": [
        "y_pred: np.ndarray = XGBRanker_model.predict(ranker_test[cols].drop(cat_cols, axis=1))\n",
        "ranker_test = add_score_and_rank(ranker_test, y_pred, 'XGBRanker')\n",
        "ranker_test.head(3)"
      ]
    },
    {
      "cell_type": "code",
      "execution_count": 168,
      "metadata": {
        "colab": {
          "base_uri": "https://localhost:8080/",
          "height": 112
        },
        "id": "VSFk6k_hJrhP",
        "outputId": "a46a949f-8123-4be8-c17e-667f4eab91b7"
      },
      "outputs": [
        {
          "data": {
            "text/html": [
              "\n",
              "  <div id=\"df-1e92e4a2-c0ad-4363-9110-8adbaeece091\">\n",
              "    <div class=\"colab-df-container\">\n",
              "      <div>\n",
              "<style scoped>\n",
              "    .dataframe tbody tr th:only-of-type {\n",
              "        vertical-align: middle;\n",
              "    }\n",
              "\n",
              "    .dataframe tbody tr th {\n",
              "        vertical-align: top;\n",
              "    }\n",
              "\n",
              "    .dataframe thead th {\n",
              "        text-align: right;\n",
              "    }\n",
              "</style>\n",
              "<table border=\"1\" class=\"dataframe\">\n",
              "  <thead>\n",
              "    <tr style=\"text-align: right;\">\n",
              "      <th></th>\n",
              "      <th>XGBRanker</th>\n",
              "      <th>XGBRanker_hybrid</th>\n",
              "    </tr>\n",
              "  </thead>\n",
              "  <tbody>\n",
              "    <tr>\n",
              "      <th>recall@10</th>\n",
              "      <td>0.967610</td>\n",
              "      <td>0.967610</td>\n",
              "    </tr>\n",
              "    <tr>\n",
              "      <th>ndcg@10</th>\n",
              "      <td>0.444156</td>\n",
              "      <td>0.444156</td>\n",
              "    </tr>\n",
              "  </tbody>\n",
              "</table>\n",
              "</div>\n",
              "      <button class=\"colab-df-convert\" onclick=\"convertToInteractive('df-1e92e4a2-c0ad-4363-9110-8adbaeece091')\"\n",
              "              title=\"Convert this dataframe to an interactive table.\"\n",
              "              style=\"display:none;\">\n",
              "        \n",
              "  <svg xmlns=\"http://www.w3.org/2000/svg\" height=\"24px\"viewBox=\"0 0 24 24\"\n",
              "       width=\"24px\">\n",
              "    <path d=\"M0 0h24v24H0V0z\" fill=\"none\"/>\n",
              "    <path d=\"M18.56 5.44l.94 2.06.94-2.06 2.06-.94-2.06-.94-.94-2.06-.94 2.06-2.06.94zm-11 1L8.5 8.5l.94-2.06 2.06-.94-2.06-.94L8.5 2.5l-.94 2.06-2.06.94zm10 10l.94 2.06.94-2.06 2.06-.94-2.06-.94-.94-2.06-.94 2.06-2.06.94z\"/><path d=\"M17.41 7.96l-1.37-1.37c-.4-.4-.92-.59-1.43-.59-.52 0-1.04.2-1.43.59L10.3 9.45l-7.72 7.72c-.78.78-.78 2.05 0 2.83L4 21.41c.39.39.9.59 1.41.59.51 0 1.02-.2 1.41-.59l7.78-7.78 2.81-2.81c.8-.78.8-2.07 0-2.86zM5.41 20L4 18.59l7.72-7.72 1.47 1.35L5.41 20z\"/>\n",
              "  </svg>\n",
              "      </button>\n",
              "      \n",
              "  <style>\n",
              "    .colab-df-container {\n",
              "      display:flex;\n",
              "      flex-wrap:wrap;\n",
              "      gap: 12px;\n",
              "    }\n",
              "\n",
              "    .colab-df-convert {\n",
              "      background-color: #E8F0FE;\n",
              "      border: none;\n",
              "      border-radius: 50%;\n",
              "      cursor: pointer;\n",
              "      display: none;\n",
              "      fill: #1967D2;\n",
              "      height: 32px;\n",
              "      padding: 0 0 0 0;\n",
              "      width: 32px;\n",
              "    }\n",
              "\n",
              "    .colab-df-convert:hover {\n",
              "      background-color: #E2EBFA;\n",
              "      box-shadow: 0px 1px 2px rgba(60, 64, 67, 0.3), 0px 1px 3px 1px rgba(60, 64, 67, 0.15);\n",
              "      fill: #174EA6;\n",
              "    }\n",
              "\n",
              "    [theme=dark] .colab-df-convert {\n",
              "      background-color: #3B4455;\n",
              "      fill: #D2E3FC;\n",
              "    }\n",
              "\n",
              "    [theme=dark] .colab-df-convert:hover {\n",
              "      background-color: #434B5C;\n",
              "      box-shadow: 0px 1px 3px 1px rgba(0, 0, 0, 0.15);\n",
              "      filter: drop-shadow(0px 1px 2px rgba(0, 0, 0, 0.3));\n",
              "      fill: #FFFFFF;\n",
              "    }\n",
              "  </style>\n",
              "\n",
              "      <script>\n",
              "        const buttonEl =\n",
              "          document.querySelector('#df-1e92e4a2-c0ad-4363-9110-8adbaeece091 button.colab-df-convert');\n",
              "        buttonEl.style.display =\n",
              "          google.colab.kernel.accessAllowed ? 'block' : 'none';\n",
              "\n",
              "        async function convertToInteractive(key) {\n",
              "          const element = document.querySelector('#df-1e92e4a2-c0ad-4363-9110-8adbaeece091');\n",
              "          const dataTable =\n",
              "            await google.colab.kernel.invokeFunction('convertToInteractive',\n",
              "                                                     [key], {});\n",
              "          if (!dataTable) return;\n",
              "\n",
              "          const docLinkHtml = 'Like what you see? Visit the ' +\n",
              "            '<a target=\"_blank\" href=https://colab.research.google.com/notebooks/data_table.ipynb>data table notebook</a>'\n",
              "            + ' to learn more about interactive tables.';\n",
              "          element.innerHTML = '';\n",
              "          dataTable['output_type'] = 'display_data';\n",
              "          await google.colab.output.renderOutput(dataTable, element);\n",
              "          const docLink = document.createElement('div');\n",
              "          docLink.innerHTML = docLinkHtml;\n",
              "          element.appendChild(docLink);\n",
              "        }\n",
              "      </script>\n",
              "    </div>\n",
              "  </div>\n",
              "  "
            ],
            "text/plain": [
              "           XGBRanker  XGBRanker_hybrid\n",
              "recall@10   0.967610          0.967610\n",
              "ndcg@10     0.444156          0.444156"
            ]
          },
          "execution_count": 168,
          "metadata": {},
          "output_type": "execute_result"
        }
      ],
      "source": [
        "models_metrics['XGBRanker'] = calc_metrics_(ranker_test, 'XGBRanker_rank')\n",
        "models_metrics['XGBRanker_hybrid'] = calc_metrics_(ranker_test, 'XGBRanker_hybrid_rank')\n",
        "pd.DataFrame(models_metrics)[['XGBRanker', 'XGBRanker_hybrid']]"
      ]
    },
    {
      "cell_type": "markdown",
      "metadata": {
        "id": "NGiKWm8FJsKq"
      },
      "source": [
        "### CatBoostRanker"
      ]
    },
    {
      "cell_type": "code",
      "execution_count": 256,
      "metadata": {
        "id": "ro1yYhC1N11n"
      },
      "outputs": [],
      "source": [
        "params = {\n",
        "    'n_estimators': 100,#00,\n",
        "    'depth': 4,\n",
        "    'learning_rate': 0.25,\n",
        "    'reg_lambda': 1, \n",
        "    'random_seed': 42,\n",
        "    'early_stopping_rounds': early_stopping_rounds,\n",
        "    'custom_metric': 'NDCG:top=10',\n",
        "    'verbose': 1,\n",
        "}\n",
        "\n",
        "fit_params = {\n",
        "    'X': Pool(data=ranker_train[cols],\n",
        "              label=ranker_train['target_ranker'],\n",
        "              group_id=ranker_train['user_id'].values,\n",
        "              cat_features=cat_cols),          \n",
        "    'eval_set': Pool(data=ranker_val[cols],\n",
        "              label=ranker_val['target_ranker'],\n",
        "              group_id=ranker_val['user_id'].values,\n",
        "              cat_features=cat_cols),\n",
        "    'early_stopping_rounds': early_stopping_rounds,\n",
        "    'plot': 1,\n",
        "    # 'cat_features': cat_cols,\n",
        "    'verbose': 10,\n",
        "}"
      ]
    },
    {
      "cell_type": "code",
      "execution_count": 257,
      "metadata": {
        "colab": {
          "base_uri": "https://localhost:8080/",
          "height": 374,
          "referenced_widgets": [
            "cbbb4b289f0c440facbeb2080db32c59"
          ]
        },
        "id": "vgs7j5xczKd9",
        "outputId": "620db506-4d5c-4151-d28a-bb056a0ba4ec"
      },
      "outputs": [
        {
          "data": {
            "application/vnd.jupyter.widget-view+json": {
              "model_id": "cbbb4b289f0c440facbeb2080db32c59",
              "version_major": 2,
              "version_minor": 0
            },
            "text/plain": [
              "MetricVisualizer(layout=Layout(align_self='stretch', height='500px'))"
            ]
          },
          "metadata": {},
          "output_type": "display_data"
        },
        {
          "name": "stdout",
          "output_type": "stream",
          "text": [
            "Groupwise loss function. OneHotMaxSize set to 10\n",
            "0:\ttest: 0.6542969\tbest: 0.6542969 (0)\ttotal: 1.08s\tremaining: 1m 47s\n",
            "10:\ttest: 0.7415079\tbest: 0.7415079 (10)\ttotal: 12.6s\tremaining: 1m 42s\n",
            "20:\ttest: 0.7734205\tbest: 0.7734205 (20)\ttotal: 23.1s\tremaining: 1m 26s\n",
            "30:\ttest: 0.7823964\tbest: 0.7823964 (30)\ttotal: 33.5s\tremaining: 1m 14s\n",
            "40:\ttest: 0.7821225\tbest: 0.7824519 (34)\ttotal: 43.8s\tremaining: 1m 2s\n",
            "50:\ttest: 0.7829241\tbest: 0.7850328 (43)\ttotal: 54s\tremaining: 51.9s\n",
            "60:\ttest: 0.7852026\tbest: 0.7852026 (60)\ttotal: 1m 4s\tremaining: 41.1s\n",
            "70:\ttest: 0.7856736\tbest: 0.7856742 (69)\ttotal: 1m 16s\tremaining: 31.4s\n",
            "80:\ttest: 0.7874039\tbest: 0.7874039 (80)\ttotal: 1m 27s\tremaining: 20.5s\n",
            "90:\ttest: 0.7859966\tbest: 0.7874039 (80)\ttotal: 1m 37s\tremaining: 9.65s\n",
            "99:\ttest: 0.7864083\tbest: 0.7874039 (80)\ttotal: 1m 48s\tremaining: 0us\n",
            "\n",
            "bestTest = 0.7874038716\n",
            "bestIteration = 80\n",
            "\n",
            "Shrink model to first 81 iterations.\n",
            "CPU times: user 3min 14s, sys: 1.52 s, total: 3min 15s\n",
            "Wall time: 1min 48s\n"
          ]
        },
        {
          "data": {
            "text/plain": [
              "<catboost.core.CatBoostRanker at 0x7f47b63db670>"
            ]
          },
          "execution_count": 257,
          "metadata": {},
          "output_type": "execute_result"
        }
      ],
      "source": [
        "%%time\n",
        "CatBoostRanker_model = CatBoostRanker(**params)\n",
        "CatBoostRanker_model.fit(**fit_params)"
      ]
    },
    {
      "cell_type": "code",
      "execution_count": 258,
      "metadata": {
        "id": "DSDSFWx7Jv6T"
      },
      "outputs": [],
      "source": [
        "# save model  \n",
        "with open(f'CatBoostRanker_model.dill', 'wb') as f:\n",
        "    dill.dump(CatBoostRanker_model, f)"
      ]
    },
    {
      "cell_type": "code",
      "execution_count": 262,
      "metadata": {
        "colab": {
          "base_uri": "https://localhost:8080/",
          "height": 289
        },
        "id": "kktb4w3yJv3S",
        "outputId": "13febb02-f3bf-41e7-fac2-792201daf7d1"
      },
      "outputs": [
        {
          "data": {
            "text/html": [
              "\n",
              "  <div id=\"df-a2f9c6b8-6cb5-44f3-87a8-6ed7fc7be986\">\n",
              "    <div class=\"colab-df-container\">\n",
              "      <div>\n",
              "<style scoped>\n",
              "    .dataframe tbody tr th:only-of-type {\n",
              "        vertical-align: middle;\n",
              "    }\n",
              "\n",
              "    .dataframe tbody tr th {\n",
              "        vertical-align: top;\n",
              "    }\n",
              "\n",
              "    .dataframe thead th {\n",
              "        text-align: right;\n",
              "    }\n",
              "</style>\n",
              "<table border=\"1\" class=\"dataframe\">\n",
              "  <thead>\n",
              "    <tr style=\"text-align: right;\">\n",
              "      <th></th>\n",
              "      <th>user_id</th>\n",
              "      <th>item_id</th>\n",
              "      <th>datetime</th>\n",
              "      <th>total_dur</th>\n",
              "      <th>weight</th>\n",
              "      <th>lfm_score</th>\n",
              "      <th>lfm_rank</th>\n",
              "      <th>als_score</th>\n",
              "      <th>als_rank</th>\n",
              "      <th>popular_score</th>\n",
              "      <th>...</th>\n",
              "      <th>LGBMRanker_hybrid_score</th>\n",
              "      <th>LGBMRanker_hybrid_rank</th>\n",
              "      <th>XGBRanker_score</th>\n",
              "      <th>XGBRanker_rank</th>\n",
              "      <th>XGBRanker_hybrid_score</th>\n",
              "      <th>XGBRanker_hybrid_rank</th>\n",
              "      <th>CatBoostRanker_score</th>\n",
              "      <th>CatBoostRanker_rank</th>\n",
              "      <th>CatBoostRanker_hybrid_score</th>\n",
              "      <th>CatBoostRanker_hybrid_rank</th>\n",
              "    </tr>\n",
              "  </thead>\n",
              "  <tbody>\n",
              "    <tr>\n",
              "      <th>0</th>\n",
              "      <td>1</td>\n",
              "      <td>3669.0</td>\n",
              "      <td>2021-08-16</td>\n",
              "      <td>1593.0</td>\n",
              "      <td>26.0</td>\n",
              "      <td>-7.196952</td>\n",
              "      <td>52.0</td>\n",
              "      <td>NaN</td>\n",
              "      <td>NaN</td>\n",
              "      <td>NaN</td>\n",
              "      <td>...</td>\n",
              "      <td>0.376871</td>\n",
              "      <td>1</td>\n",
              "      <td>2.847227</td>\n",
              "      <td>1</td>\n",
              "      <td>2.847227</td>\n",
              "      <td>1</td>\n",
              "      <td>3.521116</td>\n",
              "      <td>1</td>\n",
              "      <td>3.521116</td>\n",
              "      <td>1</td>\n",
              "    </tr>\n",
              "    <tr>\n",
              "      <th>1</th>\n",
              "      <td>1</td>\n",
              "      <td>10440.0</td>\n",
              "      <td>2021-08-13</td>\n",
              "      <td>19579.0</td>\n",
              "      <td>80.0</td>\n",
              "      <td>-7.196952</td>\n",
              "      <td>52.0</td>\n",
              "      <td>NaN</td>\n",
              "      <td>NaN</td>\n",
              "      <td>NaN</td>\n",
              "      <td>...</td>\n",
              "      <td>0.368079</td>\n",
              "      <td>2</td>\n",
              "      <td>1.242025</td>\n",
              "      <td>2</td>\n",
              "      <td>1.242025</td>\n",
              "      <td>2</td>\n",
              "      <td>2.660772</td>\n",
              "      <td>2</td>\n",
              "      <td>2.660772</td>\n",
              "      <td>2</td>\n",
              "    </tr>\n",
              "    <tr>\n",
              "      <th>2</th>\n",
              "      <td>12</td>\n",
              "      <td>846.0</td>\n",
              "      <td>2021-08-21</td>\n",
              "      <td>5929.0</td>\n",
              "      <td>18.0</td>\n",
              "      <td>-7.196952</td>\n",
              "      <td>52.0</td>\n",
              "      <td>NaN</td>\n",
              "      <td>NaN</td>\n",
              "      <td>NaN</td>\n",
              "      <td>...</td>\n",
              "      <td>0.384383</td>\n",
              "      <td>1</td>\n",
              "      <td>3.425755</td>\n",
              "      <td>1</td>\n",
              "      <td>3.425755</td>\n",
              "      <td>1</td>\n",
              "      <td>3.482842</td>\n",
              "      <td>1</td>\n",
              "      <td>3.482842</td>\n",
              "      <td>1</td>\n",
              "    </tr>\n",
              "  </tbody>\n",
              "</table>\n",
              "<p>3 rows × 40 columns</p>\n",
              "</div>\n",
              "      <button class=\"colab-df-convert\" onclick=\"convertToInteractive('df-a2f9c6b8-6cb5-44f3-87a8-6ed7fc7be986')\"\n",
              "              title=\"Convert this dataframe to an interactive table.\"\n",
              "              style=\"display:none;\">\n",
              "        \n",
              "  <svg xmlns=\"http://www.w3.org/2000/svg\" height=\"24px\"viewBox=\"0 0 24 24\"\n",
              "       width=\"24px\">\n",
              "    <path d=\"M0 0h24v24H0V0z\" fill=\"none\"/>\n",
              "    <path d=\"M18.56 5.44l.94 2.06.94-2.06 2.06-.94-2.06-.94-.94-2.06-.94 2.06-2.06.94zm-11 1L8.5 8.5l.94-2.06 2.06-.94-2.06-.94L8.5 2.5l-.94 2.06-2.06.94zm10 10l.94 2.06.94-2.06 2.06-.94-2.06-.94-.94-2.06-.94 2.06-2.06.94z\"/><path d=\"M17.41 7.96l-1.37-1.37c-.4-.4-.92-.59-1.43-.59-.52 0-1.04.2-1.43.59L10.3 9.45l-7.72 7.72c-.78.78-.78 2.05 0 2.83L4 21.41c.39.39.9.59 1.41.59.51 0 1.02-.2 1.41-.59l7.78-7.78 2.81-2.81c.8-.78.8-2.07 0-2.86zM5.41 20L4 18.59l7.72-7.72 1.47 1.35L5.41 20z\"/>\n",
              "  </svg>\n",
              "      </button>\n",
              "      \n",
              "  <style>\n",
              "    .colab-df-container {\n",
              "      display:flex;\n",
              "      flex-wrap:wrap;\n",
              "      gap: 12px;\n",
              "    }\n",
              "\n",
              "    .colab-df-convert {\n",
              "      background-color: #E8F0FE;\n",
              "      border: none;\n",
              "      border-radius: 50%;\n",
              "      cursor: pointer;\n",
              "      display: none;\n",
              "      fill: #1967D2;\n",
              "      height: 32px;\n",
              "      padding: 0 0 0 0;\n",
              "      width: 32px;\n",
              "    }\n",
              "\n",
              "    .colab-df-convert:hover {\n",
              "      background-color: #E2EBFA;\n",
              "      box-shadow: 0px 1px 2px rgba(60, 64, 67, 0.3), 0px 1px 3px 1px rgba(60, 64, 67, 0.15);\n",
              "      fill: #174EA6;\n",
              "    }\n",
              "\n",
              "    [theme=dark] .colab-df-convert {\n",
              "      background-color: #3B4455;\n",
              "      fill: #D2E3FC;\n",
              "    }\n",
              "\n",
              "    [theme=dark] .colab-df-convert:hover {\n",
              "      background-color: #434B5C;\n",
              "      box-shadow: 0px 1px 3px 1px rgba(0, 0, 0, 0.15);\n",
              "      filter: drop-shadow(0px 1px 2px rgba(0, 0, 0, 0.3));\n",
              "      fill: #FFFFFF;\n",
              "    }\n",
              "  </style>\n",
              "\n",
              "      <script>\n",
              "        const buttonEl =\n",
              "          document.querySelector('#df-a2f9c6b8-6cb5-44f3-87a8-6ed7fc7be986 button.colab-df-convert');\n",
              "        buttonEl.style.display =\n",
              "          google.colab.kernel.accessAllowed ? 'block' : 'none';\n",
              "\n",
              "        async function convertToInteractive(key) {\n",
              "          const element = document.querySelector('#df-a2f9c6b8-6cb5-44f3-87a8-6ed7fc7be986');\n",
              "          const dataTable =\n",
              "            await google.colab.kernel.invokeFunction('convertToInteractive',\n",
              "                                                     [key], {});\n",
              "          if (!dataTable) return;\n",
              "\n",
              "          const docLinkHtml = 'Like what you see? Visit the ' +\n",
              "            '<a target=\"_blank\" href=https://colab.research.google.com/notebooks/data_table.ipynb>data table notebook</a>'\n",
              "            + ' to learn more about interactive tables.';\n",
              "          element.innerHTML = '';\n",
              "          dataTable['output_type'] = 'display_data';\n",
              "          await google.colab.output.renderOutput(dataTable, element);\n",
              "          const docLink = document.createElement('div');\n",
              "          docLink.innerHTML = docLinkHtml;\n",
              "          element.appendChild(docLink);\n",
              "        }\n",
              "      </script>\n",
              "    </div>\n",
              "  </div>\n",
              "  "
            ],
            "text/plain": [
              "   user_id  item_id   datetime  total_dur  weight  lfm_score  lfm_rank  \\\n",
              "0        1   3669.0 2021-08-16     1593.0    26.0  -7.196952      52.0   \n",
              "1        1  10440.0 2021-08-13    19579.0    80.0  -7.196952      52.0   \n",
              "2       12    846.0 2021-08-21     5929.0    18.0  -7.196952      52.0   \n",
              "\n",
              "   als_score  als_rank  popular_score  ...  LGBMRanker_hybrid_score  \\\n",
              "0        NaN       NaN            NaN  ...                 0.376871   \n",
              "1        NaN       NaN            NaN  ...                 0.368079   \n",
              "2        NaN       NaN            NaN  ...                 0.384383   \n",
              "\n",
              "  LGBMRanker_hybrid_rank XGBRanker_score XGBRanker_rank  \\\n",
              "0                      1        2.847227              1   \n",
              "1                      2        1.242025              2   \n",
              "2                      1        3.425755              1   \n",
              "\n",
              "  XGBRanker_hybrid_score  XGBRanker_hybrid_rank  CatBoostRanker_score  \\\n",
              "0               2.847227                      1              3.521116   \n",
              "1               1.242025                      2              2.660772   \n",
              "2               3.425755                      1              3.482842   \n",
              "\n",
              "   CatBoostRanker_rank  CatBoostRanker_hybrid_score CatBoostRanker_hybrid_rank  \n",
              "0                    1                     3.521116                          1  \n",
              "1                    2                     2.660772                          2  \n",
              "2                    1                     3.482842                          1  \n",
              "\n",
              "[3 rows x 40 columns]"
            ]
          },
          "execution_count": 262,
          "metadata": {},
          "output_type": "execute_result"
        }
      ],
      "source": [
        "y_pred: np.ndarray = CatBoostRanker_model.predict(ranker_test[cols])\n",
        "ranker_test = add_score_and_rank(ranker_test, y_pred, 'CatBoostRanker')\n",
        "ranker_test.head(3)"
      ]
    },
    {
      "cell_type": "code",
      "execution_count": 263,
      "metadata": {
        "colab": {
          "base_uri": "https://localhost:8080/",
          "height": 112
        },
        "id": "8K52dShLJv0h",
        "outputId": "1064ed56-4602-4adf-b57b-77fa6bb4ee24"
      },
      "outputs": [
        {
          "data": {
            "text/html": [
              "\n",
              "  <div id=\"df-b372e0a9-ab5a-4b4c-92de-d66d9ee13b58\">\n",
              "    <div class=\"colab-df-container\">\n",
              "      <div>\n",
              "<style scoped>\n",
              "    .dataframe tbody tr th:only-of-type {\n",
              "        vertical-align: middle;\n",
              "    }\n",
              "\n",
              "    .dataframe tbody tr th {\n",
              "        vertical-align: top;\n",
              "    }\n",
              "\n",
              "    .dataframe thead th {\n",
              "        text-align: right;\n",
              "    }\n",
              "</style>\n",
              "<table border=\"1\" class=\"dataframe\">\n",
              "  <thead>\n",
              "    <tr style=\"text-align: right;\">\n",
              "      <th></th>\n",
              "      <th>CatBoostRanker</th>\n",
              "      <th>CatBoostRanker_hybrid</th>\n",
              "    </tr>\n",
              "  </thead>\n",
              "  <tbody>\n",
              "    <tr>\n",
              "      <th>recall@10</th>\n",
              "      <td>0.967520</td>\n",
              "      <td>0.967520</td>\n",
              "    </tr>\n",
              "    <tr>\n",
              "      <th>ndcg@10</th>\n",
              "      <td>0.444141</td>\n",
              "      <td>0.444141</td>\n",
              "    </tr>\n",
              "  </tbody>\n",
              "</table>\n",
              "</div>\n",
              "      <button class=\"colab-df-convert\" onclick=\"convertToInteractive('df-b372e0a9-ab5a-4b4c-92de-d66d9ee13b58')\"\n",
              "              title=\"Convert this dataframe to an interactive table.\"\n",
              "              style=\"display:none;\">\n",
              "        \n",
              "  <svg xmlns=\"http://www.w3.org/2000/svg\" height=\"24px\"viewBox=\"0 0 24 24\"\n",
              "       width=\"24px\">\n",
              "    <path d=\"M0 0h24v24H0V0z\" fill=\"none\"/>\n",
              "    <path d=\"M18.56 5.44l.94 2.06.94-2.06 2.06-.94-2.06-.94-.94-2.06-.94 2.06-2.06.94zm-11 1L8.5 8.5l.94-2.06 2.06-.94-2.06-.94L8.5 2.5l-.94 2.06-2.06.94zm10 10l.94 2.06.94-2.06 2.06-.94-2.06-.94-.94-2.06-.94 2.06-2.06.94z\"/><path d=\"M17.41 7.96l-1.37-1.37c-.4-.4-.92-.59-1.43-.59-.52 0-1.04.2-1.43.59L10.3 9.45l-7.72 7.72c-.78.78-.78 2.05 0 2.83L4 21.41c.39.39.9.59 1.41.59.51 0 1.02-.2 1.41-.59l7.78-7.78 2.81-2.81c.8-.78.8-2.07 0-2.86zM5.41 20L4 18.59l7.72-7.72 1.47 1.35L5.41 20z\"/>\n",
              "  </svg>\n",
              "      </button>\n",
              "      \n",
              "  <style>\n",
              "    .colab-df-container {\n",
              "      display:flex;\n",
              "      flex-wrap:wrap;\n",
              "      gap: 12px;\n",
              "    }\n",
              "\n",
              "    .colab-df-convert {\n",
              "      background-color: #E8F0FE;\n",
              "      border: none;\n",
              "      border-radius: 50%;\n",
              "      cursor: pointer;\n",
              "      display: none;\n",
              "      fill: #1967D2;\n",
              "      height: 32px;\n",
              "      padding: 0 0 0 0;\n",
              "      width: 32px;\n",
              "    }\n",
              "\n",
              "    .colab-df-convert:hover {\n",
              "      background-color: #E2EBFA;\n",
              "      box-shadow: 0px 1px 2px rgba(60, 64, 67, 0.3), 0px 1px 3px 1px rgba(60, 64, 67, 0.15);\n",
              "      fill: #174EA6;\n",
              "    }\n",
              "\n",
              "    [theme=dark] .colab-df-convert {\n",
              "      background-color: #3B4455;\n",
              "      fill: #D2E3FC;\n",
              "    }\n",
              "\n",
              "    [theme=dark] .colab-df-convert:hover {\n",
              "      background-color: #434B5C;\n",
              "      box-shadow: 0px 1px 3px 1px rgba(0, 0, 0, 0.15);\n",
              "      filter: drop-shadow(0px 1px 2px rgba(0, 0, 0, 0.3));\n",
              "      fill: #FFFFFF;\n",
              "    }\n",
              "  </style>\n",
              "\n",
              "      <script>\n",
              "        const buttonEl =\n",
              "          document.querySelector('#df-b372e0a9-ab5a-4b4c-92de-d66d9ee13b58 button.colab-df-convert');\n",
              "        buttonEl.style.display =\n",
              "          google.colab.kernel.accessAllowed ? 'block' : 'none';\n",
              "\n",
              "        async function convertToInteractive(key) {\n",
              "          const element = document.querySelector('#df-b372e0a9-ab5a-4b4c-92de-d66d9ee13b58');\n",
              "          const dataTable =\n",
              "            await google.colab.kernel.invokeFunction('convertToInteractive',\n",
              "                                                     [key], {});\n",
              "          if (!dataTable) return;\n",
              "\n",
              "          const docLinkHtml = 'Like what you see? Visit the ' +\n",
              "            '<a target=\"_blank\" href=https://colab.research.google.com/notebooks/data_table.ipynb>data table notebook</a>'\n",
              "            + ' to learn more about interactive tables.';\n",
              "          element.innerHTML = '';\n",
              "          dataTable['output_type'] = 'display_data';\n",
              "          await google.colab.output.renderOutput(dataTable, element);\n",
              "          const docLink = document.createElement('div');\n",
              "          docLink.innerHTML = docLinkHtml;\n",
              "          element.appendChild(docLink);\n",
              "        }\n",
              "      </script>\n",
              "    </div>\n",
              "  </div>\n",
              "  "
            ],
            "text/plain": [
              "           CatBoostRanker  CatBoostRanker_hybrid\n",
              "recall@10        0.967520               0.967520\n",
              "ndcg@10          0.444141               0.444141"
            ]
          },
          "execution_count": 263,
          "metadata": {},
          "output_type": "execute_result"
        }
      ],
      "source": [
        "models_metrics['CatBoostRanker'] = calc_metrics_(ranker_test, 'CatBoostRanker_rank')\n",
        "models_metrics['CatBoostRanker_hybrid'] = calc_metrics_(ranker_test, 'CatBoostRanker_hybrid_rank')\n",
        "pd.DataFrame(models_metrics)[['CatBoostRanker', 'CatBoostRanker_hybrid']]"
      ]
    },
    {
      "cell_type": "markdown",
      "metadata": {
        "id": "JJI9tRvRKRu0"
      },
      "source": [
        "## Итоговые метрики"
      ]
    },
    {
      "cell_type": "markdown",
      "metadata": {
        "id": "i7F2d-QuR6Nj"
      },
      "source": [
        "Time\n",
        "\n",
        "LGBMRanker     - 7.77 s\n",
        "\n",
        "XGBRanker      - 27 s\n",
        "\n",
        "CatBoostRanker - 1min 48s"
      ]
    },
    {
      "cell_type": "code",
      "execution_count": 265,
      "metadata": {
        "colab": {
          "base_uri": "https://localhost:8080/",
          "height": 112
        },
        "id": "MbtiY3CEKRu0",
        "outputId": "440b7013-1884-4936-e19c-be87b7009f00"
      },
      "outputs": [
        {
          "data": {
            "text/html": [
              "\n",
              "  <div id=\"df-0f054d2e-be97-4fae-aa60-338f91a8c2ef\">\n",
              "    <div class=\"colab-df-container\">\n",
              "      <div>\n",
              "<style scoped>\n",
              "    .dataframe tbody tr th:only-of-type {\n",
              "        vertical-align: middle;\n",
              "    }\n",
              "\n",
              "    .dataframe tbody tr th {\n",
              "        vertical-align: top;\n",
              "    }\n",
              "\n",
              "    .dataframe thead th {\n",
              "        text-align: right;\n",
              "    }\n",
              "</style>\n",
              "<table border=\"1\" class=\"dataframe\">\n",
              "  <thead>\n",
              "    <tr style=\"text-align: right;\">\n",
              "      <th></th>\n",
              "      <th>LGBMRanker</th>\n",
              "      <th>XGBRanker</th>\n",
              "      <th>CatBoostRanker</th>\n",
              "    </tr>\n",
              "  </thead>\n",
              "  <tbody>\n",
              "    <tr>\n",
              "      <th>recall@10</th>\n",
              "      <td>0.967554</td>\n",
              "      <td>0.967610</td>\n",
              "      <td>0.967520</td>\n",
              "    </tr>\n",
              "    <tr>\n",
              "      <th>ndcg@10</th>\n",
              "      <td>0.444158</td>\n",
              "      <td>0.444156</td>\n",
              "      <td>0.444141</td>\n",
              "    </tr>\n",
              "  </tbody>\n",
              "</table>\n",
              "</div>\n",
              "      <button class=\"colab-df-convert\" onclick=\"convertToInteractive('df-0f054d2e-be97-4fae-aa60-338f91a8c2ef')\"\n",
              "              title=\"Convert this dataframe to an interactive table.\"\n",
              "              style=\"display:none;\">\n",
              "        \n",
              "  <svg xmlns=\"http://www.w3.org/2000/svg\" height=\"24px\"viewBox=\"0 0 24 24\"\n",
              "       width=\"24px\">\n",
              "    <path d=\"M0 0h24v24H0V0z\" fill=\"none\"/>\n",
              "    <path d=\"M18.56 5.44l.94 2.06.94-2.06 2.06-.94-2.06-.94-.94-2.06-.94 2.06-2.06.94zm-11 1L8.5 8.5l.94-2.06 2.06-.94-2.06-.94L8.5 2.5l-.94 2.06-2.06.94zm10 10l.94 2.06.94-2.06 2.06-.94-2.06-.94-.94-2.06-.94 2.06-2.06.94z\"/><path d=\"M17.41 7.96l-1.37-1.37c-.4-.4-.92-.59-1.43-.59-.52 0-1.04.2-1.43.59L10.3 9.45l-7.72 7.72c-.78.78-.78 2.05 0 2.83L4 21.41c.39.39.9.59 1.41.59.51 0 1.02-.2 1.41-.59l7.78-7.78 2.81-2.81c.8-.78.8-2.07 0-2.86zM5.41 20L4 18.59l7.72-7.72 1.47 1.35L5.41 20z\"/>\n",
              "  </svg>\n",
              "      </button>\n",
              "      \n",
              "  <style>\n",
              "    .colab-df-container {\n",
              "      display:flex;\n",
              "      flex-wrap:wrap;\n",
              "      gap: 12px;\n",
              "    }\n",
              "\n",
              "    .colab-df-convert {\n",
              "      background-color: #E8F0FE;\n",
              "      border: none;\n",
              "      border-radius: 50%;\n",
              "      cursor: pointer;\n",
              "      display: none;\n",
              "      fill: #1967D2;\n",
              "      height: 32px;\n",
              "      padding: 0 0 0 0;\n",
              "      width: 32px;\n",
              "    }\n",
              "\n",
              "    .colab-df-convert:hover {\n",
              "      background-color: #E2EBFA;\n",
              "      box-shadow: 0px 1px 2px rgba(60, 64, 67, 0.3), 0px 1px 3px 1px rgba(60, 64, 67, 0.15);\n",
              "      fill: #174EA6;\n",
              "    }\n",
              "\n",
              "    [theme=dark] .colab-df-convert {\n",
              "      background-color: #3B4455;\n",
              "      fill: #D2E3FC;\n",
              "    }\n",
              "\n",
              "    [theme=dark] .colab-df-convert:hover {\n",
              "      background-color: #434B5C;\n",
              "      box-shadow: 0px 1px 3px 1px rgba(0, 0, 0, 0.15);\n",
              "      filter: drop-shadow(0px 1px 2px rgba(0, 0, 0, 0.3));\n",
              "      fill: #FFFFFF;\n",
              "    }\n",
              "  </style>\n",
              "\n",
              "      <script>\n",
              "        const buttonEl =\n",
              "          document.querySelector('#df-0f054d2e-be97-4fae-aa60-338f91a8c2ef button.colab-df-convert');\n",
              "        buttonEl.style.display =\n",
              "          google.colab.kernel.accessAllowed ? 'block' : 'none';\n",
              "\n",
              "        async function convertToInteractive(key) {\n",
              "          const element = document.querySelector('#df-0f054d2e-be97-4fae-aa60-338f91a8c2ef');\n",
              "          const dataTable =\n",
              "            await google.colab.kernel.invokeFunction('convertToInteractive',\n",
              "                                                     [key], {});\n",
              "          if (!dataTable) return;\n",
              "\n",
              "          const docLinkHtml = 'Like what you see? Visit the ' +\n",
              "            '<a target=\"_blank\" href=https://colab.research.google.com/notebooks/data_table.ipynb>data table notebook</a>'\n",
              "            + ' to learn more about interactive tables.';\n",
              "          element.innerHTML = '';\n",
              "          dataTable['output_type'] = 'display_data';\n",
              "          await google.colab.output.renderOutput(dataTable, element);\n",
              "          const docLink = document.createElement('div');\n",
              "          docLink.innerHTML = docLinkHtml;\n",
              "          element.appendChild(docLink);\n",
              "        }\n",
              "      </script>\n",
              "    </div>\n",
              "  </div>\n",
              "  "
            ],
            "text/plain": [
              "           LGBMRanker  XGBRanker  CatBoostRanker\n",
              "recall@10    0.967554   0.967610        0.967520\n",
              "ndcg@10      0.444158   0.444156        0.444141"
            ]
          },
          "execution_count": 265,
          "metadata": {},
          "output_type": "execute_result"
        }
      ],
      "source": [
        "pd.DataFrame(models_metrics)[['LGBMRanker', 'XGBRanker', 'CatBoostRanker']]"
      ]
    },
    {
      "cell_type": "markdown",
      "metadata": {
        "id": "hdLUge3CShRb"
      },
      "source": [
        "## Вывод:\n",
        "LGBMRanker работает быстрее и имеет наибольшее знаенчие ndcg@10"
      ]
    }
  ],
  "metadata": {
    "accelerator": "GPU",
    "colab": {
      "provenance": []
    },
    "gpuClass": "standard",
    "kernelspec": {
      "display_name": "Python 3.11.0 64-bit",
      "language": "python",
      "name": "python3"
    },
    "language_info": {
      "codemirror_mode": {
        "name": "ipython",
        "version": 3
      },
      "file_extension": ".py",
      "mimetype": "text/x-python",
      "name": "python",
      "nbconvert_exporter": "python",
      "pygments_lexer": "ipython3",
      "version": "3.11.0"
    },
    "toc-autonumbering": false,
    "toc-showmarkdowntxt": true,
    "vscode": {
      "interpreter": {
        "hash": "5c7b89af1651d0b8571dde13640ecdccf7d5a6204171d6ab33e7c296e100e08a"
      }
    },
    "widgets": {
      "application/vnd.jupyter.widget-state+json": {
        "08331672c536487da9797c6f112a067a": {
          "model_module": "@jupyter-widgets/controls",
          "model_module_version": "1.5.0",
          "model_name": "DescriptionStyleModel",
          "state": {
            "_model_module": "@jupyter-widgets/controls",
            "_model_module_version": "1.5.0",
            "_model_name": "DescriptionStyleModel",
            "_view_count": null,
            "_view_module": "@jupyter-widgets/base",
            "_view_module_version": "1.2.0",
            "_view_name": "StyleView",
            "description_width": ""
          }
        },
        "09b03168160b4802a7dee2fd453f3dd3": {
          "model_module": "@jupyter-widgets/base",
          "model_module_version": "1.2.0",
          "model_name": "LayoutModel",
          "state": {
            "_model_module": "@jupyter-widgets/base",
            "_model_module_version": "1.2.0",
            "_model_name": "LayoutModel",
            "_view_count": null,
            "_view_module": "@jupyter-widgets/base",
            "_view_module_version": "1.2.0",
            "_view_name": "LayoutView",
            "align_content": null,
            "align_items": null,
            "align_self": null,
            "border": null,
            "bottom": null,
            "display": null,
            "flex": null,
            "flex_flow": null,
            "grid_area": null,
            "grid_auto_columns": null,
            "grid_auto_flow": null,
            "grid_auto_rows": null,
            "grid_column": null,
            "grid_gap": null,
            "grid_row": null,
            "grid_template_areas": null,
            "grid_template_columns": null,
            "grid_template_rows": null,
            "height": null,
            "justify_content": null,
            "justify_items": null,
            "left": null,
            "margin": null,
            "max_height": null,
            "max_width": null,
            "min_height": null,
            "min_width": null,
            "object_fit": null,
            "object_position": null,
            "order": null,
            "overflow": null,
            "overflow_x": null,
            "overflow_y": null,
            "padding": null,
            "right": null,
            "top": null,
            "visibility": null,
            "width": null
          }
        },
        "11af59ea2671480f85109b81977d0463": {
          "model_module": "@jupyter-widgets/base",
          "model_module_version": "1.2.0",
          "model_name": "LayoutModel",
          "state": {
            "_model_module": "@jupyter-widgets/base",
            "_model_module_version": "1.2.0",
            "_model_name": "LayoutModel",
            "_view_count": null,
            "_view_module": "@jupyter-widgets/base",
            "_view_module_version": "1.2.0",
            "_view_name": "LayoutView",
            "align_content": null,
            "align_items": null,
            "align_self": null,
            "border": null,
            "bottom": null,
            "display": null,
            "flex": null,
            "flex_flow": null,
            "grid_area": null,
            "grid_auto_columns": null,
            "grid_auto_flow": null,
            "grid_auto_rows": null,
            "grid_column": null,
            "grid_gap": null,
            "grid_row": null,
            "grid_template_areas": null,
            "grid_template_columns": null,
            "grid_template_rows": null,
            "height": null,
            "justify_content": null,
            "justify_items": null,
            "left": null,
            "margin": null,
            "max_height": null,
            "max_width": null,
            "min_height": null,
            "min_width": null,
            "object_fit": null,
            "object_position": null,
            "order": null,
            "overflow": null,
            "overflow_x": null,
            "overflow_y": null,
            "padding": null,
            "right": null,
            "top": null,
            "visibility": null,
            "width": null
          }
        },
        "15b16b6216184ef48078c037c67428b3": {
          "model_module": "@jupyter-widgets/controls",
          "model_module_version": "1.5.0",
          "model_name": "HTMLModel",
          "state": {
            "_dom_classes": [],
            "_model_module": "@jupyter-widgets/controls",
            "_model_module_version": "1.5.0",
            "_model_name": "HTMLModel",
            "_view_count": null,
            "_view_module": "@jupyter-widgets/controls",
            "_view_module_version": "1.5.0",
            "_view_name": "HTMLView",
            "description": "",
            "description_tooltip": null,
            "layout": "IPY_MODEL_e62183ab7fe043bcb20379196611a88c",
            "placeholder": "​",
            "style": "IPY_MODEL_8bac6bb269c54edbb552ebe47244851c",
            "value": " 10/10 [01:28&lt;00:00,  7.56s/it]"
          }
        },
        "2d8e28c69b974f2e9693e43fd84fd870": {
          "model_module": "@jupyter-widgets/controls",
          "model_module_version": "1.5.0",
          "model_name": "HBoxModel",
          "state": {
            "_dom_classes": [],
            "_model_module": "@jupyter-widgets/controls",
            "_model_module_version": "1.5.0",
            "_model_name": "HBoxModel",
            "_view_count": null,
            "_view_module": "@jupyter-widgets/controls",
            "_view_module_version": "1.5.0",
            "_view_name": "HBoxView",
            "box_style": "",
            "children": [
              "IPY_MODEL_5c5c0f73d1834d5ebebf9bdea2e60519",
              "IPY_MODEL_93bd8d85075f474d945b84803311d52c",
              "IPY_MODEL_15b16b6216184ef48078c037c67428b3"
            ],
            "layout": "IPY_MODEL_09b03168160b4802a7dee2fd453f3dd3"
          }
        },
        "4d47eb5cdceb41d78ab928c2ac04c9eb": {
          "model_module": "@jupyter-widgets/controls",
          "model_module_version": "1.5.0",
          "model_name": "HBoxModel",
          "state": {
            "_dom_classes": [],
            "_model_module": "@jupyter-widgets/controls",
            "_model_module_version": "1.5.0",
            "_model_name": "HBoxModel",
            "_view_count": null,
            "_view_module": "@jupyter-widgets/controls",
            "_view_module_version": "1.5.0",
            "_view_name": "HBoxView",
            "box_style": "",
            "children": [
              "IPY_MODEL_9d6b5d457f534531aed5044559e3b42c",
              "IPY_MODEL_96603854ace344f0a00746d98e051180",
              "IPY_MODEL_cf1ddd2c2ab74d2183ddac0ae264c270"
            ],
            "layout": "IPY_MODEL_8af5607f120341089f711ad94312ea36"
          }
        },
        "58a60c998c7c4af9a2b40362c4b78914": {
          "model_module": "@jupyter-widgets/base",
          "model_module_version": "1.2.0",
          "model_name": "LayoutModel",
          "state": {
            "_model_module": "@jupyter-widgets/base",
            "_model_module_version": "1.2.0",
            "_model_name": "LayoutModel",
            "_view_count": null,
            "_view_module": "@jupyter-widgets/base",
            "_view_module_version": "1.2.0",
            "_view_name": "LayoutView",
            "align_content": null,
            "align_items": null,
            "align_self": null,
            "border": null,
            "bottom": null,
            "display": null,
            "flex": null,
            "flex_flow": null,
            "grid_area": null,
            "grid_auto_columns": null,
            "grid_auto_flow": null,
            "grid_auto_rows": null,
            "grid_column": null,
            "grid_gap": null,
            "grid_row": null,
            "grid_template_areas": null,
            "grid_template_columns": null,
            "grid_template_rows": null,
            "height": null,
            "justify_content": null,
            "justify_items": null,
            "left": null,
            "margin": null,
            "max_height": null,
            "max_width": null,
            "min_height": null,
            "min_width": null,
            "object_fit": null,
            "object_position": null,
            "order": null,
            "overflow": null,
            "overflow_x": null,
            "overflow_y": null,
            "padding": null,
            "right": null,
            "top": null,
            "visibility": null,
            "width": null
          }
        },
        "5c5c0f73d1834d5ebebf9bdea2e60519": {
          "model_module": "@jupyter-widgets/controls",
          "model_module_version": "1.5.0",
          "model_name": "HTMLModel",
          "state": {
            "_dom_classes": [],
            "_model_module": "@jupyter-widgets/controls",
            "_model_module_version": "1.5.0",
            "_model_name": "HTMLModel",
            "_view_count": null,
            "_view_module": "@jupyter-widgets/controls",
            "_view_module_version": "1.5.0",
            "_view_name": "HTMLView",
            "description": "",
            "description_tooltip": null,
            "layout": "IPY_MODEL_d131289e93564ac692aaa8c2fef30871",
            "placeholder": "​",
            "style": "IPY_MODEL_e3f5b0ea09f74bd8b11b71e4a7c00f39",
            "value": "100%"
          }
        },
        "77829f222c314cbcb6562f4fd46df833": {
          "model_module": "@jupyter-widgets/base",
          "model_module_version": "1.2.0",
          "model_name": "LayoutModel",
          "state": {
            "_model_module": "@jupyter-widgets/base",
            "_model_module_version": "1.2.0",
            "_model_name": "LayoutModel",
            "_view_count": null,
            "_view_module": "@jupyter-widgets/base",
            "_view_module_version": "1.2.0",
            "_view_name": "LayoutView",
            "align_content": null,
            "align_items": null,
            "align_self": null,
            "border": null,
            "bottom": null,
            "display": null,
            "flex": null,
            "flex_flow": null,
            "grid_area": null,
            "grid_auto_columns": null,
            "grid_auto_flow": null,
            "grid_auto_rows": null,
            "grid_column": null,
            "grid_gap": null,
            "grid_row": null,
            "grid_template_areas": null,
            "grid_template_columns": null,
            "grid_template_rows": null,
            "height": null,
            "justify_content": null,
            "justify_items": null,
            "left": null,
            "margin": null,
            "max_height": null,
            "max_width": null,
            "min_height": null,
            "min_width": null,
            "object_fit": null,
            "object_position": null,
            "order": null,
            "overflow": null,
            "overflow_x": null,
            "overflow_y": null,
            "padding": null,
            "right": null,
            "top": null,
            "visibility": null,
            "width": null
          }
        },
        "82d3d66524fb402b82491affed0ff299": {
          "model_module": "@jupyter-widgets/controls",
          "model_module_version": "1.5.0",
          "model_name": "DescriptionStyleModel",
          "state": {
            "_model_module": "@jupyter-widgets/controls",
            "_model_module_version": "1.5.0",
            "_model_name": "DescriptionStyleModel",
            "_view_count": null,
            "_view_module": "@jupyter-widgets/base",
            "_view_module_version": "1.2.0",
            "_view_name": "StyleView",
            "description_width": ""
          }
        },
        "8af5607f120341089f711ad94312ea36": {
          "model_module": "@jupyter-widgets/base",
          "model_module_version": "1.2.0",
          "model_name": "LayoutModel",
          "state": {
            "_model_module": "@jupyter-widgets/base",
            "_model_module_version": "1.2.0",
            "_model_name": "LayoutModel",
            "_view_count": null,
            "_view_module": "@jupyter-widgets/base",
            "_view_module_version": "1.2.0",
            "_view_name": "LayoutView",
            "align_content": null,
            "align_items": null,
            "align_self": null,
            "border": null,
            "bottom": null,
            "display": null,
            "flex": null,
            "flex_flow": null,
            "grid_area": null,
            "grid_auto_columns": null,
            "grid_auto_flow": null,
            "grid_auto_rows": null,
            "grid_column": null,
            "grid_gap": null,
            "grid_row": null,
            "grid_template_areas": null,
            "grid_template_columns": null,
            "grid_template_rows": null,
            "height": null,
            "justify_content": null,
            "justify_items": null,
            "left": null,
            "margin": null,
            "max_height": null,
            "max_width": null,
            "min_height": null,
            "min_width": null,
            "object_fit": null,
            "object_position": null,
            "order": null,
            "overflow": null,
            "overflow_x": null,
            "overflow_y": null,
            "padding": null,
            "right": null,
            "top": null,
            "visibility": null,
            "width": null
          }
        },
        "8bac6bb269c54edbb552ebe47244851c": {
          "model_module": "@jupyter-widgets/controls",
          "model_module_version": "1.5.0",
          "model_name": "DescriptionStyleModel",
          "state": {
            "_model_module": "@jupyter-widgets/controls",
            "_model_module_version": "1.5.0",
            "_model_name": "DescriptionStyleModel",
            "_view_count": null,
            "_view_module": "@jupyter-widgets/base",
            "_view_module_version": "1.2.0",
            "_view_name": "StyleView",
            "description_width": ""
          }
        },
        "93bd8d85075f474d945b84803311d52c": {
          "model_module": "@jupyter-widgets/controls",
          "model_module_version": "1.5.0",
          "model_name": "FloatProgressModel",
          "state": {
            "_dom_classes": [],
            "_model_module": "@jupyter-widgets/controls",
            "_model_module_version": "1.5.0",
            "_model_name": "FloatProgressModel",
            "_view_count": null,
            "_view_module": "@jupyter-widgets/controls",
            "_view_module_version": "1.5.0",
            "_view_name": "ProgressView",
            "bar_style": "success",
            "description": "",
            "description_tooltip": null,
            "layout": "IPY_MODEL_77829f222c314cbcb6562f4fd46df833",
            "max": 10,
            "min": 0,
            "orientation": "horizontal",
            "style": "IPY_MODEL_a31676e51dc84a719d273847201f386b",
            "value": 10
          }
        },
        "96603854ace344f0a00746d98e051180": {
          "model_module": "@jupyter-widgets/controls",
          "model_module_version": "1.5.0",
          "model_name": "FloatProgressModel",
          "state": {
            "_dom_classes": [],
            "_model_module": "@jupyter-widgets/controls",
            "_model_module_version": "1.5.0",
            "_model_name": "FloatProgressModel",
            "_view_count": null,
            "_view_module": "@jupyter-widgets/controls",
            "_view_module_version": "1.5.0",
            "_view_name": "ProgressView",
            "bar_style": "",
            "description": "",
            "description_tooltip": null,
            "layout": "IPY_MODEL_11af59ea2671480f85109b81977d0463",
            "max": 78795385,
            "min": 0,
            "orientation": "horizontal",
            "style": "IPY_MODEL_cf9cca4354e14125aa2c8b9b59f68092",
            "value": 78795385
          }
        },
        "9d6b5d457f534531aed5044559e3b42c": {
          "model_module": "@jupyter-widgets/controls",
          "model_module_version": "1.5.0",
          "model_name": "HTMLModel",
          "state": {
            "_dom_classes": [],
            "_model_module": "@jupyter-widgets/controls",
            "_model_module_version": "1.5.0",
            "_model_name": "HTMLModel",
            "_view_count": null,
            "_view_module": "@jupyter-widgets/controls",
            "_view_module_version": "1.5.0",
            "_view_name": "HTMLView",
            "description": "",
            "description_tooltip": null,
            "layout": "IPY_MODEL_d3b5e99c801f4cd4966e590c56e22902",
            "placeholder": "​",
            "style": "IPY_MODEL_08331672c536487da9797c6f112a067a",
            "value": "kion dataset download: 100%"
          }
        },
        "a31676e51dc84a719d273847201f386b": {
          "model_module": "@jupyter-widgets/controls",
          "model_module_version": "1.5.0",
          "model_name": "ProgressStyleModel",
          "state": {
            "_model_module": "@jupyter-widgets/controls",
            "_model_module_version": "1.5.0",
            "_model_name": "ProgressStyleModel",
            "_view_count": null,
            "_view_module": "@jupyter-widgets/base",
            "_view_module_version": "1.2.0",
            "_view_name": "StyleView",
            "bar_color": null,
            "description_width": ""
          }
        },
        "cbbb4b289f0c440facbeb2080db32c59": {
          "model_module": "catboost-widget",
          "model_module_version": "^1.0.0",
          "model_name": "CatboostWidgetModel",
          "state": {
            "_dom_classes": [],
            "_model_module": "catboost-widget",
            "_model_module_version": "^1.0.0",
            "_model_name": "CatboostWidgetModel",
            "_view_count": null,
            "_view_module": "catboost-widget",
            "_view_module_version": "^1.0.0",
            "_view_name": "CatboostWidgetView",
            "data": {
              "catboost_info": {
                "content": {
                  "data": {
                    "iterations": [
                      {
                        "iteration": 0,
                        "passed_time": 1.085504189,
                        "remaining_time": 107.4649148,
                        "test": [
                          0.6542969432,
                          0.5311441745
                        ]
                      },
                      {
                        "iteration": 1,
                        "passed_time": 2.121540085,
                        "remaining_time": 103.9554642,
                        "test": [
                          0.6807766779,
                          0.568223571
                        ]
                      },
                      {
                        "iteration": 2,
                        "passed_time": 3.190384985,
                        "remaining_time": 103.1557812,
                        "test": [
                          0.6850385446,
                          0.5735127599
                        ]
                      },
                      {
                        "iteration": 3,
                        "passed_time": 4.415111867,
                        "remaining_time": 105.9626848,
                        "test": [
                          0.6966191827,
                          0.590626867
                        ]
                      },
                      {
                        "iteration": 4,
                        "passed_time": 6.382095661,
                        "remaining_time": 121.2598176,
                        "test": [
                          0.697545687,
                          0.5920025868
                        ]
                      },
                      {
                        "iteration": 5,
                        "passed_time": 7.438977166,
                        "remaining_time": 116.5439756,
                        "test": [
                          0.6984194661,
                          0.5934567998
                        ]
                      },
                      {
                        "iteration": 6,
                        "passed_time": 8.466790229,
                        "remaining_time": 112.4873559,
                        "test": [
                          0.7173960759,
                          0.623611652
                        ]
                      },
                      {
                        "iteration": 7,
                        "passed_time": 9.527085196,
                        "remaining_time": 109.5614798,
                        "test": [
                          0.7406116929,
                          0.6532040093
                        ]
                      },
                      {
                        "iteration": 8,
                        "passed_time": 10.57905542,
                        "remaining_time": 106.9660048,
                        "test": [
                          0.7412795682,
                          0.6545558257
                        ]
                      },
                      {
                        "iteration": 9,
                        "passed_time": 11.59997082,
                        "remaining_time": 104.3997374,
                        "test": [
                          0.7411092774,
                          0.6542885816
                        ]
                      },
                      {
                        "iteration": 10,
                        "passed_time": 12.63034877,
                        "remaining_time": 102.1910037,
                        "test": [
                          0.741507868,
                          0.6544609295
                        ]
                      },
                      {
                        "iteration": 11,
                        "passed_time": 13.68967689,
                        "remaining_time": 100.3909639,
                        "test": [
                          0.7439423777,
                          0.6582895407
                        ]
                      },
                      {
                        "iteration": 12,
                        "passed_time": 14.74609663,
                        "remaining_time": 98.68541592,
                        "test": [
                          0.7549896958,
                          0.6738036362
                        ]
                      },
                      {
                        "iteration": 13,
                        "passed_time": 15.7959628,
                        "remaining_time": 97.03234294,
                        "test": [
                          0.7585659803,
                          0.6788548564
                        ]
                      },
                      {
                        "iteration": 14,
                        "passed_time": 16.86373908,
                        "remaining_time": 95.56118813,
                        "test": [
                          0.7638292078,
                          0.685183816
                        ]
                      },
                      {
                        "iteration": 15,
                        "passed_time": 17.95104544,
                        "remaining_time": 94.24298857,
                        "test": [
                          0.7639185336,
                          0.6849599318
                        ]
                      },
                      {
                        "iteration": 16,
                        "passed_time": 18.96893194,
                        "remaining_time": 92.61302063,
                        "test": [
                          0.7642587007,
                          0.6855358583
                        ]
                      },
                      {
                        "iteration": 17,
                        "passed_time": 20.00794268,
                        "remaining_time": 91.14729445,
                        "test": [
                          0.7667875149,
                          0.6890828309
                        ]
                      },
                      {
                        "iteration": 18,
                        "passed_time": 21.06549425,
                        "remaining_time": 89.80552813,
                        "test": [
                          0.7694388664,
                          0.6927190324
                        ]
                      },
                      {
                        "iteration": 19,
                        "passed_time": 22.08768433,
                        "remaining_time": 88.35073732,
                        "test": [
                          0.7693488716,
                          0.6926629993
                        ]
                      },
                      {
                        "iteration": 20,
                        "passed_time": 23.12324833,
                        "remaining_time": 86.987458,
                        "test": [
                          0.7734205076,
                          0.6974874771
                        ]
                      },
                      {
                        "iteration": 21,
                        "passed_time": 24.20087864,
                        "remaining_time": 85.80311519,
                        "test": [
                          0.7742206811,
                          0.6978636296
                        ]
                      },
                      {
                        "iteration": 22,
                        "passed_time": 25.2643067,
                        "remaining_time": 84.58050505,
                        "test": [
                          0.7732032039,
                          0.6972502513
                        ]
                      },
                      {
                        "iteration": 23,
                        "passed_time": 26.32049684,
                        "remaining_time": 83.34823999,
                        "test": [
                          0.774096433,
                          0.6975098161
                        ]
                      },
                      {
                        "iteration": 24,
                        "passed_time": 27.36817492,
                        "remaining_time": 82.10452477,
                        "test": [
                          0.7737097087,
                          0.697620482
                        ]
                      },
                      {
                        "iteration": 25,
                        "passed_time": 28.42051686,
                        "remaining_time": 80.88916338,
                        "test": [
                          0.7749763398,
                          0.6992339454
                        ]
                      },
                      {
                        "iteration": 26,
                        "passed_time": 29.44551187,
                        "remaining_time": 79.6119395,
                        "test": [
                          0.7782988832,
                          0.7027033844
                        ]
                      },
                      {
                        "iteration": 27,
                        "passed_time": 30.44830561,
                        "remaining_time": 78.295643,
                        "test": [
                          0.7788233366,
                          0.7027669226
                        ]
                      },
                      {
                        "iteration": 28,
                        "passed_time": 31.46855242,
                        "remaining_time": 77.04369731,
                        "test": [
                          0.7802131209,
                          0.704175382
                        ]
                      },
                      {
                        "iteration": 29,
                        "passed_time": 32.49029016,
                        "remaining_time": 75.81067703,
                        "test": [
                          0.7810971392,
                          0.7051452531
                        ]
                      },
                      {
                        "iteration": 30,
                        "passed_time": 33.49455684,
                        "remaining_time": 74.5524007,
                        "test": [
                          0.7823964129,
                          0.7070052248
                        ]
                      },
                      {
                        "iteration": 31,
                        "passed_time": 34.53682213,
                        "remaining_time": 73.39074703,
                        "test": [
                          0.7822264598,
                          0.7073201344
                        ]
                      },
                      {
                        "iteration": 32,
                        "passed_time": 35.55450006,
                        "remaining_time": 72.18640921,
                        "test": [
                          0.7818550358,
                          0.7069481635
                        ]
                      },
                      {
                        "iteration": 33,
                        "passed_time": 36.57876238,
                        "remaining_time": 71.00583285,
                        "test": [
                          0.7823295751,
                          0.7076188653
                        ]
                      },
                      {
                        "iteration": 34,
                        "passed_time": 37.63784562,
                        "remaining_time": 69.89885616,
                        "test": [
                          0.7824519122,
                          0.7077704915
                        ]
                      },
                      {
                        "iteration": 35,
                        "passed_time": 38.65606006,
                        "remaining_time": 68.72188456,
                        "test": [
                          0.7795743476,
                          0.7055927081
                        ]
                      },
                      {
                        "iteration": 36,
                        "passed_time": 39.70610828,
                        "remaining_time": 67.60769789,
                        "test": [
                          0.7806389683,
                          0.7077200502
                        ]
                      },
                      {
                        "iteration": 37,
                        "passed_time": 40.7352373,
                        "remaining_time": 66.46275559,
                        "test": [
                          0.7805981324,
                          0.7075781418
                        ]
                      },
                      {
                        "iteration": 38,
                        "passed_time": 41.7536061,
                        "remaining_time": 65.30692235,
                        "test": [
                          0.7822129591,
                          0.7090605337
                        ]
                      },
                      {
                        "iteration": 39,
                        "passed_time": 42.76878432,
                        "remaining_time": 64.15317648,
                        "test": [
                          0.7822917814,
                          0.7092625411
                        ]
                      },
                      {
                        "iteration": 40,
                        "passed_time": 43.77452348,
                        "remaining_time": 62.99260697,
                        "test": [
                          0.7821225422,
                          0.7093333854
                        ]
                      },
                      {
                        "iteration": 41,
                        "passed_time": 44.79208542,
                        "remaining_time": 61.85573701,
                        "test": [
                          0.7826545863,
                          0.7097623871
                        ]
                      },
                      {
                        "iteration": 42,
                        "passed_time": 45.80502006,
                        "remaining_time": 60.7182824,
                        "test": [
                          0.7828668395,
                          0.7096003296
                        ]
                      },
                      {
                        "iteration": 43,
                        "passed_time": 46.81075261,
                        "remaining_time": 59.57732151,
                        "test": [
                          0.7850328261,
                          0.7122153706
                        ]
                      },
                      {
                        "iteration": 44,
                        "passed_time": 47.81937275,
                        "remaining_time": 58.44590003,
                        "test": [
                          0.7846427751,
                          0.7117315165
                        ]
                      },
                      {
                        "iteration": 45,
                        "passed_time": 48.85028092,
                        "remaining_time": 57.34598195,
                        "test": [
                          0.7846330712,
                          0.7116638416
                        ]
                      },
                      {
                        "iteration": 46,
                        "passed_time": 49.8799322,
                        "remaining_time": 56.24758312,
                        "test": [
                          0.7840554281,
                          0.7106473813
                        ]
                      },
                      {
                        "iteration": 47,
                        "passed_time": 50.88116779,
                        "remaining_time": 55.12126511,
                        "test": [
                          0.7835815317,
                          0.710404692
                        ]
                      },
                      {
                        "iteration": 48,
                        "passed_time": 51.92030115,
                        "remaining_time": 54.03949711,
                        "test": [
                          0.7838175461,
                          0.7112320774
                        ]
                      },
                      {
                        "iteration": 49,
                        "passed_time": 52.94398021,
                        "remaining_time": 52.94398021,
                        "test": [
                          0.7838190587,
                          0.7110397072
                        ]
                      },
                      {
                        "iteration": 50,
                        "passed_time": 53.97571167,
                        "remaining_time": 51.85901709,
                        "test": [
                          0.7829240553,
                          0.7100481596
                        ]
                      },
                      {
                        "iteration": 51,
                        "passed_time": 55.01939069,
                        "remaining_time": 50.78712987,
                        "test": [
                          0.783195945,
                          0.7106174915
                        ]
                      },
                      {
                        "iteration": 52,
                        "passed_time": 56.05224634,
                        "remaining_time": 49.70670902,
                        "test": [
                          0.78323231,
                          0.7107427942
                        ]
                      },
                      {
                        "iteration": 53,
                        "passed_time": 57.09227242,
                        "remaining_time": 48.63415798,
                        "test": [
                          0.7832713016,
                          0.7107834507
                        ]
                      },
                      {
                        "iteration": 54,
                        "passed_time": 58.11242629,
                        "remaining_time": 47.5465306,
                        "test": [
                          0.783506347,
                          0.7103947293
                        ]
                      },
                      {
                        "iteration": 55,
                        "passed_time": 59.13337898,
                        "remaining_time": 46.46194062,
                        "test": [
                          0.7839705435,
                          0.7107502516
                        ]
                      },
                      {
                        "iteration": 56,
                        "passed_time": 60.19990395,
                        "remaining_time": 45.41396263,
                        "test": [
                          0.7842857678,
                          0.710869065
                        ]
                      },
                      {
                        "iteration": 57,
                        "passed_time": 61.21382271,
                        "remaining_time": 44.32725092,
                        "test": [
                          0.7842745399,
                          0.7108490043
                        ]
                      },
                      {
                        "iteration": 58,
                        "passed_time": 62.24290167,
                        "remaining_time": 43.25354184,
                        "test": [
                          0.7840394974,
                          0.7106170557
                        ]
                      },
                      {
                        "iteration": 59,
                        "passed_time": 63.25536794,
                        "remaining_time": 42.1702453,
                        "test": [
                          0.7849194909,
                          0.7117253511
                        ]
                      },
                      {
                        "iteration": 60,
                        "passed_time": 64.27430724,
                        "remaining_time": 41.09340954,
                        "test": [
                          0.7852026149,
                          0.7119856748
                        ]
                      },
                      {
                        "iteration": 61,
                        "passed_time": 65.32371447,
                        "remaining_time": 40.03711532,
                        "test": [
                          0.7851631582,
                          0.7117371831
                        ]
                      },
                      {
                        "iteration": 62,
                        "passed_time": 66.3330324,
                        "remaining_time": 38.95749522,
                        "test": [
                          0.7850450239,
                          0.7118249722
                        ]
                      },
                      {
                        "iteration": 63,
                        "passed_time": 67.3429504,
                        "remaining_time": 37.8804096,
                        "test": [
                          0.784334748,
                          0.7112370909
                        ]
                      },
                      {
                        "iteration": 64,
                        "passed_time": 68.35491489,
                        "remaining_time": 36.80649263,
                        "test": [
                          0.7843481436,
                          0.7112107551
                        ]
                      },
                      {
                        "iteration": 65,
                        "passed_time": 69.36688266,
                        "remaining_time": 35.7344547,
                        "test": [
                          0.7841344392,
                          0.7107803338
                        ]
                      },
                      {
                        "iteration": 66,
                        "passed_time": 70.84304384,
                        "remaining_time": 34.89284249,
                        "test": [
                          0.7839566321,
                          0.7103244608
                        ]
                      },
                      {
                        "iteration": 67,
                        "passed_time": 73.54847207,
                        "remaining_time": 34.61104568,
                        "test": [
                          0.7841736359,
                          0.7105131055
                        ]
                      },
                      {
                        "iteration": 68,
                        "passed_time": 74.81937798,
                        "remaining_time": 33.61450315,
                        "test": [
                          0.7841622343,
                          0.7104708561
                        ]
                      },
                      {
                        "iteration": 69,
                        "passed_time": 75.84329595,
                        "remaining_time": 32.50426969,
                        "test": [
                          0.7856741568,
                          0.7124386008
                        ]
                      },
                      {
                        "iteration": 70,
                        "passed_time": 76.87531971,
                        "remaining_time": 31.39977847,
                        "test": [
                          0.7856735707,
                          0.7124386008
                        ]
                      },
                      {
                        "iteration": 71,
                        "passed_time": 77.90669959,
                        "remaining_time": 30.29704984,
                        "test": [
                          0.7862149789,
                          0.7127737632
                        ]
                      },
                      {
                        "iteration": 72,
                        "passed_time": 78.95160319,
                        "remaining_time": 29.20127789,
                        "test": [
                          0.7864712523,
                          0.7133347646
                        ]
                      },
                      {
                        "iteration": 73,
                        "passed_time": 79.97164408,
                        "remaining_time": 28.09814522,
                        "test": [
                          0.7866398285,
                          0.7135751461
                        ]
                      },
                      {
                        "iteration": 74,
                        "passed_time": 81.03785712,
                        "remaining_time": 27.01261904,
                        "test": [
                          0.7865418749,
                          0.7136414172
                        ]
                      },
                      {
                        "iteration": 75,
                        "passed_time": 82.06723439,
                        "remaining_time": 25.91596875,
                        "test": [
                          0.787019269,
                          0.7136154908
                        ]
                      },
                      {
                        "iteration": 76,
                        "passed_time": 83.08575268,
                        "remaining_time": 24.81782223,
                        "test": [
                          0.7870423183,
                          0.7138141947
                        ]
                      },
                      {
                        "iteration": 77,
                        "passed_time": 84.0926216,
                        "remaining_time": 23.71843173,
                        "test": [
                          0.7870423183,
                          0.7138141947
                        ]
                      },
                      {
                        "iteration": 78,
                        "passed_time": 85.11539132,
                        "remaining_time": 22.62561035,
                        "test": [
                          0.7872655123,
                          0.7137063039
                        ]
                      },
                      {
                        "iteration": 79,
                        "passed_time": 86.21276942,
                        "remaining_time": 21.55319235,
                        "test": [
                          0.7869391501,
                          0.7129571
                        ]
                      },
                      {
                        "iteration": 80,
                        "passed_time": 87.24309509,
                        "remaining_time": 20.46442971,
                        "test": [
                          0.7874038716,
                          0.7133491216
                        ]
                      },
                      {
                        "iteration": 81,
                        "passed_time": 88.26753697,
                        "remaining_time": 19.3758008,
                        "test": [
                          0.7865669859,
                          0.7126336534
                        ]
                      },
                      {
                        "iteration": 82,
                        "passed_time": 89.28560377,
                        "remaining_time": 18.28741282,
                        "test": [
                          0.7863189363,
                          0.7126913487
                        ]
                      },
                      {
                        "iteration": 83,
                        "passed_time": 90.31916888,
                        "remaining_time": 17.20365121,
                        "test": [
                          0.7862299329,
                          0.7125661894
                        ]
                      },
                      {
                        "iteration": 84,
                        "passed_time": 91.35066669,
                        "remaining_time": 16.12070589,
                        "test": [
                          0.7859114241,
                          0.7124709546
                        ]
                      },
                      {
                        "iteration": 85,
                        "passed_time": 92.41670594,
                        "remaining_time": 15.04458004,
                        "test": [
                          0.7854792624,
                          0.7121779438
                        ]
                      },
                      {
                        "iteration": 86,
                        "passed_time": 93.45008787,
                        "remaining_time": 13.96380623,
                        "test": [
                          0.7851076941,
                          0.7117388446
                        ]
                      },
                      {
                        "iteration": 87,
                        "passed_time": 94.46491309,
                        "remaining_time": 12.88157906,
                        "test": [
                          0.7850207994,
                          0.7116526986
                        ]
                      },
                      {
                        "iteration": 88,
                        "passed_time": 95.49378281,
                        "remaining_time": 11.80260237,
                        "test": [
                          0.7858669826,
                          0.7125933907
                        ]
                      },
                      {
                        "iteration": 89,
                        "passed_time": 96.52464933,
                        "remaining_time": 10.72496104,
                        "test": [
                          0.786318377,
                          0.7129378602
                        ]
                      },
                      {
                        "iteration": 90,
                        "passed_time": 97.54743747,
                        "remaining_time": 9.647548761,
                        "test": [
                          0.7859965713,
                          0.7121921642
                        ]
                      },
                      {
                        "iteration": 91,
                        "passed_time": 98.58809281,
                        "remaining_time": 8.572877636,
                        "test": [
                          0.7860275879,
                          0.7123416449
                        ]
                      },
                      {
                        "iteration": 92,
                        "passed_time": 99.61418253,
                        "remaining_time": 7.497841696,
                        "test": [
                          0.7866181611,
                          0.7132929799
                        ]
                      },
                      {
                        "iteration": 93,
                        "passed_time": 100.6257511,
                        "remaining_time": 6.42292028,
                        "test": [
                          0.786345873,
                          0.7130408659
                        ]
                      },
                      {
                        "iteration": 94,
                        "passed_time": 101.6598342,
                        "remaining_time": 5.350517592,
                        "test": [
                          0.7871158411,
                          0.7140842814
                        ]
                      },
                      {
                        "iteration": 95,
                        "passed_time": 102.7053372,
                        "remaining_time": 4.279389049,
                        "test": [
                          0.7865196687,
                          0.7130756131
                        ]
                      },
                      {
                        "iteration": 96,
                        "passed_time": 104.2066017,
                        "remaining_time": 3.22288459,
                        "test": [
                          0.7864188671,
                          0.7129625227
                        ]
                      },
                      {
                        "iteration": 97,
                        "passed_time": 106.0792658,
                        "remaining_time": 2.164882976,
                        "test": [
                          0.7864014163,
                          0.7132845546
                        ]
                      },
                      {
                        "iteration": 98,
                        "passed_time": 107.108678,
                        "remaining_time": 1.081905838,
                        "test": [
                          0.7864057166,
                          0.7132877553
                        ]
                      },
                      {
                        "iteration": 99,
                        "passed_time": 108.1276216,
                        "remaining_time": 0,
                        "test": [
                          0.7864083258,
                          0.713416748
                        ]
                      }
                    ],
                    "meta": {
                      "iteration_count": 100,
                      "launch_mode": "Train",
                      "learn_metrics": [],
                      "learn_sets": [
                        "learn"
                      ],
                      "name": "experiment",
                      "parameters": "",
                      "test_metrics": [
                        {
                          "best_value": "Max",
                          "name": "NDCG:type=Base"
                        },
                        {
                          "best_value": "Max",
                          "name": "NDCG:top=10;type=Base"
                        }
                      ],
                      "test_sets": [
                        "test"
                      ]
                    }
                  },
                  "passed_iterations": 99,
                  "total_iterations": 100
                },
                "name": "catboost_info",
                "path": "catboost_info"
              }
            },
            "layout": "IPY_MODEL_d72db2fe54f74502b4a467c23e89117b"
          }
        },
        "cf1ddd2c2ab74d2183ddac0ae264c270": {
          "model_module": "@jupyter-widgets/controls",
          "model_module_version": "1.5.0",
          "model_name": "HTMLModel",
          "state": {
            "_dom_classes": [],
            "_model_module": "@jupyter-widgets/controls",
            "_model_module_version": "1.5.0",
            "_model_name": "HTMLModel",
            "_view_count": null,
            "_view_module": "@jupyter-widgets/controls",
            "_view_module_version": "1.5.0",
            "_view_name": "HTMLView",
            "description": "",
            "description_tooltip": null,
            "layout": "IPY_MODEL_58a60c998c7c4af9a2b40362c4b78914",
            "placeholder": "​",
            "style": "IPY_MODEL_82d3d66524fb402b82491affed0ff299",
            "value": " 78.8M/78.8M [00:20&lt;00:00, 11.0MiB/s]"
          }
        },
        "cf9cca4354e14125aa2c8b9b59f68092": {
          "model_module": "@jupyter-widgets/controls",
          "model_module_version": "1.5.0",
          "model_name": "ProgressStyleModel",
          "state": {
            "_model_module": "@jupyter-widgets/controls",
            "_model_module_version": "1.5.0",
            "_model_name": "ProgressStyleModel",
            "_view_count": null,
            "_view_module": "@jupyter-widgets/base",
            "_view_module_version": "1.2.0",
            "_view_name": "StyleView",
            "bar_color": null,
            "description_width": ""
          }
        },
        "d131289e93564ac692aaa8c2fef30871": {
          "model_module": "@jupyter-widgets/base",
          "model_module_version": "1.2.0",
          "model_name": "LayoutModel",
          "state": {
            "_model_module": "@jupyter-widgets/base",
            "_model_module_version": "1.2.0",
            "_model_name": "LayoutModel",
            "_view_count": null,
            "_view_module": "@jupyter-widgets/base",
            "_view_module_version": "1.2.0",
            "_view_name": "LayoutView",
            "align_content": null,
            "align_items": null,
            "align_self": null,
            "border": null,
            "bottom": null,
            "display": null,
            "flex": null,
            "flex_flow": null,
            "grid_area": null,
            "grid_auto_columns": null,
            "grid_auto_flow": null,
            "grid_auto_rows": null,
            "grid_column": null,
            "grid_gap": null,
            "grid_row": null,
            "grid_template_areas": null,
            "grid_template_columns": null,
            "grid_template_rows": null,
            "height": null,
            "justify_content": null,
            "justify_items": null,
            "left": null,
            "margin": null,
            "max_height": null,
            "max_width": null,
            "min_height": null,
            "min_width": null,
            "object_fit": null,
            "object_position": null,
            "order": null,
            "overflow": null,
            "overflow_x": null,
            "overflow_y": null,
            "padding": null,
            "right": null,
            "top": null,
            "visibility": null,
            "width": null
          }
        },
        "d3b5e99c801f4cd4966e590c56e22902": {
          "model_module": "@jupyter-widgets/base",
          "model_module_version": "1.2.0",
          "model_name": "LayoutModel",
          "state": {
            "_model_module": "@jupyter-widgets/base",
            "_model_module_version": "1.2.0",
            "_model_name": "LayoutModel",
            "_view_count": null,
            "_view_module": "@jupyter-widgets/base",
            "_view_module_version": "1.2.0",
            "_view_name": "LayoutView",
            "align_content": null,
            "align_items": null,
            "align_self": null,
            "border": null,
            "bottom": null,
            "display": null,
            "flex": null,
            "flex_flow": null,
            "grid_area": null,
            "grid_auto_columns": null,
            "grid_auto_flow": null,
            "grid_auto_rows": null,
            "grid_column": null,
            "grid_gap": null,
            "grid_row": null,
            "grid_template_areas": null,
            "grid_template_columns": null,
            "grid_template_rows": null,
            "height": null,
            "justify_content": null,
            "justify_items": null,
            "left": null,
            "margin": null,
            "max_height": null,
            "max_width": null,
            "min_height": null,
            "min_width": null,
            "object_fit": null,
            "object_position": null,
            "order": null,
            "overflow": null,
            "overflow_x": null,
            "overflow_y": null,
            "padding": null,
            "right": null,
            "top": null,
            "visibility": null,
            "width": null
          }
        },
        "e3f5b0ea09f74bd8b11b71e4a7c00f39": {
          "model_module": "@jupyter-widgets/controls",
          "model_module_version": "1.5.0",
          "model_name": "DescriptionStyleModel",
          "state": {
            "_model_module": "@jupyter-widgets/controls",
            "_model_module_version": "1.5.0",
            "_model_name": "DescriptionStyleModel",
            "_view_count": null,
            "_view_module": "@jupyter-widgets/base",
            "_view_module_version": "1.2.0",
            "_view_name": "StyleView",
            "description_width": ""
          }
        },
        "e62183ab7fe043bcb20379196611a88c": {
          "model_module": "@jupyter-widgets/base",
          "model_module_version": "1.2.0",
          "model_name": "LayoutModel",
          "state": {
            "_model_module": "@jupyter-widgets/base",
            "_model_module_version": "1.2.0",
            "_model_name": "LayoutModel",
            "_view_count": null,
            "_view_module": "@jupyter-widgets/base",
            "_view_module_version": "1.2.0",
            "_view_name": "LayoutView",
            "align_content": null,
            "align_items": null,
            "align_self": null,
            "border": null,
            "bottom": null,
            "display": null,
            "flex": null,
            "flex_flow": null,
            "grid_area": null,
            "grid_auto_columns": null,
            "grid_auto_flow": null,
            "grid_auto_rows": null,
            "grid_column": null,
            "grid_gap": null,
            "grid_row": null,
            "grid_template_areas": null,
            "grid_template_columns": null,
            "grid_template_rows": null,
            "height": null,
            "justify_content": null,
            "justify_items": null,
            "left": null,
            "margin": null,
            "max_height": null,
            "max_width": null,
            "min_height": null,
            "min_width": null,
            "object_fit": null,
            "object_position": null,
            "order": null,
            "overflow": null,
            "overflow_x": null,
            "overflow_y": null,
            "padding": null,
            "right": null,
            "top": null,
            "visibility": null,
            "width": null
          }
        }
      }
    }
  },
  "nbformat": 4,
  "nbformat_minor": 0
}
