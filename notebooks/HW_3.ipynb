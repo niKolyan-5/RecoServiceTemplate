{
 "cells": [
  {
   "cell_type": "code",
   "execution_count": 1,
   "id": "d591ad1b",
   "metadata": {},
   "outputs": [
    {
     "name": "stderr",
     "output_type": "stream",
     "text": [
      "/Users/anastasiyatataurova/opt/anaconda3/envs/hw3/lib/python3.9/site-packages/tqdm/auto.py:22: TqdmWarning: IProgress not found. Please update jupyter and ipywidgets. See https://ipywidgets.readthedocs.io/en/stable/user_install.html\n",
      "  from .autonotebook import tqdm as notebook_tqdm\n"
     ]
    }
   ],
   "source": [
    "import pandas as pd\n",
    "import numpy as np\n",
    "import scipy as sp\n",
    "import requests\n",
    "from tqdm.auto import tqdm\n",
    "from scipy.stats import mode \n",
    "from pprint import pprint\n",
    "from implicit.nearest_neighbours import CosineRecommender\n",
    "import warnings\n",
    "warnings.filterwarnings(\"ignore\")\n",
    "\n",
    "from rectools import Columns\n",
    "\n",
    "pd.set_option('display.max_columns', None)\n",
    "pd.set_option('display.max_colwidth', 200)"
   ]
  },
  {
   "cell_type": "code",
   "execution_count": 3,
   "id": "1f349c11",
   "metadata": {},
   "outputs": [],
   "source": [
    "interactions = pd.read_csv('../data_original/interactions.csv')\n",
    "users = pd.read_csv('../data_original/users.csv')\n",
    "items = pd.read_csv('../data_original/items.csv')"
   ]
  },
  {
   "cell_type": "code",
   "execution_count": 4,
   "id": "90fe394f",
   "metadata": {},
   "outputs": [],
   "source": [
    "# rename columns, convert timestamp\n",
    "interactions.rename(columns={'last_watch_dt': Columns.Datetime,\n",
    "                            'total_dur': Columns.Weight}, \n",
    "                    inplace=True) \n",
    "\n",
    "interactions['datetime'] = pd.to_datetime(interactions['datetime'])"
   ]
  },
  {
   "cell_type": "code",
   "execution_count": 5,
   "id": "09024eb1",
   "metadata": {},
   "outputs": [
    {
     "name": "stdout",
     "output_type": "stream",
     "text": [
      "Start date and last date of the test fold: (Timestamp('2021-08-08 00:00:00'), Timestamp('2021-08-22 00:00:00'))\n",
      "Test fold borders: ['2021-08-08' '2021-08-15']\n",
      "Real number of folds: 1\n"
     ]
    }
   ],
   "source": [
    "# train test split \n",
    "# test = last 1 week \n",
    "from rectools.model_selection import TimeRangeSplit\n",
    "\n",
    "n_folds = 1\n",
    "unit = \"W\"\n",
    "n_units = 1\n",
    "periods = n_folds + 1\n",
    "freq = f\"{n_units}{unit}\"\n",
    "\n",
    "last_date = interactions[Columns.Datetime].max().normalize()\n",
    "start_date = last_date - pd.Timedelta(n_folds * n_units + 1, unit=unit)  \n",
    "print(f\"Start date and last date of the test fold: {start_date, last_date}\")\n",
    "    \n",
    "date_range = pd.date_range(start=start_date, periods=periods, freq=freq, tz=last_date.tz)\n",
    "print(f\"Test fold borders: {date_range.values.astype('datetime64[D]')}\")\n",
    "\n",
    "# generator of folds\n",
    "cv = TimeRangeSplit(\n",
    "    date_range=date_range,\n",
    "    filter_already_seen=True,\n",
    "    filter_cold_items=True,\n",
    "    filter_cold_users=True,\n",
    ")\n",
    "print(f\"Real number of folds: {cv.get_n_splits(interactions)}\")"
   ]
  },
  {
   "cell_type": "code",
   "execution_count": 6,
   "id": "41791ed8",
   "metadata": {},
   "outputs": [],
   "source": [
    "\n",
    "(train_ids, test_ids, fold_info) = cv.split(interactions, collect_fold_stats=True).__next__()"
   ]
  },
  {
   "cell_type": "markdown",
   "id": "4726f477",
   "metadata": {},
   "source": [
    "## Prepare train matrix "
   ]
  },
  {
   "cell_type": "code",
   "execution_count": 18,
   "id": "dca99518",
   "metadata": {},
   "outputs": [],
   "source": [
    "train = interactions.loc[train_ids]\n",
    "test = interactions.loc[test_ids]"
   ]
  },
  {
   "cell_type": "code",
   "execution_count": 19,
   "id": "c80a50c3",
   "metadata": {},
   "outputs": [],
   "source": [
    "users_inv_mapping = dict(enumerate(train['user_id'].unique()))\n",
    "users_mapping = {v: k for k, v in users_inv_mapping.items()}"
   ]
  },
  {
   "cell_type": "code",
   "execution_count": 20,
   "id": "d72a7423",
   "metadata": {},
   "outputs": [],
   "source": [
    "items_inv_mapping = dict(enumerate(train['item_id'].unique()))\n",
    "items_mapping = {v: k for k, v in items_inv_mapping.items()}"
   ]
  },
  {
   "cell_type": "code",
   "execution_count": 21,
   "id": "3759a035",
   "metadata": {},
   "outputs": [],
   "source": [
    "def get_coo_matrix(df, \n",
    "                   user_col='user_id', \n",
    "                   item_col='item_id', \n",
    "                   weight_col=None, \n",
    "                   users_mapping=None, \n",
    "                   items_mapping=None):\n",
    "    if weight_col:\n",
    "        weights = df[weight_col].astype(np.float32)\n",
    "    else:\n",
    "        weights = np.ones(len(df), dtype=np.float32)\n",
    "\n",
    "    interaction_matrix = sp.sparse.coo_matrix((\n",
    "        weights, \n",
    "        (\n",
    "            df[user_col].map(users_mapping.get), \n",
    "            df[item_col].map(items_mapping.get)\n",
    "        )\n",
    "    ))\n",
    "    return interaction_matrix"
   ]
  },
  {
   "cell_type": "code",
   "execution_count": 22,
   "id": "e6c814e2",
   "metadata": {},
   "outputs": [],
   "source": [
    "interaction_matrix = get_coo_matrix(train, weight_col='weight',\n",
    "                                    users_mapping=users_mapping, \n",
    "                                    items_mapping=items_mapping)"
   ]
  },
  {
   "cell_type": "markdown",
   "id": "60bf2813",
   "metadata": {},
   "source": [
    "## Selection of models and parameters"
   ]
  },
  {
   "cell_type": "code",
   "execution_count": 33,
   "id": "b7ff3d28",
   "metadata": {},
   "outputs": [],
   "source": [
    "from rectools.dataset import Dataset\n",
    "\n",
    "dataset = Dataset.construct(\n",
    "    interactions_df=train,\n",
    "    user_features_df=None,\n",
    "    item_features_df=None\n",
    ")"
   ]
  },
  {
   "cell_type": "code",
   "execution_count": 35,
   "id": "79ffd21b",
   "metadata": {},
   "outputs": [],
   "source": [
    "from implicit.nearest_neighbours import CosineRecommender, BM25Recommender\n",
    "from rectools.models.implicit_knn import ImplicitItemKNNWrapperModel"
   ]
  },
  {
   "cell_type": "code",
   "execution_count": 45,
   "id": "fe9952e3",
   "metadata": {},
   "outputs": [],
   "source": [
    "from rectools.metrics import Precision, Recall, MAP, calc_metrics\n",
    "\n",
    "metrics = {\n",
    "    \"prec@10\": Precision(k=10),\n",
    "    \"recall@10\": Recall(k=10),\n",
    "    \"map@10\": MAP(k=10)\n",
    "}\n",
    "\n",
    "catalog = train['item_id'].unique()"
   ]
  },
  {
   "cell_type": "code",
   "execution_count": 73,
   "id": "70f5b9de",
   "metadata": {},
   "outputs": [],
   "source": [
    "res = dict()\n",
    "\n",
    "\n",
    "for n, recommender in (('CosineRecommender', CosineRecommender), ('BM25Recommender', BM25Recommender)):\n",
    "    for k in [10, 20, 30, 50]:\n",
    "        model = ImplicitItemKNNWrapperModel(model=recommender(K=k))\n",
    "        model.fit(dataset);\n",
    "        \n",
    "        rec = model.recommend(\n",
    "            test['user_id'].unique(), \n",
    "            dataset=dataset, \n",
    "            k=10, \n",
    "            filter_viewed=False\n",
    "        )\n",
    "        \n",
    "        metric_values_itemknn = calc_metrics(\n",
    "            metrics,\n",
    "            reco=rec,\n",
    "            interactions=test,\n",
    "            prev_interactions=train,\n",
    "            catalog=catalog\n",
    "        )\n",
    "        \n",
    "        res[f'{n}_{k}'] = metric_values_itemknn\n"
   ]
  },
  {
   "cell_type": "code",
   "execution_count": 74,
   "id": "c70aed25",
   "metadata": {},
   "outputs": [
    {
     "data": {
      "text/html": [
       "<div>\n",
       "<style scoped>\n",
       "    .dataframe tbody tr th:only-of-type {\n",
       "        vertical-align: middle;\n",
       "    }\n",
       "\n",
       "    .dataframe tbody tr th {\n",
       "        vertical-align: top;\n",
       "    }\n",
       "\n",
       "    .dataframe thead th {\n",
       "        text-align: right;\n",
       "    }\n",
       "</style>\n",
       "<table border=\"1\" class=\"dataframe\">\n",
       "  <thead>\n",
       "    <tr style=\"text-align: right;\">\n",
       "      <th></th>\n",
       "      <th>CosineRecommender_10</th>\n",
       "      <th>CosineRecommender_20</th>\n",
       "      <th>CosineRecommender_30</th>\n",
       "      <th>CosineRecommender_50</th>\n",
       "      <th>BM25Recommender_10</th>\n",
       "      <th>BM25Recommender_20</th>\n",
       "      <th>BM25Recommender_30</th>\n",
       "      <th>BM25Recommender_50</th>\n",
       "    </tr>\n",
       "  </thead>\n",
       "  <tbody>\n",
       "    <tr>\n",
       "      <th>prec@10</th>\n",
       "      <td>0.016868</td>\n",
       "      <td>0.017216</td>\n",
       "      <td>0.017312</td>\n",
       "      <td>0.017445</td>\n",
       "      <td>0.032703</td>\n",
       "      <td>0.032569</td>\n",
       "      <td>0.032522</td>\n",
       "      <td>0.032494</td>\n",
       "    </tr>\n",
       "    <tr>\n",
       "      <th>recall@10</th>\n",
       "      <td>0.093154</td>\n",
       "      <td>0.094826</td>\n",
       "      <td>0.095209</td>\n",
       "      <td>0.095812</td>\n",
       "      <td>0.169153</td>\n",
       "      <td>0.168536</td>\n",
       "      <td>0.168340</td>\n",
       "      <td>0.168239</td>\n",
       "    </tr>\n",
       "    <tr>\n",
       "      <th>map@10</th>\n",
       "      <td>0.023014</td>\n",
       "      <td>0.023095</td>\n",
       "      <td>0.023146</td>\n",
       "      <td>0.023214</td>\n",
       "      <td>0.048648</td>\n",
       "      <td>0.048371</td>\n",
       "      <td>0.048277</td>\n",
       "      <td>0.048200</td>\n",
       "    </tr>\n",
       "  </tbody>\n",
       "</table>\n",
       "</div>"
      ],
      "text/plain": [
       "           CosineRecommender_10  CosineRecommender_20  CosineRecommender_30  \\\n",
       "prec@10                0.016868              0.017216              0.017312   \n",
       "recall@10              0.093154              0.094826              0.095209   \n",
       "map@10                 0.023014              0.023095              0.023146   \n",
       "\n",
       "           CosineRecommender_50  BM25Recommender_10  BM25Recommender_20  \\\n",
       "prec@10                0.017445            0.032703            0.032569   \n",
       "recall@10              0.095812            0.169153            0.168536   \n",
       "map@10                 0.023214            0.048648            0.048371   \n",
       "\n",
       "           BM25Recommender_30  BM25Recommender_50  \n",
       "prec@10              0.032522            0.032494  \n",
       "recall@10            0.168340            0.168239  \n",
       "map@10               0.048277            0.048200  "
      ]
     },
     "execution_count": 74,
     "metadata": {},
     "output_type": "execute_result"
    }
   ],
   "source": [
    "pd.DataFrame(res)"
   ]
  },
  {
   "cell_type": "code",
   "execution_count": 75,
   "id": "8834a80a",
   "metadata": {},
   "outputs": [],
   "source": [
    "res_filter_viewed = dict()\n",
    "\n",
    "\n",
    "for n, recommender in (('CosineRecommender', CosineRecommender), ('BM25Recommender', BM25Recommender)):\n",
    "    for k in [10, 20, 30, 50]:\n",
    "        model = ImplicitItemKNNWrapperModel(model=recommender(K=k))\n",
    "        model.fit(dataset);\n",
    "        \n",
    "        rec = model.recommend(\n",
    "            test['user_id'].unique(), \n",
    "            dataset=dataset, \n",
    "            k=10, \n",
    "            filter_viewed=True\n",
    "        )\n",
    "        \n",
    "        metric_values_itemknn = calc_metrics(\n",
    "            metrics,\n",
    "            reco=rec,\n",
    "            interactions=test,\n",
    "            prev_interactions=train,\n",
    "            catalog=catalog\n",
    "        )\n",
    "        \n",
    "        res_filter_viewed[f'{n}_{k}'] = metric_values_itemknn"
   ]
  },
  {
   "cell_type": "code",
   "execution_count": 76,
   "id": "78c9f1cf",
   "metadata": {},
   "outputs": [
    {
     "data": {
      "text/html": [
       "<div>\n",
       "<style scoped>\n",
       "    .dataframe tbody tr th:only-of-type {\n",
       "        vertical-align: middle;\n",
       "    }\n",
       "\n",
       "    .dataframe tbody tr th {\n",
       "        vertical-align: top;\n",
       "    }\n",
       "\n",
       "    .dataframe thead th {\n",
       "        text-align: right;\n",
       "    }\n",
       "</style>\n",
       "<table border=\"1\" class=\"dataframe\">\n",
       "  <thead>\n",
       "    <tr style=\"text-align: right;\">\n",
       "      <th></th>\n",
       "      <th>CosineRecommender_10</th>\n",
       "      <th>CosineRecommender_20</th>\n",
       "      <th>CosineRecommender_30</th>\n",
       "      <th>CosineRecommender_50</th>\n",
       "      <th>BM25Recommender_10</th>\n",
       "      <th>BM25Recommender_20</th>\n",
       "      <th>BM25Recommender_30</th>\n",
       "      <th>BM25Recommender_50</th>\n",
       "    </tr>\n",
       "  </thead>\n",
       "  <tbody>\n",
       "    <tr>\n",
       "      <th>prec@10</th>\n",
       "      <td>0.022915</td>\n",
       "      <td>0.025375</td>\n",
       "      <td>0.025878</td>\n",
       "      <td>0.026411</td>\n",
       "      <td>0.039367</td>\n",
       "      <td>0.038933</td>\n",
       "      <td>0.038977</td>\n",
       "      <td>0.038951</td>\n",
       "    </tr>\n",
       "    <tr>\n",
       "      <th>recall@10</th>\n",
       "      <td>0.119112</td>\n",
       "      <td>0.131688</td>\n",
       "      <td>0.133881</td>\n",
       "      <td>0.135827</td>\n",
       "      <td>0.198890</td>\n",
       "      <td>0.198348</td>\n",
       "      <td>0.198759</td>\n",
       "      <td>0.198882</td>\n",
       "    </tr>\n",
       "    <tr>\n",
       "      <th>map@10</th>\n",
       "      <td>0.058292</td>\n",
       "      <td>0.060869</td>\n",
       "      <td>0.061515</td>\n",
       "      <td>0.062209</td>\n",
       "      <td>0.095622</td>\n",
       "      <td>0.095578</td>\n",
       "      <td>0.095633</td>\n",
       "      <td>0.095661</td>\n",
       "    </tr>\n",
       "  </tbody>\n",
       "</table>\n",
       "</div>"
      ],
      "text/plain": [
       "           CosineRecommender_10  CosineRecommender_20  CosineRecommender_30  \\\n",
       "prec@10                0.022915              0.025375              0.025878   \n",
       "recall@10              0.119112              0.131688              0.133881   \n",
       "map@10                 0.058292              0.060869              0.061515   \n",
       "\n",
       "           CosineRecommender_50  BM25Recommender_10  BM25Recommender_20  \\\n",
       "prec@10                0.026411            0.039367            0.038933   \n",
       "recall@10              0.135827            0.198890            0.198348   \n",
       "map@10                 0.062209            0.095622            0.095578   \n",
       "\n",
       "           BM25Recommender_30  BM25Recommender_50  \n",
       "prec@10              0.038977            0.038951  \n",
       "recall@10            0.198759            0.198882  \n",
       "map@10               0.095633            0.095661  "
      ]
     },
     "execution_count": 76,
     "metadata": {},
     "output_type": "execute_result"
    }
   ],
   "source": [
    "pd.DataFrame(res_filter_viewed)"
   ]
  },
  {
   "cell_type": "markdown",
   "id": "883f8333",
   "metadata": {},
   "source": [
    "## top model + popular "
   ]
  },
  {
   "cell_type": "code",
   "execution_count": 78,
   "id": "ab2191be",
   "metadata": {},
   "outputs": [],
   "source": [
    "model = ImplicitItemKNNWrapperModel(model=BM25Recommender(K=10))\n",
    "model.fit(dataset);\n",
    "\n",
    "rec = model.recommend(\n",
    "            test['user_id'].unique(), \n",
    "            dataset=dataset, \n",
    "            k=10, \n",
    "            filter_viewed=True\n",
    "        )"
   ]
  },
  {
   "cell_type": "code",
   "execution_count": 79,
   "id": "f6a09714",
   "metadata": {},
   "outputs": [
    {
     "data": {
      "text/html": [
       "<div>\n",
       "<style scoped>\n",
       "    .dataframe tbody tr th:only-of-type {\n",
       "        vertical-align: middle;\n",
       "    }\n",
       "\n",
       "    .dataframe tbody tr th {\n",
       "        vertical-align: top;\n",
       "    }\n",
       "\n",
       "    .dataframe thead th {\n",
       "        text-align: right;\n",
       "    }\n",
       "</style>\n",
       "<table border=\"1\" class=\"dataframe\">\n",
       "  <thead>\n",
       "    <tr style=\"text-align: right;\">\n",
       "      <th></th>\n",
       "      <th>user_id</th>\n",
       "      <th>item_id</th>\n",
       "      <th>score</th>\n",
       "      <th>rank</th>\n",
       "    </tr>\n",
       "  </thead>\n",
       "  <tbody>\n",
       "    <tr>\n",
       "      <th>0</th>\n",
       "      <td>1016458</td>\n",
       "      <td>15297</td>\n",
       "      <td>2.310958e+11</td>\n",
       "      <td>1</td>\n",
       "    </tr>\n",
       "    <tr>\n",
       "      <th>1</th>\n",
       "      <td>1016458</td>\n",
       "      <td>9728</td>\n",
       "      <td>1.383204e+11</td>\n",
       "      <td>2</td>\n",
       "    </tr>\n",
       "    <tr>\n",
       "      <th>2</th>\n",
       "      <td>1016458</td>\n",
       "      <td>4151</td>\n",
       "      <td>1.118531e+11</td>\n",
       "      <td>3</td>\n",
       "    </tr>\n",
       "    <tr>\n",
       "      <th>3</th>\n",
       "      <td>1016458</td>\n",
       "      <td>3734</td>\n",
       "      <td>9.677232e+10</td>\n",
       "      <td>4</td>\n",
       "    </tr>\n",
       "    <tr>\n",
       "      <th>4</th>\n",
       "      <td>1016458</td>\n",
       "      <td>2657</td>\n",
       "      <td>9.495974e+10</td>\n",
       "      <td>5</td>\n",
       "    </tr>\n",
       "  </tbody>\n",
       "</table>\n",
       "</div>"
      ],
      "text/plain": [
       "   user_id  item_id         score  rank\n",
       "0  1016458    15297  2.310958e+11     1\n",
       "1  1016458     9728  1.383204e+11     2\n",
       "2  1016458     4151  1.118531e+11     3\n",
       "3  1016458     3734  9.677232e+10     4\n",
       "4  1016458     2657  9.495974e+10     5"
      ]
     },
     "execution_count": 79,
     "metadata": {},
     "output_type": "execute_result"
    }
   ],
   "source": [
    "rec.head()"
   ]
  },
  {
   "cell_type": "code",
   "execution_count": 80,
   "id": "e7bea69a",
   "metadata": {},
   "outputs": [],
   "source": [
    "from rectools.models.popular import PopularModel \n",
    "\n",
    "pop = PopularModel()\n",
    "pop.fit(dataset);\n",
    "\n",
    "pop_rec = pop.recommend(\n",
    "    dataset.user_id_map.external_ids[:1], \n",
    "    dataset=dataset, \n",
    "    k=10, \n",
    "    filter_viewed=True\n",
    ")"
   ]
  },
  {
   "cell_type": "code",
   "execution_count": 81,
   "id": "050b91ef",
   "metadata": {},
   "outputs": [
    {
     "data": {
      "text/html": [
       "<div>\n",
       "<style scoped>\n",
       "    .dataframe tbody tr th:only-of-type {\n",
       "        vertical-align: middle;\n",
       "    }\n",
       "\n",
       "    .dataframe tbody tr th {\n",
       "        vertical-align: top;\n",
       "    }\n",
       "\n",
       "    .dataframe thead th {\n",
       "        text-align: right;\n",
       "    }\n",
       "</style>\n",
       "<table border=\"1\" class=\"dataframe\">\n",
       "  <thead>\n",
       "    <tr style=\"text-align: right;\">\n",
       "      <th></th>\n",
       "      <th>user_id</th>\n",
       "      <th>item_id</th>\n",
       "      <th>score</th>\n",
       "      <th>rank</th>\n",
       "    </tr>\n",
       "  </thead>\n",
       "  <tbody>\n",
       "    <tr>\n",
       "      <th>0</th>\n",
       "      <td>1016458</td>\n",
       "      <td>15297</td>\n",
       "      <td>2.310958e+11</td>\n",
       "      <td>1</td>\n",
       "    </tr>\n",
       "    <tr>\n",
       "      <th>1</th>\n",
       "      <td>1016458</td>\n",
       "      <td>9728</td>\n",
       "      <td>1.383204e+11</td>\n",
       "      <td>2</td>\n",
       "    </tr>\n",
       "    <tr>\n",
       "      <th>2</th>\n",
       "      <td>1016458</td>\n",
       "      <td>4151</td>\n",
       "      <td>1.118531e+11</td>\n",
       "      <td>3</td>\n",
       "    </tr>\n",
       "    <tr>\n",
       "      <th>3</th>\n",
       "      <td>1016458</td>\n",
       "      <td>3734</td>\n",
       "      <td>9.677232e+10</td>\n",
       "      <td>4</td>\n",
       "    </tr>\n",
       "    <tr>\n",
       "      <th>4</th>\n",
       "      <td>1016458</td>\n",
       "      <td>2657</td>\n",
       "      <td>9.495974e+10</td>\n",
       "      <td>5</td>\n",
       "    </tr>\n",
       "  </tbody>\n",
       "</table>\n",
       "</div>"
      ],
      "text/plain": [
       "   user_id  item_id         score  rank\n",
       "0  1016458    15297  2.310958e+11     1\n",
       "1  1016458     9728  1.383204e+11     2\n",
       "2  1016458     4151  1.118531e+11     3\n",
       "3  1016458     3734  9.677232e+10     4\n",
       "4  1016458     2657  9.495974e+10     5"
      ]
     },
     "execution_count": 81,
     "metadata": {},
     "output_type": "execute_result"
    }
   ],
   "source": [
    "com_recs = pd.concat((rec, pop_rec)).drop_duplicates()\n",
    "com_recs.head()"
   ]
  },
  {
   "cell_type": "code",
   "execution_count": 82,
   "id": "d565cdac",
   "metadata": {},
   "outputs": [
    {
     "data": {
      "text/plain": [
       "{'prec@10': 0.039367345537981824,\n",
       " 'recall@10': 0.19889028267943354,\n",
       " 'map@10': 0.09562182706507105}"
      ]
     },
     "execution_count": 82,
     "metadata": {},
     "output_type": "execute_result"
    }
   ],
   "source": [
    "calc_metrics(\n",
    "        metrics,\n",
    "        reco=com_recs,\n",
    "        interactions=test,\n",
    "        prev_interactions=train,\n",
    "        catalog=catalog\n",
    "    )"
   ]
  },
  {
   "cell_type": "markdown",
   "id": "0b3717fb",
   "metadata": {},
   "source": [
    " For cold users"
   ]
  },
  {
   "cell_type": "code",
   "execution_count": 69,
   "id": "ca430e3b",
   "metadata": {},
   "outputs": [
    {
     "data": {
      "text/plain": [
       "[59226, 54373, 54115, 27752, 23812, 23253, 20967, 18909, 18878, 13305]"
      ]
     },
     "execution_count": 69,
     "metadata": {},
     "output_type": "execute_result"
    }
   ],
   "source": [
    "# popular for last mounth\n",
    "import datetime as DT\n",
    "\n",
    "interactions_month = interactions[interactions['datetime'] >\n",
    "                                  (interactions['datetime'].max() - DT.timedelta(days=30))]\n",
    "\n",
    "popular_recs_month = list(interactions_month.item_id.value_counts()[:10])\n",
    "popular_recs_month"
   ]
  },
  {
   "cell_type": "code",
   "execution_count": null,
   "id": "df58a31b",
   "metadata": {},
   "outputs": [],
   "source": []
  }
 ],
 "metadata": {
  "kernelspec": {
   "display_name": "Python 3 (ipykernel)",
   "language": "python",
   "name": "python3"
  },
  "language_info": {
   "codemirror_mode": {
    "name": "ipython",
    "version": 3
   },
   "file_extension": ".py",
   "mimetype": "text/x-python",
   "name": "python",
   "nbconvert_exporter": "python",
   "pygments_lexer": "ipython3",
   "version": "3.9.15"
  }
 },
 "nbformat": 4,
 "nbformat_minor": 5
}
